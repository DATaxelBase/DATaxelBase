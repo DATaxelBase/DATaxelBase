{
 "cells": [
  {
   "cell_type": "markdown",
   "id": "08f3d531",
   "metadata": {},
   "source": [
    "# Trip duration prediction model"
   ]
  },
  {
   "cell_type": "markdown",
   "id": "cc4da42c",
   "metadata": {},
   "source": [
    "At some point or the other almost each one of us has used an Ola or Uber for taking a ride.\n",
    "\n",
    "<p align = \"center\"> <img  src = \"./Uber.jpg\" alt = \"New York City Taxi Uber\">\n",
    "</p>\n",
    "\n",
    "Ride hailing services are services that use online-enabled platforms to connect between passengers and local drivers using their personal vehicles. In most cases they are a comfortable method for door-to-door transport. Usually they are cheaper than using licensed taxicabs. Examples of ride hailing services include Uber and Lyft.\n",
    "\n",
    "To improve the efficiency of taxi dispatching systems for such services, it's important to be able to predict how long a driver will have his taxi occupied. If a dispatcher knew approximately when a taxi driver would be ending their current ride, they would be better able to identify which driver to assign to each pickup request."
   ]
  },
  {
   "cell_type": "markdown",
   "id": "cdbc9426",
   "metadata": {},
   "source": [
    "## Recall of features"
   ]
  },
  {
   "cell_type": "markdown",
   "id": "e4c893a0",
   "metadata": {},
   "source": [
    "> #### Initial Features\n",
    "\n",
    "| **`Columns`**        | **`Description`**  |  \n",
    "| ------------- |-------------:|\n",
    "| id  | A unique identifier for each trip|\n",
    "| vendor_id |A code indicating the provider associated with the trip record|\n",
    "| pickup_datetime| Date and time when the meter was engaged|\n",
    "| dropoff_datetime| Date and time when the meter was disengaged|\n",
    "|passenger_count|Number of passengers in vehicle during trip|\n",
    "| pickup_latitude |Pickup location Latitude|\n",
    "| pickup_longitude |  Pickup location Longitude|\n",
    "| dropoff_latitude    | Dropoff location latitude  |\n",
    "| dropoff_longitude     | Dropoff location longitude|\n",
    "| store_and_fwd_flag |This flag indicated whether the trip record was held in vehicle memory before sending to the vendor because the vehicle did not have a connection to the server (Y for yes / N for no )|\n",
    "| trip_duration  | Duration of Trip |\n",
    "\n",
    "> ### After Assessing and EDA\n",
    "\n",
    "| **`Columns`**        | **`Description`**  |  \n",
    "| ------------- |-------------:|\n",
    "| passenger_count |Number of passengers in vehicle during trip|\n",
    "| trip_duration  | Duration of Trip |\n",
    "|month_pickup_datetime|Month of pickup extracted from pickup datetime feature|\n",
    "|hour_pickup_datetime|Hour of pickup extracted from pickup datetime feature|\n",
    "|day_pickup_datetime|Day of pickup extracted from pickup datetime feature|\n",
    "|month_dropoff_datetime|Month of Dropoff extracted from Dropoff datetime feature|\n",
    "|hour_dropoff_datetime|Hour of Dropoff extracted from Dropoff datetime feature|\n",
    "|day_dropoff_datetime|Day of Dropoff extracted from Dropoff datetime feature|\n",
    "|Distance_pick_drop | Distance computed for trip|\n",
    "|day_moments| Moments of day (Morning, afternoon, evening,...)|\n",
    "|distance_slots|short or long distance|\n",
    "\n",
    "> ### Full summary of EDA\n",
    "\n",
    "* There is similar relation between the pickup and dropoff moments.\n",
    "* The outliers are in number in data. We should manage them to justify the pickup and dropoff moments.\n",
    "* We removed from data , trips without passengers.\n",
    "* Too many variables with insignificant correlation.But the day, month and hour of pickups are highly correlated to those of dropoff.\n",
    "* The distance_pick_drop is moderately correlated to trip duration by referring to Spearman comparison.\n",
    "* The difference between the distances by day moments is very significant.\n",
    "* The difference between the number of passengers by day moments is very significant. We can see that most of long distance are made during evening by taxi having between 2 and 4 passengers. As the distance increases, the number of passengers decreases.\n",
    "* The difference between the trip duration during day and by night is significant. Also between trip duration for evening and middle morning, and also between all others day moments. \n",
    "* As expected the trip duration increases with the distance traveled.\n",
    "* The difference between the trip distance with 1 and more passengers is significant. The difference between the trip duration with 2 passengers and 3 up to 4 passengers is not significant. But from 5 passengers the trip duration decreases significantly compared to with 2, 3, 4. Therefore the difference between taxi travel time with 5 and 6 passengers is not significant.\n"
   ]
  },
  {
   "cell_type": "markdown",
   "id": "da7f58b5",
   "metadata": {},
   "source": [
    "## Loading Packages"
   ]
  },
  {
   "cell_type": "code",
   "execution_count": 1,
   "id": "e6baaa1c",
   "metadata": {},
   "outputs": [],
   "source": [
    "import numpy as np\n",
    "import pandas as pd\n",
    "import seaborn as sb\n",
    "import matplotlib.pyplot as plt\n",
    "%matplotlib inline\n",
    "from sklearn.preprocessing import LabelEncoder\n",
    "from sklearn.preprocessing import StandardScaler\n",
    "from sklearn.model_selection import KFold, StratifiedKFold, train_test_split\n",
    "from sklearn.metrics import mean_squared_error,accuracy_score,r2_score,median_absolute_error\n",
    "import warnings\n",
    "warnings.simplefilter(action='ignore', category=FutureWarning)\n",
    "warnings.simplefilter(action='ignore', category=UserWarning)"
   ]
  },
  {
   "cell_type": "markdown",
   "id": "57b12a5d",
   "metadata": {},
   "source": [
    "## Loading Data"
   ]
  },
  {
   "cell_type": "code",
   "execution_count": 2,
   "id": "3eb5ecb2",
   "metadata": {},
   "outputs": [],
   "source": [
    "df = pd.read_csv('./trip_data.csv')"
   ]
  },
  {
   "cell_type": "code",
   "execution_count": 3,
   "id": "dffa2024",
   "metadata": {},
   "outputs": [
    {
     "data": {
      "text/html": [
       "<div>\n",
       "<style scoped>\n",
       "    .dataframe tbody tr th:only-of-type {\n",
       "        vertical-align: middle;\n",
       "    }\n",
       "\n",
       "    .dataframe tbody tr th {\n",
       "        vertical-align: top;\n",
       "    }\n",
       "\n",
       "    .dataframe thead th {\n",
       "        text-align: right;\n",
       "    }\n",
       "</style>\n",
       "<table border=\"1\" class=\"dataframe\">\n",
       "  <thead>\n",
       "    <tr style=\"text-align: right;\">\n",
       "      <th></th>\n",
       "      <th>passenger_count</th>\n",
       "      <th>trip_duration</th>\n",
       "      <th>day_pickup_datetime</th>\n",
       "      <th>month_pickup_datetime</th>\n",
       "      <th>hour_pickup_datetime</th>\n",
       "      <th>day_dropoff_datetime</th>\n",
       "      <th>month_dropoff_datetime</th>\n",
       "      <th>hour_dropoff_datetime</th>\n",
       "      <th>Distance_pick_drop</th>\n",
       "      <th>day_moments</th>\n",
       "      <th>distance_slots</th>\n",
       "    </tr>\n",
       "  </thead>\n",
       "  <tbody>\n",
       "    <tr>\n",
       "      <th>0</th>\n",
       "      <td>1</td>\n",
       "      <td>400.0</td>\n",
       "      <td>29</td>\n",
       "      <td>2</td>\n",
       "      <td>16</td>\n",
       "      <td>29</td>\n",
       "      <td>2</td>\n",
       "      <td>16</td>\n",
       "      <td>1.199073</td>\n",
       "      <td>Afternoon</td>\n",
       "      <td>Shortest_distance</td>\n",
       "    </tr>\n",
       "    <tr>\n",
       "      <th>1</th>\n",
       "      <td>2</td>\n",
       "      <td>1100.0</td>\n",
       "      <td>11</td>\n",
       "      <td>3</td>\n",
       "      <td>23</td>\n",
       "      <td>11</td>\n",
       "      <td>3</td>\n",
       "      <td>23</td>\n",
       "      <td>4.129111</td>\n",
       "      <td>Evening</td>\n",
       "      <td>Long_distance</td>\n",
       "    </tr>\n",
       "    <tr>\n",
       "      <th>2</th>\n",
       "      <td>2</td>\n",
       "      <td>1635.0</td>\n",
       "      <td>21</td>\n",
       "      <td>2</td>\n",
       "      <td>17</td>\n",
       "      <td>21</td>\n",
       "      <td>2</td>\n",
       "      <td>18</td>\n",
       "      <td>7.250753</td>\n",
       "      <td>Afternoon</td>\n",
       "      <td>Long_distance</td>\n",
       "    </tr>\n",
       "    <tr>\n",
       "      <th>3</th>\n",
       "      <td>6</td>\n",
       "      <td>1141.0</td>\n",
       "      <td>5</td>\n",
       "      <td>1</td>\n",
       "      <td>9</td>\n",
       "      <td>5</td>\n",
       "      <td>1</td>\n",
       "      <td>10</td>\n",
       "      <td>2.361097</td>\n",
       "      <td>Early_morning</td>\n",
       "      <td>Shortest_distance</td>\n",
       "    </tr>\n",
       "    <tr>\n",
       "      <th>4</th>\n",
       "      <td>1</td>\n",
       "      <td>848.0</td>\n",
       "      <td>17</td>\n",
       "      <td>2</td>\n",
       "      <td>6</td>\n",
       "      <td>17</td>\n",
       "      <td>2</td>\n",
       "      <td>6</td>\n",
       "      <td>4.328534</td>\n",
       "      <td>Early_morning</td>\n",
       "      <td>Long_distance</td>\n",
       "    </tr>\n",
       "  </tbody>\n",
       "</table>\n",
       "</div>"
      ],
      "text/plain": [
       "   passenger_count  trip_duration  day_pickup_datetime  month_pickup_datetime  \\\n",
       "0                1          400.0                   29                      2   \n",
       "1                2         1100.0                   11                      3   \n",
       "2                2         1635.0                   21                      2   \n",
       "3                6         1141.0                    5                      1   \n",
       "4                1          848.0                   17                      2   \n",
       "\n",
       "   hour_pickup_datetime  day_dropoff_datetime  month_dropoff_datetime  \\\n",
       "0                    16                    29                       2   \n",
       "1                    23                    11                       3   \n",
       "2                    17                    21                       2   \n",
       "3                     9                     5                       1   \n",
       "4                     6                    17                       2   \n",
       "\n",
       "   hour_dropoff_datetime  Distance_pick_drop    day_moments     distance_slots  \n",
       "0                     16            1.199073      Afternoon  Shortest_distance  \n",
       "1                     23            4.129111        Evening      Long_distance  \n",
       "2                     18            7.250753      Afternoon      Long_distance  \n",
       "3                     10            2.361097  Early_morning  Shortest_distance  \n",
       "4                      6            4.328534  Early_morning      Long_distance  "
      ]
     },
     "execution_count": 3,
     "metadata": {},
     "output_type": "execute_result"
    }
   ],
   "source": [
    "df.head()"
   ]
  },
  {
   "cell_type": "code",
   "execution_count": 4,
   "id": "4bf00b26",
   "metadata": {},
   "outputs": [
    {
     "data": {
      "text/plain": [
       "passenger_count             int64\n",
       "trip_duration             float64\n",
       "day_pickup_datetime         int64\n",
       "month_pickup_datetime       int64\n",
       "hour_pickup_datetime        int64\n",
       "day_dropoff_datetime        int64\n",
       "month_dropoff_datetime      int64\n",
       "hour_dropoff_datetime       int64\n",
       "Distance_pick_drop        float64\n",
       "day_moments                object\n",
       "distance_slots             object\n",
       "dtype: object"
      ]
     },
     "execution_count": 4,
     "metadata": {},
     "output_type": "execute_result"
    }
   ],
   "source": [
    "df.dtypes"
   ]
  },
  {
   "cell_type": "code",
   "execution_count": 5,
   "id": "209554d9",
   "metadata": {},
   "outputs": [
    {
     "data": {
      "text/html": [
       "<div>\n",
       "<style scoped>\n",
       "    .dataframe tbody tr th:only-of-type {\n",
       "        vertical-align: middle;\n",
       "    }\n",
       "\n",
       "    .dataframe tbody tr th {\n",
       "        vertical-align: top;\n",
       "    }\n",
       "\n",
       "    .dataframe thead th {\n",
       "        text-align: right;\n",
       "    }\n",
       "</style>\n",
       "<table border=\"1\" class=\"dataframe\">\n",
       "  <thead>\n",
       "    <tr style=\"text-align: right;\">\n",
       "      <th></th>\n",
       "      <th>day_moments</th>\n",
       "      <th>distance_slots</th>\n",
       "    </tr>\n",
       "  </thead>\n",
       "  <tbody>\n",
       "    <tr>\n",
       "      <th>count</th>\n",
       "      <td>726075</td>\n",
       "      <td>726075</td>\n",
       "    </tr>\n",
       "    <tr>\n",
       "      <th>unique</th>\n",
       "      <td>5</td>\n",
       "      <td>2</td>\n",
       "    </tr>\n",
       "    <tr>\n",
       "      <th>top</th>\n",
       "      <td>Evening</td>\n",
       "      <td>Shortest_distance</td>\n",
       "    </tr>\n",
       "    <tr>\n",
       "      <th>freq</th>\n",
       "      <td>249177</td>\n",
       "      <td>477794</td>\n",
       "    </tr>\n",
       "  </tbody>\n",
       "</table>\n",
       "</div>"
      ],
      "text/plain": [
       "       day_moments     distance_slots\n",
       "count       726075             726075\n",
       "unique           5                  2\n",
       "top        Evening  Shortest_distance\n",
       "freq        249177             477794"
      ]
     },
     "execution_count": 5,
     "metadata": {},
     "output_type": "execute_result"
    }
   ],
   "source": [
    "df.describe(include='O')"
   ]
  },
  {
   "cell_type": "markdown",
   "id": "63a71cfd",
   "metadata": {},
   "source": [
    "### Preprocessing\n",
    "\n",
    "Now, before applying linear model such as logistic regression and others, we need to scale the data and keep all features as numeric strictly. \n"
   ]
  },
  {
   "cell_type": "markdown",
   "id": "3f197ab6",
   "metadata": {},
   "source": [
    "### Dummies with Multiple Categories"
   ]
  },
  {
   "cell_type": "code",
   "execution_count": 6,
   "id": "853fa5ae",
   "metadata": {
    "scrolled": true
   },
   "outputs": [
    {
     "data": {
      "text/html": [
       "<div>\n",
       "<style scoped>\n",
       "    .dataframe tbody tr th:only-of-type {\n",
       "        vertical-align: middle;\n",
       "    }\n",
       "\n",
       "    .dataframe tbody tr th {\n",
       "        vertical-align: top;\n",
       "    }\n",
       "\n",
       "    .dataframe thead th {\n",
       "        text-align: right;\n",
       "    }\n",
       "</style>\n",
       "<table border=\"1\" class=\"dataframe\">\n",
       "  <thead>\n",
       "    <tr style=\"text-align: right;\">\n",
       "      <th></th>\n",
       "      <th>passenger_count</th>\n",
       "      <th>trip_duration</th>\n",
       "      <th>day_pickup_datetime</th>\n",
       "      <th>month_pickup_datetime</th>\n",
       "      <th>hour_pickup_datetime</th>\n",
       "      <th>day_dropoff_datetime</th>\n",
       "      <th>month_dropoff_datetime</th>\n",
       "      <th>hour_dropoff_datetime</th>\n",
       "      <th>Distance_pick_drop</th>\n",
       "      <th>day_moments</th>\n",
       "      <th>...</th>\n",
       "      <th>passenger_count_5</th>\n",
       "      <th>passenger_count_6</th>\n",
       "      <th>passenger_count_7</th>\n",
       "      <th>day_moments_Afternoon</th>\n",
       "      <th>day_moments_Early_morning</th>\n",
       "      <th>day_moments_Evening</th>\n",
       "      <th>day_moments_Full_night</th>\n",
       "      <th>day_moments_Middle_morning</th>\n",
       "      <th>distance_slots_Long_distance</th>\n",
       "      <th>distance_slots_Shortest_distance</th>\n",
       "    </tr>\n",
       "  </thead>\n",
       "  <tbody>\n",
       "    <tr>\n",
       "      <th>0</th>\n",
       "      <td>1</td>\n",
       "      <td>400.0</td>\n",
       "      <td>29</td>\n",
       "      <td>2</td>\n",
       "      <td>16</td>\n",
       "      <td>29</td>\n",
       "      <td>2</td>\n",
       "      <td>16</td>\n",
       "      <td>1.199073</td>\n",
       "      <td>Afternoon</td>\n",
       "      <td>...</td>\n",
       "      <td>0</td>\n",
       "      <td>0</td>\n",
       "      <td>0</td>\n",
       "      <td>1</td>\n",
       "      <td>0</td>\n",
       "      <td>0</td>\n",
       "      <td>0</td>\n",
       "      <td>0</td>\n",
       "      <td>0</td>\n",
       "      <td>1</td>\n",
       "    </tr>\n",
       "    <tr>\n",
       "      <th>1</th>\n",
       "      <td>2</td>\n",
       "      <td>1100.0</td>\n",
       "      <td>11</td>\n",
       "      <td>3</td>\n",
       "      <td>23</td>\n",
       "      <td>11</td>\n",
       "      <td>3</td>\n",
       "      <td>23</td>\n",
       "      <td>4.129111</td>\n",
       "      <td>Evening</td>\n",
       "      <td>...</td>\n",
       "      <td>0</td>\n",
       "      <td>0</td>\n",
       "      <td>0</td>\n",
       "      <td>0</td>\n",
       "      <td>0</td>\n",
       "      <td>1</td>\n",
       "      <td>0</td>\n",
       "      <td>0</td>\n",
       "      <td>1</td>\n",
       "      <td>0</td>\n",
       "    </tr>\n",
       "    <tr>\n",
       "      <th>2</th>\n",
       "      <td>2</td>\n",
       "      <td>1635.0</td>\n",
       "      <td>21</td>\n",
       "      <td>2</td>\n",
       "      <td>17</td>\n",
       "      <td>21</td>\n",
       "      <td>2</td>\n",
       "      <td>18</td>\n",
       "      <td>7.250753</td>\n",
       "      <td>Afternoon</td>\n",
       "      <td>...</td>\n",
       "      <td>0</td>\n",
       "      <td>0</td>\n",
       "      <td>0</td>\n",
       "      <td>1</td>\n",
       "      <td>0</td>\n",
       "      <td>0</td>\n",
       "      <td>0</td>\n",
       "      <td>0</td>\n",
       "      <td>1</td>\n",
       "      <td>0</td>\n",
       "    </tr>\n",
       "    <tr>\n",
       "      <th>3</th>\n",
       "      <td>6</td>\n",
       "      <td>1141.0</td>\n",
       "      <td>5</td>\n",
       "      <td>1</td>\n",
       "      <td>9</td>\n",
       "      <td>5</td>\n",
       "      <td>1</td>\n",
       "      <td>10</td>\n",
       "      <td>2.361097</td>\n",
       "      <td>Early_morning</td>\n",
       "      <td>...</td>\n",
       "      <td>0</td>\n",
       "      <td>1</td>\n",
       "      <td>0</td>\n",
       "      <td>0</td>\n",
       "      <td>1</td>\n",
       "      <td>0</td>\n",
       "      <td>0</td>\n",
       "      <td>0</td>\n",
       "      <td>0</td>\n",
       "      <td>1</td>\n",
       "    </tr>\n",
       "    <tr>\n",
       "      <th>4</th>\n",
       "      <td>1</td>\n",
       "      <td>848.0</td>\n",
       "      <td>17</td>\n",
       "      <td>2</td>\n",
       "      <td>6</td>\n",
       "      <td>17</td>\n",
       "      <td>2</td>\n",
       "      <td>6</td>\n",
       "      <td>4.328534</td>\n",
       "      <td>Early_morning</td>\n",
       "      <td>...</td>\n",
       "      <td>0</td>\n",
       "      <td>0</td>\n",
       "      <td>0</td>\n",
       "      <td>0</td>\n",
       "      <td>1</td>\n",
       "      <td>0</td>\n",
       "      <td>0</td>\n",
       "      <td>0</td>\n",
       "      <td>1</td>\n",
       "      <td>0</td>\n",
       "    </tr>\n",
       "  </tbody>\n",
       "</table>\n",
       "<p>5 rows × 25 columns</p>\n",
       "</div>"
      ],
      "text/plain": [
       "   passenger_count  trip_duration  day_pickup_datetime  month_pickup_datetime  \\\n",
       "0                1          400.0                   29                      2   \n",
       "1                2         1100.0                   11                      3   \n",
       "2                2         1635.0                   21                      2   \n",
       "3                6         1141.0                    5                      1   \n",
       "4                1          848.0                   17                      2   \n",
       "\n",
       "   hour_pickup_datetime  day_dropoff_datetime  month_dropoff_datetime  \\\n",
       "0                    16                    29                       2   \n",
       "1                    23                    11                       3   \n",
       "2                    17                    21                       2   \n",
       "3                     9                     5                       1   \n",
       "4                     6                    17                       2   \n",
       "\n",
       "   hour_dropoff_datetime  Distance_pick_drop    day_moments  ...  \\\n",
       "0                     16            1.199073      Afternoon  ...   \n",
       "1                     23            4.129111        Evening  ...   \n",
       "2                     18            7.250753      Afternoon  ...   \n",
       "3                     10            2.361097  Early_morning  ...   \n",
       "4                      6            4.328534  Early_morning  ...   \n",
       "\n",
       "  passenger_count_5  passenger_count_6  passenger_count_7  \\\n",
       "0                 0                  0                  0   \n",
       "1                 0                  0                  0   \n",
       "2                 0                  0                  0   \n",
       "3                 0                  1                  0   \n",
       "4                 0                  0                  0   \n",
       "\n",
       "   day_moments_Afternoon  day_moments_Early_morning  day_moments_Evening  \\\n",
       "0                      1                          0                    0   \n",
       "1                      0                          0                    1   \n",
       "2                      1                          0                    0   \n",
       "3                      0                          1                    0   \n",
       "4                      0                          1                    0   \n",
       "\n",
       "   day_moments_Full_night  day_moments_Middle_morning  \\\n",
       "0                       0                           0   \n",
       "1                       0                           0   \n",
       "2                       0                           0   \n",
       "3                       0                           0   \n",
       "4                       0                           0   \n",
       "\n",
       "   distance_slots_Long_distance  distance_slots_Shortest_distance  \n",
       "0                             0                                 1  \n",
       "1                             1                                 0  \n",
       "2                             1                                 0  \n",
       "3                             0                                 1  \n",
       "4                             1                                 0  \n",
       "\n",
       "[5 rows x 25 columns]"
      ]
     },
     "execution_count": 6,
     "metadata": {},
     "output_type": "execute_result"
    }
   ],
   "source": [
    "# Convert categorical variables to one hot encoded features\n",
    "cat_vars = ['passenger_count','day_moments','distance_slots']\n",
    "for el in cat_vars:\n",
    "    df = pd.concat([df,pd.get_dummies(df[el],prefix = str(el),prefix_sep='_')],axis = 1)\n",
    "df.head()"
   ]
  },
  {
   "cell_type": "code",
   "execution_count": 7,
   "id": "c4d95c13",
   "metadata": {},
   "outputs": [
    {
     "data": {
      "text/plain": [
       "(array([ 50659., 146457., 144868., 111909.,  81814.,  56273.,  39099.,\n",
       "         26903.,  18511.,  49582.]),\n",
       " array([1.00000e+00, 2.10450e+02, 4.19900e+02, 6.29350e+02, 8.38800e+02,\n",
       "        1.04825e+03, 1.25770e+03, 1.46715e+03, 1.67660e+03, 1.88605e+03,\n",
       "        2.09550e+03]),\n",
       " <BarContainer object of 10 artists>)"
      ]
     },
     "execution_count": 7,
     "metadata": {},
     "output_type": "execute_result"
    },
    {
     "data": {
      "image/png": "[encoded data removed]",
      "text/plain": [
       "<Figure size 640x480 with 1 Axes>"
      ]
     },
     "metadata": {},
     "output_type": "display_data"
    }
   ],
   "source": [
    "# Before scale numerical features let's see one more time its distribution\n",
    "plt.hist(df.trip_duration)"
   ]
  },
  {
   "cell_type": "code",
   "execution_count": 8,
   "id": "1745ed96",
   "metadata": {},
   "outputs": [
    {
     "data": {
      "text/plain": [
       "(array([ 68558., 191385., 142337.,  88973.,  55760.,  37122.,  26657.,\n",
       "         19993.,  14716.,  80574.]),\n",
       " array([1.06156854e-03, 7.87455412e-01, 1.57384925e+00, 2.36024310e+00,\n",
       "        3.14663694e+00, 3.93303078e+00, 4.71942463e+00, 5.50581847e+00,\n",
       "        6.29221231e+00, 7.07860616e+00, 7.86500000e+00]),\n",
       " <BarContainer object of 10 artists>)"
      ]
     },
     "execution_count": 8,
     "metadata": {},
     "output_type": "execute_result"
    },
    {
     "data": {
      "image/png": "[encoded data removed]",
      "text/plain": [
       "<Figure size 640x480 with 1 Axes>"
      ]
     },
     "metadata": {},
     "output_type": "display_data"
    }
   ],
   "source": [
    "plt.hist(df.Distance_pick_drop)"
   ]
  },
  {
   "cell_type": "code",
   "execution_count": 9,
   "id": "e7566b7a",
   "metadata": {},
   "outputs": [
    {
     "name": "stdout",
     "output_type": "stream",
     "text": [
      "       trip_duration  Distance_pick_drop\n",
      "count  726075.000000       726075.000000\n",
      "mean      802.864444            2.916481\n",
      "std       528.874250            2.247042\n",
      "min         1.000000            0.001062\n",
      "25%       398.000000            1.242392\n",
      "50%       664.000000            2.105738\n",
      "75%      1077.000000            3.889779\n",
      "max      2095.500000            7.865000\n",
      "trip_duration         0.969453\n",
      "Distance_pick_drop    1.100163\n",
      "dtype: float64\n"
     ]
    }
   ],
   "source": [
    "print(df[['trip_duration','Distance_pick_drop']].describe())\n",
    "print(df[['trip_duration','Distance_pick_drop']].skew())"
   ]
  },
  {
   "cell_type": "markdown",
   "id": "39ff80a3",
   "metadata": {},
   "source": [
    "The two numerical distributions are similar and strongly skewed at right."
   ]
  },
  {
   "cell_type": "markdown",
   "id": "4de7ac54",
   "metadata": {},
   "source": [
    "df = pd.read_csv('./trip_data.csv')"
   ]
  },
  {
   "cell_type": "markdown",
   "id": "af35bfc5",
   "metadata": {},
   "source": [
    "### Scaling Numerical Features for Logistic Regression\n",
    "\n",
    "* Log Transformation\n",
    "* Standard Scaler\n",
    "\n",
    "Standard scaling is anyways a necessity when it comes to linear models and we have done that here after doing log transformation on all numerical features."
   ]
  },
  {
   "cell_type": "code",
   "execution_count": 10,
   "id": "db2e7a95",
   "metadata": {},
   "outputs": [],
   "source": [
    "num_cols = ['Distance_pick_drop']\n",
    "for i in num_cols:\n",
    "    df[i] = np.log(df[i]+10)\n",
    "\n",
    "std = StandardScaler()\n",
    "scaled = std.fit_transform(df[num_cols])\n",
    "scaled = pd.DataFrame(scaled,columns=num_cols)"
   ]
  },
  {
   "cell_type": "code",
   "execution_count": 11,
   "id": "ab4d85d7",
   "metadata": {
    "scrolled": true
   },
   "outputs": [
    {
     "data": {
      "text/plain": [
       "(array([ 33635., 145164., 148321., 108733.,  73403.,  50028.,  35770.,\n",
       "         26699.,  20084.,  84238.]),\n",
       " array([-1.49309175, -1.13522592, -0.77736009, -0.41949427, -0.06162844,\n",
       "         0.29623739,  0.65410321,  1.01196904,  1.36983486,  1.72770069,\n",
       "         2.08556652]),\n",
       " <BarContainer object of 10 artists>)"
      ]
     },
     "execution_count": 11,
     "metadata": {},
     "output_type": "execute_result"
    },
    {
     "data": {
      "image/png": "[encoded data removed]",
      "text/plain": [
       "<Figure size 640x480 with 1 Axes>"
      ]
     },
     "metadata": {},
     "output_type": "display_data"
    }
   ],
   "source": [
    "plt.hist(scaled.Distance_pick_drop)"
   ]
  },
  {
   "cell_type": "code",
   "execution_count": 12,
   "id": "110a5ca9",
   "metadata": {},
   "outputs": [],
   "source": [
    "df_df_og = df.copy()\n",
    "df = df.drop(columns = num_cols,axis = 1)\n",
    "df = df.merge(scaled,left_index=True,right_index=True,how = \"left\")"
   ]
  },
  {
   "cell_type": "code",
   "execution_count": 13,
   "id": "da6851b8",
   "metadata": {},
   "outputs": [],
   "source": [
    "y_all = df.trip_duration"
   ]
  },
  {
   "cell_type": "markdown",
   "id": "ad33f916",
   "metadata": {},
   "source": [
    "## Model Building and Evaluation Metrics\n",
    "Since this is a regression problem, we could use the following 2 metrics:\n",
    "\n",
    "1. Mean Squared Error\n",
    "2. Adjusted R²\n",
    "\n",
    "We want to predict with good precision the trip duration. If the estimate time for a trip is more than reality that will not a matter but the reverse could discredit the taxi services.So we want reduce at maximum FP( False positive). As we are facing a regression problem the more suitable metrics are MSE/MAE or R²/Adjusted R².\n",
    "\n",
    "\n"
   ]
  },
  {
   "cell_type": "markdown",
   "id": "b55ee158",
   "metadata": {},
   "source": [
    "### Conclusions from EDA\n",
    "* The distance_pick_drop is moderately correlated to trip duration by referring to Spearman comparison.\n",
    "* The difference between the trip duration during day and by night is significant. Also between trip duration for evening and middle morning, and also between all others day moments. \n",
    "* As expected the trip duration increases with the distance traveled.\n",
    "* The difference between the trip distance with 1 and more passengers is significant. The difference between the trip duration with 2 passengers and 3 up to 4 passengers is not significant. But from 5 passengers the trip duration decreases significantly compared to with 2, 3, 4. Therefore the difference between taxi travel time with 5 and 6 passengers is not significant.\n",
    "\n",
    "Now, we will first split our dataset into test and train and using the above conclusions select columns and build a baseline logistic regression model to check the MSE Score & the R² score.\n"
   ]
  },
  {
   "cell_type": "markdown",
   "id": "8fcb4d09",
   "metadata": {},
   "source": [
    "### Baseline Columns"
   ]
  },
  {
   "cell_type": "code",
   "execution_count": 14,
   "id": "c5d19ddf",
   "metadata": {
    "scrolled": false
   },
   "outputs": [
    {
     "data": {
      "text/plain": [
       "Index(['passenger_count', 'trip_duration', 'day_pickup_datetime',\n",
       "       'month_pickup_datetime', 'hour_pickup_datetime', 'day_dropoff_datetime',\n",
       "       'month_dropoff_datetime', 'hour_dropoff_datetime', 'day_moments',\n",
       "       'distance_slots', 'passenger_count_1', 'passenger_count_2',\n",
       "       'passenger_count_3', 'passenger_count_4', 'passenger_count_5',\n",
       "       'passenger_count_6', 'passenger_count_7', 'day_moments_Afternoon',\n",
       "       'day_moments_Early_morning', 'day_moments_Evening',\n",
       "       'day_moments_Full_night', 'day_moments_Middle_morning',\n",
       "       'distance_slots_Long_distance', 'distance_slots_Shortest_distance',\n",
       "       'Distance_pick_drop'],\n",
       "      dtype='object')"
      ]
     },
     "execution_count": 14,
     "metadata": {},
     "output_type": "execute_result"
    }
   ],
   "source": [
    "df.columns"
   ]
  },
  {
   "cell_type": "code",
   "execution_count": 15,
   "id": "dc79224a",
   "metadata": {},
   "outputs": [
    {
     "data": {
      "text/plain": [
       "passenger_count                       int64\n",
       "trip_duration                       float64\n",
       "day_pickup_datetime                   int64\n",
       "month_pickup_datetime                 int64\n",
       "hour_pickup_datetime                  int64\n",
       "day_dropoff_datetime                  int64\n",
       "month_dropoff_datetime                int64\n",
       "hour_dropoff_datetime                 int64\n",
       "day_moments                          object\n",
       "distance_slots                       object\n",
       "passenger_count_1                     uint8\n",
       "passenger_count_2                     uint8\n",
       "passenger_count_3                     uint8\n",
       "passenger_count_4                     uint8\n",
       "passenger_count_5                     uint8\n",
       "passenger_count_6                     uint8\n",
       "passenger_count_7                     uint8\n",
       "day_moments_Afternoon                 uint8\n",
       "day_moments_Early_morning             uint8\n",
       "day_moments_Evening                   uint8\n",
       "day_moments_Full_night                uint8\n",
       "day_moments_Middle_morning            uint8\n",
       "distance_slots_Long_distance          uint8\n",
       "distance_slots_Shortest_distance      uint8\n",
       "Distance_pick_drop                  float64\n",
       "dtype: object"
      ]
     },
     "execution_count": 15,
     "metadata": {},
     "output_type": "execute_result"
    }
   ],
   "source": [
    "df.dtypes"
   ]
  },
  {
   "cell_type": "code",
   "execution_count": 16,
   "id": "a2113899",
   "metadata": {},
   "outputs": [],
   "source": [
    "baseline_cols = ['day_pickup_datetime', 'month_pickup_datetime',\n",
    "       'hour_pickup_datetime', 'day_dropoff_datetime',\n",
    "       'month_dropoff_datetime', 'hour_dropoff_datetime','passenger_count_1', 'passenger_count_2',\n",
    "       'passenger_count_3', 'passenger_count_4', 'passenger_count_5',\n",
    "       'passenger_count_6', 'passenger_count_7', 'day_moments_Afternoon',\n",
    "       'day_moments_Early_morning', 'day_moments_Evening',\n",
    "       'day_moments_Full_night', 'day_moments_Middle_morning',\n",
    "       'distance_slots_Long_distance', 'distance_slots_Shortest_distance',\n",
    "       'Distance_pick_drop']"
   ]
  },
  {
   "cell_type": "code",
   "execution_count": 17,
   "id": "d596ed84",
   "metadata": {},
   "outputs": [],
   "source": [
    "df_baseline = df[baseline_cols]"
   ]
  },
  {
   "cell_type": "markdown",
   "id": "33d2d38c",
   "metadata": {},
   "source": [
    "### Train Test Split to create a validation set"
   ]
  },
  {
   "cell_type": "code",
   "execution_count": 18,
   "id": "bd14bd53",
   "metadata": {},
   "outputs": [],
   "source": [
    "# Splitting the data into Train and Validation set\n",
    "xtrain, xtest, ytrain, ytest = train_test_split(df_baseline,y_all,test_size=1/3, random_state=64, stratify = y_all)"
   ]
  },
  {
   "cell_type": "code",
   "execution_count": 19,
   "id": "c46a08ae",
   "metadata": {},
   "outputs": [
    {
     "data": {
      "text/html": [
       "<style>#sk-container-id-1 {color: black;background-color: white;}#sk-container-id-1 pre{padding: 0;}#sk-container-id-1 div.sk-toggleable {background-color: white;}#sk-container-id-1 label.sk-toggleable__label {cursor: pointer;display: block;width: 100%;margin-bottom: 0;padding: 0.3em;box-sizing: border-box;text-align: center;}#sk-container-id-1 label.sk-toggleable__label-arrow:before {content: \"▸\";float: left;margin-right: 0.25em;color: #696969;}#sk-container-id-1 label.sk-toggleable__label-arrow:hover:before {color: black;}#sk-container-id-1 div.sk-estimator:hover label.sk-toggleable__label-arrow:before {color: black;}#sk-container-id-1 div.sk-toggleable__content {max-height: 0;max-width: 0;overflow: hidden;text-align: left;background-color: #f0f8ff;}#sk-container-id-1 div.sk-toggleable__content pre {margin: 0.2em;color: black;border-radius: 0.25em;background-color: #f0f8ff;}#sk-container-id-1 input.sk-toggleable__control:checked~div.sk-toggleable__content {max-height: 200px;max-width: 100%;overflow: auto;}#sk-container-id-1 input.sk-toggleable__control:checked~label.sk-toggleable__label-arrow:before {content: \"▾\";}#sk-container-id-1 div.sk-estimator input.sk-toggleable__control:checked~label.sk-toggleable__label {background-color: #d4ebff;}#sk-container-id-1 div.sk-label input.sk-toggleable__control:checked~label.sk-toggleable__label {background-color: #d4ebff;}#sk-container-id-1 input.sk-hidden--visually {border: 0;clip: rect(1px 1px 1px 1px);clip: rect(1px, 1px, 1px, 1px);height: 1px;margin: -1px;overflow: hidden;padding: 0;position: absolute;width: 1px;}#sk-container-id-1 div.sk-estimator {font-family: monospace;background-color: #f0f8ff;border: 1px dotted black;border-radius: 0.25em;box-sizing: border-box;margin-bottom: 0.5em;}#sk-container-id-1 div.sk-estimator:hover {background-color: #d4ebff;}#sk-container-id-1 div.sk-parallel-item::after {content: \"\";width: 100%;border-bottom: 1px solid gray;flex-grow: 1;}#sk-container-id-1 div.sk-label:hover label.sk-toggleable__label {background-color: #d4ebff;}#sk-container-id-1 div.sk-serial::before {content: \"\";position: absolute;border-left: 1px solid gray;box-sizing: border-box;top: 0;bottom: 0;left: 50%;z-index: 0;}#sk-container-id-1 div.sk-serial {display: flex;flex-direction: column;align-items: center;background-color: white;padding-right: 0.2em;padding-left: 0.2em;position: relative;}#sk-container-id-1 div.sk-item {position: relative;z-index: 1;}#sk-container-id-1 div.sk-parallel {display: flex;align-items: stretch;justify-content: center;background-color: white;position: relative;}#sk-container-id-1 div.sk-item::before, #sk-container-id-1 div.sk-parallel-item::before {content: \"\";position: absolute;border-left: 1px solid gray;box-sizing: border-box;top: 0;bottom: 0;left: 50%;z-index: -1;}#sk-container-id-1 div.sk-parallel-item {display: flex;flex-direction: column;z-index: 1;position: relative;background-color: white;}#sk-container-id-1 div.sk-parallel-item:first-child::after {align-self: flex-end;width: 50%;}#sk-container-id-1 div.sk-parallel-item:last-child::after {align-self: flex-start;width: 50%;}#sk-container-id-1 div.sk-parallel-item:only-child::after {width: 0;}#sk-container-id-1 div.sk-dashed-wrapped {border: 1px dashed gray;margin: 0 0.4em 0.5em 0.4em;box-sizing: border-box;padding-bottom: 0.4em;background-color: white;}#sk-container-id-1 div.sk-label label {font-family: monospace;font-weight: bold;display: inline-block;line-height: 1.2em;}#sk-container-id-1 div.sk-label-container {text-align: center;}#sk-container-id-1 div.sk-container {/* jupyter's `normalize.less` sets `[hidden] { display: none; }` but bootstrap.min.css set `[hidden] { display: none !important; }` so we also need the `!important` here to be able to override the default hidden behavior on the sphinx rendered scikit-learn.org. See: https://github.com/scikit-learn/scikit-learn/issues/21755 */display: inline-block !important;position: relative;}#sk-container-id-1 div.sk-text-repr-fallback {display: none;}</style><div id=\"sk-container-id-1\" class=\"sk-top-container\"><div class=\"sk-text-repr-fallback\"><pre>LinearRegression()</pre><b>In a Jupyter environment, please rerun this cell to show the HTML representation or trust the notebook. <br />On GitHub, the HTML representation is unable to render, please try loading this page with nbviewer.org.</b></div><div class=\"sk-container\" hidden><div class=\"sk-item\"><div class=\"sk-estimator sk-toggleable\"><input class=\"sk-toggleable__control sk-hidden--visually\" id=\"sk-estimator-id-1\" type=\"checkbox\" checked><label for=\"sk-estimator-id-1\" class=\"sk-toggleable__label sk-toggleable__label-arrow\">LinearRegression</label><div class=\"sk-toggleable__content\"><pre>LinearRegression()</pre></div></div></div></div></div>"
      ],
      "text/plain": [
       "LinearRegression()"
      ]
     },
     "execution_count": 19,
     "metadata": {},
     "output_type": "execute_result"
    }
   ],
   "source": [
    "from sklearn.linear_model import LinearRegression as LR\n",
    "from sklearn.metrics import mean_absolute_error as mae, r2_score, mean_squared_error as mse\n",
    "LinReg = LR()\n",
    "LinReg.fit(xtrain,ytrain)"
   ]
  },
  {
   "cell_type": "code",
   "execution_count": 20,
   "id": "2392add9",
   "metadata": {},
   "outputs": [
    {
     "name": "stdout",
     "output_type": "stream",
     "text": [
      "Training Mean Absolute Error:  226.6976252824783\n",
      "Testing Mean Absolute Error:  226.79795011806277\n",
      "R2_Score for this baseline model: 0.5111359762894643\n",
      "MSE for model:  91175.45053509763\n"
     ]
    }
   ],
   "source": [
    "# Predicting on the train set\n",
    "train_predict = LinReg.predict(xtrain)\n",
    "k = mae(train_predict,ytrain)\n",
    "print('Training Mean Absolute Error: ',k)\n",
    "# Predicting on the test set\n",
    "test_predict = LinReg.predict(xtest)\n",
    "kt = mae(test_predict,ytest)\n",
    "print('Testing Mean Absolute Error: ',kt)\n",
    "print('R2_Score for this baseline model:',r2_score(test_predict,ytest))\n",
    "print('MSE for model: ', mse(test_predict,ytest))"
   ]
  },
  {
   "cell_type": "code",
   "execution_count": 21,
   "id": "98691245",
   "metadata": {
    "scrolled": true
   },
   "outputs": [
    {
     "data": {
      "text/plain": [
       "array([-1.06201138e+03, -3.23569562e+04, -5.85897035e+01,  1.06241171e+03,\n",
       "        3.23699237e+04,  4.72921372e+01, -1.28863906e+01,  3.02333893e+00,\n",
       "        1.18055388e+01,  1.34988574e+01, -8.49745172e+00, -6.94389280e+00,\n",
       "       -6.54267751e-10,  1.50837906e+02, -4.52212639e+01,  8.47326390e+01,\n",
       "       -2.84946594e+02,  9.45973127e+01, -1.55342382e+01,  1.55342382e+01,\n",
       "        4.35459244e+02])"
      ]
     },
     "execution_count": 21,
     "metadata": {},
     "output_type": "execute_result"
    }
   ],
   "source": [
    "#Parameters of linear Regression\n",
    "LinReg.coef_"
   ]
  },
  {
   "cell_type": "code",
   "execution_count": 22,
   "id": "fdc6340d",
   "metadata": {},
   "outputs": [
    {
     "data": {
      "text/plain": [
       "Text(0.5, 1.0, 'Coefficients plot')"
      ]
     },
     "execution_count": 22,
     "metadata": {},
     "output_type": "execute_result"
    },
    {
     "data": {
      "image/png": "[encoded data removed]",
      "text/plain": [
       "<Figure size 960x720 with 1 Axes>"
      ]
     },
     "metadata": {},
     "output_type": "display_data"
    }
   ],
   "source": [
    "# Plotting the coefficients\n",
    "plt.figure(figsize = (8,6),dpi = 120, facecolor='w', edgecolor='b' )\n",
    "x = range(len(xtrain.columns))\n",
    "y = LinReg.coef_\n",
    "plt.bar(x,y)\n",
    "plt.xlabel('Variables')\n",
    "plt.ylabel('Coefficients')\n",
    "plt.title('Coefficients plot')"
   ]
  },
  {
   "cell_type": "code",
   "execution_count": 23,
   "id": "5ef00427",
   "metadata": {},
   "outputs": [
    {
     "data": {
      "text/html": [
       "<div>\n",
       "<style scoped>\n",
       "    .dataframe tbody tr th:only-of-type {\n",
       "        vertical-align: middle;\n",
       "    }\n",
       "\n",
       "    .dataframe tbody tr th {\n",
       "        vertical-align: top;\n",
       "    }\n",
       "\n",
       "    .dataframe thead th {\n",
       "        text-align: right;\n",
       "    }\n",
       "</style>\n",
       "<table border=\"1\" class=\"dataframe\">\n",
       "  <thead>\n",
       "    <tr style=\"text-align: right;\">\n",
       "      <th></th>\n",
       "      <th>fitted_values</th>\n",
       "      <th>predicted_values</th>\n",
       "      <th>residuals</th>\n",
       "    </tr>\n",
       "  </thead>\n",
       "  <tbody>\n",
       "    <tr>\n",
       "      <th>691198</th>\n",
       "      <td>734.0</td>\n",
       "      <td>433.113161</td>\n",
       "      <td>300.886839</td>\n",
       "    </tr>\n",
       "    <tr>\n",
       "      <th>117648</th>\n",
       "      <td>711.0</td>\n",
       "      <td>845.994408</td>\n",
       "      <td>-134.994408</td>\n",
       "    </tr>\n",
       "    <tr>\n",
       "      <th>288316</th>\n",
       "      <td>759.0</td>\n",
       "      <td>983.221585</td>\n",
       "      <td>-224.221585</td>\n",
       "    </tr>\n",
       "    <tr>\n",
       "      <th>179599</th>\n",
       "      <td>1067.0</td>\n",
       "      <td>1079.985911</td>\n",
       "      <td>-12.985911</td>\n",
       "    </tr>\n",
       "    <tr>\n",
       "      <th>244373</th>\n",
       "      <td>401.0</td>\n",
       "      <td>513.218108</td>\n",
       "      <td>-112.218108</td>\n",
       "    </tr>\n",
       "  </tbody>\n",
       "</table>\n",
       "</div>"
      ],
      "text/plain": [
       "        fitted_values  predicted_values   residuals\n",
       "691198          734.0        433.113161  300.886839\n",
       "117648          711.0        845.994408 -134.994408\n",
       "288316          759.0        983.221585 -224.221585\n",
       "179599         1067.0       1079.985911  -12.985911\n",
       "244373          401.0        513.218108 -112.218108"
      ]
     },
     "execution_count": 23,
     "metadata": {},
     "output_type": "execute_result"
    }
   ],
   "source": [
    "# Test set predicting\n",
    "test_predict = LinReg.predict(xtest)\n",
    "\n",
    "# Checking Assumptions of Linear Model\n",
    "residuals = pd.DataFrame({\n",
    "    'fitted_values' : ytest,\n",
    "    'predicted_values': test_predict\n",
    "})\n",
    "residuals['residuals'] = residuals['fitted_values'] - residuals['predicted_values']\n",
    "residuals.head()"
   ]
  },
  {
   "cell_type": "code",
   "execution_count": 24,
   "id": "81ede4a0",
   "metadata": {},
   "outputs": [
    {
     "data": {
      "text/plain": [
       "<matplotlib.legend.Legend at 0x27d000a1360>"
      ]
     },
     "execution_count": 24,
     "metadata": {},
     "output_type": "execute_result"
    },
    {
     "data": {
      "image/png": "[encoded data removed]",
      "text/plain": [
       "<Figure size 1200x720 with 1 Axes>"
      ]
     },
     "metadata": {},
     "output_type": "display_data"
    }
   ],
   "source": [
    "# Plotting residual curve (Is these constant variance or homoscedastic)\n",
    "\n",
    "plt.figure(figsize =(10,6), dpi =120, facecolor='w',edgecolor='b')\n",
    "f = range(0,30131)\n",
    "k = [0 for i in range (0,30131)]\n",
    "plt.scatter(f, residuals.residuals[:30131],label = 'residuals')\n",
    "plt.plot(f, k, color = 'red',label = 'regression line')\n",
    "plt.xlabel('fitted points')\n",
    "plt.ylabel('residuals')\n",
    "plt.title('Residuals plot')\n",
    "plt.ylim(-4000,4000)\n",
    "plt.legend()"
   ]
  },
  {
   "cell_type": "markdown",
   "id": "d822ccc8",
   "metadata": {},
   "source": [
    "There is homoscedasticity of residual variance."
   ]
  },
  {
   "cell_type": "code",
   "execution_count": 25,
   "id": "d7026d07",
   "metadata": {},
   "outputs": [
    {
     "data": {
      "image/png": "[encoded data removed]",
      "text/plain": [
       "<Figure size 640x480 with 1 Axes>"
      ]
     },
     "metadata": {},
     "output_type": "display_data"
    }
   ],
   "source": [
    "# Normality checking for residuals\n",
    "plt.hist(residuals.residuals, bins = 150)\n",
    "plt.xlabel('Error')\n",
    "plt.ylabel('Frequency')\n",
    "plt.title('Distribution of Errors')\n",
    "plt.show()"
   ]
  },
  {
   "cell_type": "markdown",
   "id": "2f8559bc",
   "metadata": {},
   "source": [
    "The errors follow a normal distribution but roughly skewed."
   ]
  },
  {
   "cell_type": "code",
   "execution_count": 26,
   "id": "8946ae53",
   "metadata": {
    "scrolled": true
   },
   "outputs": [
    {
     "data": {
      "image/png": "[encoded data removed]",
      "text/plain": [
       "<Figure size 600x600 with 1 Axes>"
      ]
     },
     "metadata": {},
     "output_type": "display_data"
    }
   ],
   "source": [
    "# QQ Plot (Is the data normally distributed?)\n",
    "from statsmodels.graphics.gofplots import qqplot\n",
    "\n",
    "# Plotting the QQ Plot\n",
    "fig , ax = plt.subplots(figsize = (5,5), dpi = 120)\n",
    "qqplot(residuals.residuals, line = 's', ax = ax)\n",
    "plt.ylabel('Residual Quantiles')\n",
    "plt.xlabel('Ideal Scaled Quantiles')\n",
    "plt.title('Checking Distribution of Residual Errors')\n",
    "plt.show()"
   ]
  },
  {
   "cell_type": "code",
   "execution_count": 27,
   "id": "92c164ed",
   "metadata": {},
   "outputs": [
    {
     "data": {
      "text/plain": [
       "ShapiroResult(statistic=0.9619317054748535, pvalue=0.0)"
      ]
     },
     "execution_count": 27,
     "metadata": {},
     "output_type": "execute_result"
    }
   ],
   "source": [
    "from scipy.stats import shapiro\n",
    "shapiro(residuals.residuals)"
   ]
  },
  {
   "cell_type": "markdown",
   "id": "75cff461",
   "metadata": {},
   "source": [
    "The distribution is not normal by refering on Shapiro wilk test and QQ plot, we have a lot of outliers on low and high values. Let's verify if there is multi colinearity between some variables.\n"
   ]
  },
  {
   "cell_type": "markdown",
   "id": "5db3146a",
   "metadata": {
    "colab_type": "text",
    "id": "y_ull_aGYPwi"
   },
   "source": [
    "### Variance Inflation Factor (VIF) (Checking for multi collinearity)"
   ]
  },
  {
   "cell_type": "code",
   "execution_count": 28,
   "id": "f857465a",
   "metadata": {
    "colab": {
     "base_uri": "https://localhost:8080/",
     "height": 850
    },
    "colab_type": "code",
    "executionInfo": {
     "elapsed": 6725,
     "status": "ok",
     "timestamp": 1559646194342,
     "user": {
      "displayName": "Sharoon Saxena",
      "photoUrl": "",
      "userId": "14774175216384036942"
     },
     "user_tz": -330
    },
    "id": "0dkJAXOfRSww",
    "outputId": "cabb509d-c840-4d05-c4e5-187e48d5f83b"
   },
   "outputs": [
    {
     "name": "stderr",
     "output_type": "stream",
     "text": [
      "C:\\Users\\Dell\\anaconda3\\lib\\site-packages\\statsmodels\\stats\\outliers_influence.py:195: RuntimeWarning: divide by zero encountered in double_scalars\n",
      "  vif = 1. / (1. - r_squared_i)\n"
     ]
    },
    {
     "data": {
      "text/plain": [
       "day_pickup_datetime                 3.176051e+04\n",
       "month_pickup_datetime               1.085259e+06\n",
       "hour_pickup_datetime                5.341401e+01\n",
       "day_dropoff_datetime                3.175986e+04\n",
       "month_dropoff_datetime              1.085443e+06\n",
       "hour_dropoff_datetime               3.876070e+01\n",
       "passenger_count_1                            inf\n",
       "passenger_count_2                            inf\n",
       "passenger_count_3                            inf\n",
       "passenger_count_4                            inf\n",
       "passenger_count_5                            inf\n",
       "passenger_count_6                            inf\n",
       "passenger_count_7                            inf\n",
       "day_moments_Afternoon                        inf\n",
       "day_moments_Early_morning                    inf\n",
       "day_moments_Evening                          inf\n",
       "day_moments_Full_night                       inf\n",
       "day_moments_Middle_morning                   inf\n",
       "distance_slots_Long_distance                 inf\n",
       "distance_slots_Shortest_distance             inf\n",
       "Distance_pick_drop                  3.762874e+00\n",
       "dtype: float64"
      ]
     },
     "execution_count": 28,
     "metadata": {},
     "output_type": "execute_result"
    }
   ],
   "source": [
    "# Importing Variance_inflation_Factor funtion from the Statsmodels\n",
    "from statsmodels.stats.outliers_influence import variance_inflation_factor\n",
    "from statsmodels.tools.tools import add_constant\n",
    "\n",
    "# Calculating VIF for every column (only works for the not Catagorical)\n",
    "VIF = pd.Series([variance_inflation_factor(df_baseline.values, i) for i in range(df_baseline.shape[1])], index =df_baseline.columns)\n",
    "VIF"
   ]
  },
  {
   "cell_type": "markdown",
   "id": "3f59ead8",
   "metadata": {},
   "source": [
    "The moments of pickup and dropoff seems have multicolinearity. So these independent variables should be removed from linear model."
   ]
  },
  {
   "cell_type": "code",
   "execution_count": 29,
   "id": "9d1f44ca",
   "metadata": {},
   "outputs": [],
   "source": [
    "final_cols = ['month_pickup_datetime',\n",
    "       'day_dropoff_datetime','passenger_count_1', 'passenger_count_2',\n",
    "       'passenger_count_3', 'passenger_count_4', 'passenger_count_5',\n",
    "       'passenger_count_6', 'passenger_count_7', 'day_moments_Afternoon',\n",
    "       'day_moments_Early_morning', 'day_moments_Evening',\n",
    "       'day_moments_Full_night', 'day_moments_Middle_morning',\n",
    "       'distance_slots_Long_distance', 'distance_slots_Shortest_distance',\n",
    "       'Distance_pick_drop']\n",
    "data = df[final_cols]\n",
    "#data = df[baseline_cols]"
   ]
  },
  {
   "cell_type": "code",
   "execution_count": 30,
   "id": "74ab48fd",
   "metadata": {},
   "outputs": [
    {
     "data": {
      "text/html": [
       "<style>#sk-container-id-2 {color: black;background-color: white;}#sk-container-id-2 pre{padding: 0;}#sk-container-id-2 div.sk-toggleable {background-color: white;}#sk-container-id-2 label.sk-toggleable__label {cursor: pointer;display: block;width: 100%;margin-bottom: 0;padding: 0.3em;box-sizing: border-box;text-align: center;}#sk-container-id-2 label.sk-toggleable__label-arrow:before {content: \"▸\";float: left;margin-right: 0.25em;color: #696969;}#sk-container-id-2 label.sk-toggleable__label-arrow:hover:before {color: black;}#sk-container-id-2 div.sk-estimator:hover label.sk-toggleable__label-arrow:before {color: black;}#sk-container-id-2 div.sk-toggleable__content {max-height: 0;max-width: 0;overflow: hidden;text-align: left;background-color: #f0f8ff;}#sk-container-id-2 div.sk-toggleable__content pre {margin: 0.2em;color: black;border-radius: 0.25em;background-color: #f0f8ff;}#sk-container-id-2 input.sk-toggleable__control:checked~div.sk-toggleable__content {max-height: 200px;max-width: 100%;overflow: auto;}#sk-container-id-2 input.sk-toggleable__control:checked~label.sk-toggleable__label-arrow:before {content: \"▾\";}#sk-container-id-2 div.sk-estimator input.sk-toggleable__control:checked~label.sk-toggleable__label {background-color: #d4ebff;}#sk-container-id-2 div.sk-label input.sk-toggleable__control:checked~label.sk-toggleable__label {background-color: #d4ebff;}#sk-container-id-2 input.sk-hidden--visually {border: 0;clip: rect(1px 1px 1px 1px);clip: rect(1px, 1px, 1px, 1px);height: 1px;margin: -1px;overflow: hidden;padding: 0;position: absolute;width: 1px;}#sk-container-id-2 div.sk-estimator {font-family: monospace;background-color: #f0f8ff;border: 1px dotted black;border-radius: 0.25em;box-sizing: border-box;margin-bottom: 0.5em;}#sk-container-id-2 div.sk-estimator:hover {background-color: #d4ebff;}#sk-container-id-2 div.sk-parallel-item::after {content: \"\";width: 100%;border-bottom: 1px solid gray;flex-grow: 1;}#sk-container-id-2 div.sk-label:hover label.sk-toggleable__label {background-color: #d4ebff;}#sk-container-id-2 div.sk-serial::before {content: \"\";position: absolute;border-left: 1px solid gray;box-sizing: border-box;top: 0;bottom: 0;left: 50%;z-index: 0;}#sk-container-id-2 div.sk-serial {display: flex;flex-direction: column;align-items: center;background-color: white;padding-right: 0.2em;padding-left: 0.2em;position: relative;}#sk-container-id-2 div.sk-item {position: relative;z-index: 1;}#sk-container-id-2 div.sk-parallel {display: flex;align-items: stretch;justify-content: center;background-color: white;position: relative;}#sk-container-id-2 div.sk-item::before, #sk-container-id-2 div.sk-parallel-item::before {content: \"\";position: absolute;border-left: 1px solid gray;box-sizing: border-box;top: 0;bottom: 0;left: 50%;z-index: -1;}#sk-container-id-2 div.sk-parallel-item {display: flex;flex-direction: column;z-index: 1;position: relative;background-color: white;}#sk-container-id-2 div.sk-parallel-item:first-child::after {align-self: flex-end;width: 50%;}#sk-container-id-2 div.sk-parallel-item:last-child::after {align-self: flex-start;width: 50%;}#sk-container-id-2 div.sk-parallel-item:only-child::after {width: 0;}#sk-container-id-2 div.sk-dashed-wrapped {border: 1px dashed gray;margin: 0 0.4em 0.5em 0.4em;box-sizing: border-box;padding-bottom: 0.4em;background-color: white;}#sk-container-id-2 div.sk-label label {font-family: monospace;font-weight: bold;display: inline-block;line-height: 1.2em;}#sk-container-id-2 div.sk-label-container {text-align: center;}#sk-container-id-2 div.sk-container {/* jupyter's `normalize.less` sets `[hidden] { display: none; }` but bootstrap.min.css set `[hidden] { display: none !important; }` so we also need the `!important` here to be able to override the default hidden behavior on the sphinx rendered scikit-learn.org. See: https://github.com/scikit-learn/scikit-learn/issues/21755 */display: inline-block !important;position: relative;}#sk-container-id-2 div.sk-text-repr-fallback {display: none;}</style><div id=\"sk-container-id-2\" class=\"sk-top-container\"><div class=\"sk-text-repr-fallback\"><pre>LinearRegression()</pre><b>In a Jupyter environment, please rerun this cell to show the HTML representation or trust the notebook. <br />On GitHub, the HTML representation is unable to render, please try loading this page with nbviewer.org.</b></div><div class=\"sk-container\" hidden><div class=\"sk-item\"><div class=\"sk-estimator sk-toggleable\"><input class=\"sk-toggleable__control sk-hidden--visually\" id=\"sk-estimator-id-2\" type=\"checkbox\" checked><label for=\"sk-estimator-id-2\" class=\"sk-toggleable__label sk-toggleable__label-arrow\">LinearRegression</label><div class=\"sk-toggleable__content\"><pre>LinearRegression()</pre></div></div></div></div></div>"
      ],
      "text/plain": [
       "LinearRegression()"
      ]
     },
     "execution_count": 30,
     "metadata": {},
     "output_type": "execute_result"
    }
   ],
   "source": [
    "# Let's normalize the data for model\n",
    "from sklearn.preprocessing import MinMaxScaler as min_max\n",
    "data = min_max().fit_transform(data)\n",
    "data = pd.DataFrame(data, columns = final_cols)\n",
    "#data = pd.DataFrame(data, columns = baseline_cols)\n",
    "y_all = min_max().fit_transform(np.array(df['trip_duration']).reshape(-1, 1))\n",
    "# Splitting the data into Train and Validation set\n",
    "xtrain, xtest, ytrain, ytest = train_test_split(data,y_all,test_size=1/4, random_state=86, stratify = y_all)\n",
    "LinReg.fit(xtrain,ytrain)"
   ]
  },
  {
   "cell_type": "code",
   "execution_count": 31,
   "id": "23661875",
   "metadata": {},
   "outputs": [
    {
     "data": {
      "text/html": [
       "<div>\n",
       "<style scoped>\n",
       "    .dataframe tbody tr th:only-of-type {\n",
       "        vertical-align: middle;\n",
       "    }\n",
       "\n",
       "    .dataframe tbody tr th {\n",
       "        vertical-align: top;\n",
       "    }\n",
       "\n",
       "    .dataframe thead th {\n",
       "        text-align: right;\n",
       "    }\n",
       "</style>\n",
       "<table border=\"1\" class=\"dataframe\">\n",
       "  <thead>\n",
       "    <tr style=\"text-align: right;\">\n",
       "      <th></th>\n",
       "      <th>month_pickup_datetime</th>\n",
       "      <th>day_dropoff_datetime</th>\n",
       "      <th>passenger_count_1</th>\n",
       "      <th>passenger_count_2</th>\n",
       "      <th>passenger_count_3</th>\n",
       "      <th>passenger_count_4</th>\n",
       "      <th>passenger_count_5</th>\n",
       "      <th>passenger_count_6</th>\n",
       "      <th>passenger_count_7</th>\n",
       "      <th>day_moments_Afternoon</th>\n",
       "      <th>day_moments_Early_morning</th>\n",
       "      <th>day_moments_Evening</th>\n",
       "      <th>day_moments_Full_night</th>\n",
       "      <th>day_moments_Middle_morning</th>\n",
       "      <th>distance_slots_Long_distance</th>\n",
       "      <th>distance_slots_Shortest_distance</th>\n",
       "      <th>Distance_pick_drop</th>\n",
       "    </tr>\n",
       "  </thead>\n",
       "  <tbody>\n",
       "    <tr>\n",
       "      <th>0</th>\n",
       "      <td>0.2</td>\n",
       "      <td>0.933333</td>\n",
       "      <td>1.0</td>\n",
       "      <td>0.0</td>\n",
       "      <td>0.0</td>\n",
       "      <td>0.0</td>\n",
       "      <td>0.0</td>\n",
       "      <td>0.0</td>\n",
       "      <td>0.0</td>\n",
       "      <td>1.0</td>\n",
       "      <td>0.0</td>\n",
       "      <td>0.0</td>\n",
       "      <td>0.0</td>\n",
       "      <td>0.0</td>\n",
       "      <td>0.0</td>\n",
       "      <td>1.0</td>\n",
       "      <td>0.195017</td>\n",
       "    </tr>\n",
       "    <tr>\n",
       "      <th>1</th>\n",
       "      <td>0.4</td>\n",
       "      <td>0.333333</td>\n",
       "      <td>0.0</td>\n",
       "      <td>1.0</td>\n",
       "      <td>0.0</td>\n",
       "      <td>0.0</td>\n",
       "      <td>0.0</td>\n",
       "      <td>0.0</td>\n",
       "      <td>0.0</td>\n",
       "      <td>0.0</td>\n",
       "      <td>0.0</td>\n",
       "      <td>1.0</td>\n",
       "      <td>0.0</td>\n",
       "      <td>0.0</td>\n",
       "      <td>1.0</td>\n",
       "      <td>0.0</td>\n",
       "      <td>0.595613</td>\n",
       "    </tr>\n",
       "    <tr>\n",
       "      <th>2</th>\n",
       "      <td>0.2</td>\n",
       "      <td>0.666667</td>\n",
       "      <td>0.0</td>\n",
       "      <td>1.0</td>\n",
       "      <td>0.0</td>\n",
       "      <td>0.0</td>\n",
       "      <td>0.0</td>\n",
       "      <td>0.0</td>\n",
       "      <td>0.0</td>\n",
       "      <td>1.0</td>\n",
       "      <td>0.0</td>\n",
       "      <td>0.0</td>\n",
       "      <td>0.0</td>\n",
       "      <td>0.0</td>\n",
       "      <td>1.0</td>\n",
       "      <td>0.0</td>\n",
       "      <td>0.939692</td>\n",
       "    </tr>\n",
       "    <tr>\n",
       "      <th>3</th>\n",
       "      <td>0.0</td>\n",
       "      <td>0.133333</td>\n",
       "      <td>0.0</td>\n",
       "      <td>0.0</td>\n",
       "      <td>0.0</td>\n",
       "      <td>0.0</td>\n",
       "      <td>0.0</td>\n",
       "      <td>1.0</td>\n",
       "      <td>0.0</td>\n",
       "      <td>0.0</td>\n",
       "      <td>1.0</td>\n",
       "      <td>0.0</td>\n",
       "      <td>0.0</td>\n",
       "      <td>0.0</td>\n",
       "      <td>0.0</td>\n",
       "      <td>1.0</td>\n",
       "      <td>0.365185</td>\n",
       "    </tr>\n",
       "    <tr>\n",
       "      <th>4</th>\n",
       "      <td>0.2</td>\n",
       "      <td>0.533333</td>\n",
       "      <td>1.0</td>\n",
       "      <td>0.0</td>\n",
       "      <td>0.0</td>\n",
       "      <td>0.0</td>\n",
       "      <td>0.0</td>\n",
       "      <td>0.0</td>\n",
       "      <td>0.0</td>\n",
       "      <td>0.0</td>\n",
       "      <td>1.0</td>\n",
       "      <td>0.0</td>\n",
       "      <td>0.0</td>\n",
       "      <td>0.0</td>\n",
       "      <td>1.0</td>\n",
       "      <td>0.0</td>\n",
       "      <td>0.619771</td>\n",
       "    </tr>\n",
       "  </tbody>\n",
       "</table>\n",
       "</div>"
      ],
      "text/plain": [
       "   month_pickup_datetime  day_dropoff_datetime  passenger_count_1  \\\n",
       "0                    0.2              0.933333                1.0   \n",
       "1                    0.4              0.333333                0.0   \n",
       "2                    0.2              0.666667                0.0   \n",
       "3                    0.0              0.133333                0.0   \n",
       "4                    0.2              0.533333                1.0   \n",
       "\n",
       "   passenger_count_2  passenger_count_3  passenger_count_4  passenger_count_5  \\\n",
       "0                0.0                0.0                0.0                0.0   \n",
       "1                1.0                0.0                0.0                0.0   \n",
       "2                1.0                0.0                0.0                0.0   \n",
       "3                0.0                0.0                0.0                0.0   \n",
       "4                0.0                0.0                0.0                0.0   \n",
       "\n",
       "   passenger_count_6  passenger_count_7  day_moments_Afternoon  \\\n",
       "0                0.0                0.0                    1.0   \n",
       "1                0.0                0.0                    0.0   \n",
       "2                0.0                0.0                    1.0   \n",
       "3                1.0                0.0                    0.0   \n",
       "4                0.0                0.0                    0.0   \n",
       "\n",
       "   day_moments_Early_morning  day_moments_Evening  day_moments_Full_night  \\\n",
       "0                        0.0                  0.0                     0.0   \n",
       "1                        0.0                  1.0                     0.0   \n",
       "2                        0.0                  0.0                     0.0   \n",
       "3                        1.0                  0.0                     0.0   \n",
       "4                        1.0                  0.0                     0.0   \n",
       "\n",
       "   day_moments_Middle_morning  distance_slots_Long_distance  \\\n",
       "0                         0.0                           0.0   \n",
       "1                         0.0                           1.0   \n",
       "2                         0.0                           1.0   \n",
       "3                         0.0                           0.0   \n",
       "4                         0.0                           1.0   \n",
       "\n",
       "   distance_slots_Shortest_distance  Distance_pick_drop  \n",
       "0                               1.0            0.195017  \n",
       "1                               0.0            0.595613  \n",
       "2                               0.0            0.939692  \n",
       "3                               1.0            0.365185  \n",
       "4                               0.0            0.619771  "
      ]
     },
     "execution_count": 31,
     "metadata": {},
     "output_type": "execute_result"
    }
   ],
   "source": [
    "data.head()"
   ]
  },
  {
   "cell_type": "code",
   "execution_count": 32,
   "id": "9e3109b1",
   "metadata": {},
   "outputs": [
    {
     "data": {
      "text/plain": [
       "(726075, 1)"
      ]
     },
     "execution_count": 32,
     "metadata": {},
     "output_type": "execute_result"
    }
   ],
   "source": [
    "y_all.shape"
   ]
  },
  {
   "cell_type": "code",
   "execution_count": 33,
   "id": "2d335b0c",
   "metadata": {
    "scrolled": false
   },
   "outputs": [
    {
     "name": "stdout",
     "output_type": "stream",
     "text": [
      "Training Mean Absolute Error:  0.11053324469468302\n",
      "Testing Mean Absolute Error:  0.11013186061856624\n",
      "R2_Score for model : 0.4851574043925445\n",
      "MSE for model:  0.021619128760334987\n"
     ]
    }
   ],
   "source": [
    "# Predicting on the train set\n",
    "train_predict = LinReg.predict(xtrain)\n",
    "k = mae(train_predict,ytrain)\n",
    "print('Training Mean Absolute Error: ',k)\n",
    "# Predicting on the test set\n",
    "test_predict = LinReg.predict(xtest)\n",
    "kt = mae(test_predict,ytest)\n",
    "print('Testing Mean Absolute Error: ',kt)\n",
    "print('R2_Score for model :',r2_score(test_predict,ytest))\n",
    "print('MSE for model: ', mse(test_predict,ytest))"
   ]
  },
  {
   "cell_type": "code",
   "execution_count": 34,
   "id": "b00d31d1",
   "metadata": {},
   "outputs": [
    {
     "data": {
      "text/plain": [
       "array([[ 3.17729310e-02,  4.67185344e-03, -2.76435543e+11,\n",
       "        -2.76435543e+11, -2.76435543e+11, -2.76435543e+11,\n",
       "        -2.76435543e+11, -2.76435543e+11, -2.76435543e+11,\n",
       "         7.24819998e+11,  7.24819998e+11,  7.24819998e+11,\n",
       "         7.24819998e+11,  7.24819998e+11, -1.67361259e+08,\n",
       "        -1.67361259e+08,  7.52716249e-01]])"
      ]
     },
     "execution_count": 34,
     "metadata": {},
     "output_type": "execute_result"
    }
   ],
   "source": [
    "LinReg.coef_"
   ]
  },
  {
   "cell_type": "code",
   "execution_count": 35,
   "id": "3bdf02e5",
   "metadata": {},
   "outputs": [
    {
     "data": {
      "text/plain": [
       "Text(0.5, 1.0, 'Normalized Coefficient plot')"
      ]
     },
     "execution_count": 35,
     "metadata": {},
     "output_type": "execute_result"
    },
    {
     "data": {
      "image/png": "[encoded data removed]",
      "text/plain": [
       "<Figure size 960x720 with 1 Axes>"
      ]
     },
     "metadata": {},
     "output_type": "display_data"
    }
   ],
   "source": [
    "plt.figure(figsize=(8, 6), dpi=120, facecolor='w', edgecolor='b')\n",
    "x = range(len(xtrain.columns))\n",
    "y = LinReg.coef_[0]\n",
    "plt.bar( x, y )\n",
    "plt.xlabel( \"Variables\")\n",
    "\n",
    "plt.ylabel('Coefficients')\n",
    "plt.title('Normalized Coefficient plot')"
   ]
  },
  {
   "cell_type": "code",
   "execution_count": 36,
   "id": "309ffb3d",
   "metadata": {},
   "outputs": [
    {
     "data": {
      "text/html": [
       "<div>\n",
       "<style scoped>\n",
       "    .dataframe tbody tr th:only-of-type {\n",
       "        vertical-align: middle;\n",
       "    }\n",
       "\n",
       "    .dataframe tbody tr th {\n",
       "        vertical-align: top;\n",
       "    }\n",
       "\n",
       "    .dataframe thead th {\n",
       "        text-align: right;\n",
       "    }\n",
       "</style>\n",
       "<table border=\"1\" class=\"dataframe\">\n",
       "  <thead>\n",
       "    <tr style=\"text-align: right;\">\n",
       "      <th></th>\n",
       "      <th>Variable</th>\n",
       "      <th>coefficient</th>\n",
       "    </tr>\n",
       "  </thead>\n",
       "  <tbody>\n",
       "    <tr>\n",
       "      <th>0</th>\n",
       "      <td>month_pickup_datetime</td>\n",
       "      <td>3.177293e-02</td>\n",
       "    </tr>\n",
       "    <tr>\n",
       "      <th>1</th>\n",
       "      <td>day_dropoff_datetime</td>\n",
       "      <td>4.671853e-03</td>\n",
       "    </tr>\n",
       "    <tr>\n",
       "      <th>2</th>\n",
       "      <td>passenger_count_1</td>\n",
       "      <td>-2.764355e+11</td>\n",
       "    </tr>\n",
       "    <tr>\n",
       "      <th>3</th>\n",
       "      <td>passenger_count_2</td>\n",
       "      <td>-2.764355e+11</td>\n",
       "    </tr>\n",
       "    <tr>\n",
       "      <th>4</th>\n",
       "      <td>passenger_count_3</td>\n",
       "      <td>-2.764355e+11</td>\n",
       "    </tr>\n",
       "    <tr>\n",
       "      <th>5</th>\n",
       "      <td>passenger_count_4</td>\n",
       "      <td>-2.764355e+11</td>\n",
       "    </tr>\n",
       "    <tr>\n",
       "      <th>6</th>\n",
       "      <td>passenger_count_5</td>\n",
       "      <td>-2.764355e+11</td>\n",
       "    </tr>\n",
       "    <tr>\n",
       "      <th>7</th>\n",
       "      <td>passenger_count_6</td>\n",
       "      <td>-2.764355e+11</td>\n",
       "    </tr>\n",
       "    <tr>\n",
       "      <th>8</th>\n",
       "      <td>passenger_count_7</td>\n",
       "      <td>-2.764355e+11</td>\n",
       "    </tr>\n",
       "    <tr>\n",
       "      <th>9</th>\n",
       "      <td>day_moments_Afternoon</td>\n",
       "      <td>7.248200e+11</td>\n",
       "    </tr>\n",
       "    <tr>\n",
       "      <th>10</th>\n",
       "      <td>day_moments_Early_morning</td>\n",
       "      <td>7.248200e+11</td>\n",
       "    </tr>\n",
       "    <tr>\n",
       "      <th>11</th>\n",
       "      <td>day_moments_Evening</td>\n",
       "      <td>7.248200e+11</td>\n",
       "    </tr>\n",
       "    <tr>\n",
       "      <th>12</th>\n",
       "      <td>day_moments_Full_night</td>\n",
       "      <td>7.248200e+11</td>\n",
       "    </tr>\n",
       "    <tr>\n",
       "      <th>13</th>\n",
       "      <td>day_moments_Middle_morning</td>\n",
       "      <td>7.248200e+11</td>\n",
       "    </tr>\n",
       "    <tr>\n",
       "      <th>14</th>\n",
       "      <td>distance_slots_Long_distance</td>\n",
       "      <td>-1.673613e+08</td>\n",
       "    </tr>\n",
       "    <tr>\n",
       "      <th>15</th>\n",
       "      <td>distance_slots_Shortest_distance</td>\n",
       "      <td>-1.673613e+08</td>\n",
       "    </tr>\n",
       "    <tr>\n",
       "      <th>16</th>\n",
       "      <td>Distance_pick_drop</td>\n",
       "      <td>7.527162e-01</td>\n",
       "    </tr>\n",
       "  </tbody>\n",
       "</table>\n",
       "</div>"
      ],
      "text/plain": [
       "                            Variable   coefficient\n",
       "0              month_pickup_datetime  3.177293e-02\n",
       "1               day_dropoff_datetime  4.671853e-03\n",
       "2                  passenger_count_1 -2.764355e+11\n",
       "3                  passenger_count_2 -2.764355e+11\n",
       "4                  passenger_count_3 -2.764355e+11\n",
       "5                  passenger_count_4 -2.764355e+11\n",
       "6                  passenger_count_5 -2.764355e+11\n",
       "7                  passenger_count_6 -2.764355e+11\n",
       "8                  passenger_count_7 -2.764355e+11\n",
       "9              day_moments_Afternoon  7.248200e+11\n",
       "10         day_moments_Early_morning  7.248200e+11\n",
       "11               day_moments_Evening  7.248200e+11\n",
       "12            day_moments_Full_night  7.248200e+11\n",
       "13        day_moments_Middle_morning  7.248200e+11\n",
       "14      distance_slots_Long_distance -1.673613e+08\n",
       "15  distance_slots_Shortest_distance -1.673613e+08\n",
       "16                Distance_pick_drop  7.527162e-01"
      ]
     },
     "execution_count": 36,
     "metadata": {},
     "output_type": "execute_result"
    }
   ],
   "source": [
    "Coefficients = pd.DataFrame({\n",
    "    'Variable'    : xtrain.columns,\n",
    "    'coefficient' : LinReg.coef_[0]\n",
    "})\n",
    "Coefficients"
   ]
  },
  {
   "cell_type": "code",
   "execution_count": 37,
   "id": "36ab2a73",
   "metadata": {},
   "outputs": [
    {
     "name": "stderr",
     "output_type": "stream",
     "text": [
      "C:\\Users\\Dell\\anaconda3\\lib\\site-packages\\statsmodels\\stats\\outliers_influence.py:195: RuntimeWarning: divide by zero encountered in double_scalars\n",
      "  vif = 1. / (1. - r_squared_i)\n"
     ]
    },
    {
     "data": {
      "text/plain": [
       "month_pickup_datetime               1.000850\n",
       "day_dropoff_datetime                1.000374\n",
       "passenger_count_1                        inf\n",
       "passenger_count_2                        inf\n",
       "passenger_count_3                        inf\n",
       "passenger_count_4                        inf\n",
       "passenger_count_5                        inf\n",
       "passenger_count_6                        inf\n",
       "passenger_count_7                        inf\n",
       "day_moments_Afternoon                    inf\n",
       "day_moments_Early_morning                inf\n",
       "day_moments_Evening                      inf\n",
       "day_moments_Full_night                   inf\n",
       "day_moments_Middle_morning               inf\n",
       "distance_slots_Long_distance             inf\n",
       "distance_slots_Shortest_distance         inf\n",
       "Distance_pick_drop                  3.743380\n",
       "dtype: float64"
      ]
     },
     "execution_count": 37,
     "metadata": {},
     "output_type": "execute_result"
    }
   ],
   "source": [
    "# Calculating VIF for every column (only works for the not Catagorical)\n",
    "VIF = pd.Series([variance_inflation_factor(data.values, i) for i in range(data.shape[1])], index =data.columns)\n",
    "VIF"
   ]
  },
  {
   "cell_type": "markdown",
   "id": "b050acfb",
   "metadata": {},
   "source": [
    "Compared to preview model, this new looks better especially on MAE and MSE metrics. Let's try with Ridge and Lasso if that could improve model performance."
   ]
  },
  {
   "cell_type": "code",
   "execution_count": 38,
   "id": "a7ee1ceb",
   "metadata": {},
   "outputs": [],
   "source": [
    "from sklearn.linear_model import ElasticNet\n",
    "from sklearn.model_selection import GridSearchCV\n"
   ]
  },
  {
   "cell_type": "code",
   "execution_count": 39,
   "id": "3df0b6e2",
   "metadata": {},
   "outputs": [
    {
     "data": {
      "text/html": [
       "<style>#sk-container-id-3 {color: black;background-color: white;}#sk-container-id-3 pre{padding: 0;}#sk-container-id-3 div.sk-toggleable {background-color: white;}#sk-container-id-3 label.sk-toggleable__label {cursor: pointer;display: block;width: 100%;margin-bottom: 0;padding: 0.3em;box-sizing: border-box;text-align: center;}#sk-container-id-3 label.sk-toggleable__label-arrow:before {content: \"▸\";float: left;margin-right: 0.25em;color: #696969;}#sk-container-id-3 label.sk-toggleable__label-arrow:hover:before {color: black;}#sk-container-id-3 div.sk-estimator:hover label.sk-toggleable__label-arrow:before {color: black;}#sk-container-id-3 div.sk-toggleable__content {max-height: 0;max-width: 0;overflow: hidden;text-align: left;background-color: #f0f8ff;}#sk-container-id-3 div.sk-toggleable__content pre {margin: 0.2em;color: black;border-radius: 0.25em;background-color: #f0f8ff;}#sk-container-id-3 input.sk-toggleable__control:checked~div.sk-toggleable__content {max-height: 200px;max-width: 100%;overflow: auto;}#sk-container-id-3 input.sk-toggleable__control:checked~label.sk-toggleable__label-arrow:before {content: \"▾\";}#sk-container-id-3 div.sk-estimator input.sk-toggleable__control:checked~label.sk-toggleable__label {background-color: #d4ebff;}#sk-container-id-3 div.sk-label input.sk-toggleable__control:checked~label.sk-toggleable__label {background-color: #d4ebff;}#sk-container-id-3 input.sk-hidden--visually {border: 0;clip: rect(1px 1px 1px 1px);clip: rect(1px, 1px, 1px, 1px);height: 1px;margin: -1px;overflow: hidden;padding: 0;position: absolute;width: 1px;}#sk-container-id-3 div.sk-estimator {font-family: monospace;background-color: #f0f8ff;border: 1px dotted black;border-radius: 0.25em;box-sizing: border-box;margin-bottom: 0.5em;}#sk-container-id-3 div.sk-estimator:hover {background-color: #d4ebff;}#sk-container-id-3 div.sk-parallel-item::after {content: \"\";width: 100%;border-bottom: 1px solid gray;flex-grow: 1;}#sk-container-id-3 div.sk-label:hover label.sk-toggleable__label {background-color: #d4ebff;}#sk-container-id-3 div.sk-serial::before {content: \"\";position: absolute;border-left: 1px solid gray;box-sizing: border-box;top: 0;bottom: 0;left: 50%;z-index: 0;}#sk-container-id-3 div.sk-serial {display: flex;flex-direction: column;align-items: center;background-color: white;padding-right: 0.2em;padding-left: 0.2em;position: relative;}#sk-container-id-3 div.sk-item {position: relative;z-index: 1;}#sk-container-id-3 div.sk-parallel {display: flex;align-items: stretch;justify-content: center;background-color: white;position: relative;}#sk-container-id-3 div.sk-item::before, #sk-container-id-3 div.sk-parallel-item::before {content: \"\";position: absolute;border-left: 1px solid gray;box-sizing: border-box;top: 0;bottom: 0;left: 50%;z-index: -1;}#sk-container-id-3 div.sk-parallel-item {display: flex;flex-direction: column;z-index: 1;position: relative;background-color: white;}#sk-container-id-3 div.sk-parallel-item:first-child::after {align-self: flex-end;width: 50%;}#sk-container-id-3 div.sk-parallel-item:last-child::after {align-self: flex-start;width: 50%;}#sk-container-id-3 div.sk-parallel-item:only-child::after {width: 0;}#sk-container-id-3 div.sk-dashed-wrapped {border: 1px dashed gray;margin: 0 0.4em 0.5em 0.4em;box-sizing: border-box;padding-bottom: 0.4em;background-color: white;}#sk-container-id-3 div.sk-label label {font-family: monospace;font-weight: bold;display: inline-block;line-height: 1.2em;}#sk-container-id-3 div.sk-label-container {text-align: center;}#sk-container-id-3 div.sk-container {/* jupyter's `normalize.less` sets `[hidden] { display: none; }` but bootstrap.min.css set `[hidden] { display: none !important; }` so we also need the `!important` here to be able to override the default hidden behavior on the sphinx rendered scikit-learn.org. See: https://github.com/scikit-learn/scikit-learn/issues/21755 */display: inline-block !important;position: relative;}#sk-container-id-3 div.sk-text-repr-fallback {display: none;}</style><div id=\"sk-container-id-3\" class=\"sk-top-container\"><div class=\"sk-text-repr-fallback\"><pre>GridSearchCV(cv=5, estimator=ElasticNet(),\n",
       "             param_grid={&#x27;alpha&#x27;: [1, 2, 3, 4, 5, 6, 7, 8, 9],\n",
       "                         &#x27;l1_ratio&#x27;: [0.0, 0.05, 0.1, 0.15000000000000002, 0.2,\n",
       "                                      0.25, 0.30000000000000004,\n",
       "                                      0.35000000000000003, 0.4, 0.45, 0.5, 0.55,\n",
       "                                      0.6000000000000001, 0.65,\n",
       "                                      0.7000000000000001, 0.75, 0.8,\n",
       "                                      0.8500000000000001, 0.9,\n",
       "                                      0.9500000000000001]},\n",
       "             scoring=&#x27;neg_mean_squared_error&#x27;)</pre><b>In a Jupyter environment, please rerun this cell to show the HTML representation or trust the notebook. <br />On GitHub, the HTML representation is unable to render, please try loading this page with nbviewer.org.</b></div><div class=\"sk-container\" hidden><div class=\"sk-item sk-dashed-wrapped\"><div class=\"sk-label-container\"><div class=\"sk-label sk-toggleable\"><input class=\"sk-toggleable__control sk-hidden--visually\" id=\"sk-estimator-id-3\" type=\"checkbox\" ><label for=\"sk-estimator-id-3\" class=\"sk-toggleable__label sk-toggleable__label-arrow\">GridSearchCV</label><div class=\"sk-toggleable__content\"><pre>GridSearchCV(cv=5, estimator=ElasticNet(),\n",
       "             param_grid={&#x27;alpha&#x27;: [1, 2, 3, 4, 5, 6, 7, 8, 9],\n",
       "                         &#x27;l1_ratio&#x27;: [0.0, 0.05, 0.1, 0.15000000000000002, 0.2,\n",
       "                                      0.25, 0.30000000000000004,\n",
       "                                      0.35000000000000003, 0.4, 0.45, 0.5, 0.55,\n",
       "                                      0.6000000000000001, 0.65,\n",
       "                                      0.7000000000000001, 0.75, 0.8,\n",
       "                                      0.8500000000000001, 0.9,\n",
       "                                      0.9500000000000001]},\n",
       "             scoring=&#x27;neg_mean_squared_error&#x27;)</pre></div></div></div><div class=\"sk-parallel\"><div class=\"sk-parallel-item\"><div class=\"sk-item\"><div class=\"sk-label-container\"><div class=\"sk-label sk-toggleable\"><input class=\"sk-toggleable__control sk-hidden--visually\" id=\"sk-estimator-id-4\" type=\"checkbox\" ><label for=\"sk-estimator-id-4\" class=\"sk-toggleable__label sk-toggleable__label-arrow\">estimator: ElasticNet</label><div class=\"sk-toggleable__content\"><pre>ElasticNet()</pre></div></div></div><div class=\"sk-serial\"><div class=\"sk-item\"><div class=\"sk-estimator sk-toggleable\"><input class=\"sk-toggleable__control sk-hidden--visually\" id=\"sk-estimator-id-5\" type=\"checkbox\" ><label for=\"sk-estimator-id-5\" class=\"sk-toggleable__label sk-toggleable__label-arrow\">ElasticNet</label><div class=\"sk-toggleable__content\"><pre>ElasticNet()</pre></div></div></div></div></div></div></div></div></div></div>"
      ],
      "text/plain": [
       "GridSearchCV(cv=5, estimator=ElasticNet(),\n",
       "             param_grid={'alpha': [1, 2, 3, 4, 5, 6, 7, 8, 9],\n",
       "                         'l1_ratio': [0.0, 0.05, 0.1, 0.15000000000000002, 0.2,\n",
       "                                      0.25, 0.30000000000000004,\n",
       "                                      0.35000000000000003, 0.4, 0.45, 0.5, 0.55,\n",
       "                                      0.6000000000000001, 0.65,\n",
       "                                      0.7000000000000001, 0.75, 0.8,\n",
       "                                      0.8500000000000001, 0.9,\n",
       "                                      0.9500000000000001]},\n",
       "             scoring='neg_mean_squared_error')"
      ]
     },
     "execution_count": 39,
     "metadata": {},
     "output_type": "execute_result"
    }
   ],
   "source": [
    "Elastic_Net_regression ={\n",
    "    'alpha':[i for i in range(1,10)],\n",
    "    'l1_ratio':[i for i in np.arange(0,1,0.05)]\n",
    "\n",
    "    \n",
    "}\n",
    "#,'neg_mean_absolute_error','r2'\n",
    "clf = GridSearchCV(ElasticNet(), param_grid=Elastic_Net_regression,scoring='neg_mean_squared_error',cv=5)\n",
    "clf.fit(data, y_all)"
   ]
  },
  {
   "cell_type": "code",
   "execution_count": 40,
   "id": "9f26cc15",
   "metadata": {},
   "outputs": [
    {
     "name": "stdout",
     "output_type": "stream",
     "text": [
      "-0.0457884147753032 {'alpha': 1, 'l1_ratio': 0.0}\n"
     ]
    }
   ],
   "source": [
    "print(clf.best_score_,clf.best_params_,)"
   ]
  },
  {
   "cell_type": "code",
   "execution_count": 41,
   "id": "7332b222",
   "metadata": {},
   "outputs": [
    {
     "name": "stdout",
     "output_type": "stream",
     "text": [
      "-0.16882447083635824 {'alpha': 1, 'l1_ratio': 0.0}\n"
     ]
    }
   ],
   "source": [
    "clf = GridSearchCV(ElasticNet(), param_grid=Elastic_Net_regression,scoring='neg_mean_absolute_error',cv=5)\n",
    "clf.fit(data, y_all)\n",
    "print(clf.best_score_,clf.best_params_,)"
   ]
  },
  {
   "cell_type": "code",
   "execution_count": 42,
   "id": "57f80dc7",
   "metadata": {},
   "outputs": [
    {
     "name": "stdout",
     "output_type": "stream",
     "text": [
      "0.2818543019628016 {'alpha': 1, 'l1_ratio': 0.0}\n"
     ]
    }
   ],
   "source": [
    "clf = GridSearchCV(ElasticNet(), param_grid=Elastic_Net_regression,scoring='r2',cv=5)\n",
    "clf.fit(data, y_all)\n",
    "print(clf.best_score_,clf.best_params_,)"
   ]
  },
  {
   "cell_type": "markdown",
   "id": "6dc9f295",
   "metadata": {},
   "source": [
    "The ElasticNEt model which combine the Ridge and lasso seems give good results based on MAE and MSE but not better than our previous model."
   ]
  },
  {
   "cell_type": "markdown",
   "id": "a867f973",
   "metadata": {},
   "source": [
    "So our best model remains the previous model based on normal linar regression."
   ]
  },
  {
   "cell_type": "code",
   "execution_count": null,
   "id": "b93f928f",
   "metadata": {},
   "outputs": [],
   "source": []
  }
 ],
 "metadata": {
  "kernelspec": {
   "display_name": "Python 3 (ipykernel)",
   "language": "python",
   "name": "python3"
  },
  "language_info": {
   "codemirror_mode": {
    "name": "ipython",
    "version": 3
   },
   "file_extension": ".py",
   "mimetype": "text/x-python",
   "name": "python",
   "nbconvert_exporter": "python",
   "pygments_lexer": "ipython3",
   "version": "3.10.9"
  }
 },
 "nbformat": 4,
 "nbformat_minor": 5
}
