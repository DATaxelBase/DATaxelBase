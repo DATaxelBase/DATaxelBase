{
 "cells": [
  {
   "cell_type": "markdown",
   "id": "08f3d531",
   "metadata": {},
   "source": [
    "# Trip duration prediction model"
   ]
  },
  {
   "cell_type": "markdown",
   "id": "cc4da42c",
   "metadata": {},
   "source": [
    "At some point or the other almost each one of us has used an Ola or Uber for taking a ride.\n",
    "\n",
    "<p align = \"center\"> <img  src = \"./Uber.jpg\" alt = \"New York City Taxi Uber\">\n",
    "</p>\n",
    "\n",
    "Ride hailing services are services that use online-enabled platforms to connect between passengers and local drivers using their personal vehicles. In most cases they are a comfortable method for door-to-door transport. Usually they are cheaper than using licensed taxicabs. Examples of ride hailing services include Uber and Lyft.\n",
    "\n",
    "To improve the efficiency of taxi dispatching systems for such services, it's important to be able to predict how long a driver will have his taxi occupied. If a dispatcher knew approximately when a taxi driver would be ending their current ride, they would be better able to identify which driver to assign to each pickup request."
   ]
  },
  {
   "cell_type": "markdown",
   "id": "cdbc9426",
   "metadata": {},
   "source": [
    "## Recall of features"
   ]
  },
  {
   "cell_type": "markdown",
   "id": "e4c893a0",
   "metadata": {},
   "source": [
    "> #### Initial Features\n",
    "\n",
    "| **`Columns`**        | **`Description`**  |  \n",
    "| ------------- |-------------:|\n",
    "| id  | A unique identifier for each trip|\n",
    "| vendor_id |A code indicating the provider associated with the trip record|\n",
    "| pickup_datetime| Date and time when the meter was engaged|\n",
    "| dropoff_datetime| Date and time when the meter was disengaged|\n",
    "|passenger_count|Number of passengers in vehicle during trip|\n",
    "| pickup_latitude |Pickup location Latitude|\n",
    "| pickup_longitude |  Pickup location Longitude|\n",
    "| dropoff_latitude    | Dropoff location latitude  |\n",
    "| dropoff_longitude     | Dropoff location longitude|\n",
    "| store_and_fwd_flag |This flag indicated whether the trip record was held in vehicle memory before sending to the vendor because the vehicle did not have a connection to the server (Y for yes / N for no )|\n",
    "| trip_duration  | Duration of Trip |\n",
    "\n",
    "> ### After Assessing and EDA\n",
    "\n",
    "| **`Columns`**        | **`Description`**  |  \n",
    "| ------------- |-------------:|\n",
    "| passenger_count |Number of passengers in vehicle during trip|\n",
    "| trip_duration  | Duration of Trip |\n",
    "|month_pickup_datetime|Month of pickup extracted from pickup datetime feature|\n",
    "|hour_pickup_datetime|Hour of pickup extracted from pickup datetime feature|\n",
    "|day_pickup_datetime|Day of pickup extracted from pickup datetime feature|\n",
    "|month_dropoff_datetime|Month of Dropoff extracted from Dropoff datetime feature|\n",
    "|hour_dropoff_datetime|Hour of Dropoff extracted from Dropoff datetime feature|\n",
    "|day_dropoff_datetime|Day of Dropoff extracted from Dropoff datetime feature|\n",
    "|Distance_pick_drop | Distance computed for trip|\n",
    "|day_moments| Moments of day (Morning, afternoon, evening,...)|\n",
    "|distance_slots|short or long distance|\n",
    "\n",
    "> ### Full summary of EDA\n",
    "\n",
    "* There is similar relation between the pickup and dropoff moments.\n",
    "* The outliers are in number in data. We should manage them to justify the pickup and dropoff moments.\n",
    "* We removed from data , trips without passengers.\n",
    "* Too many variables with insignificant correlation.But the day, month and hour of pickups are highly correlated to those of dropoff.\n",
    "* The distance_pick_drop is moderately correlated to trip duration by referring to Spearman comparison.\n",
    "* The difference between the distances by day moments is very significant.\n",
    "* The difference between the number of passengers by day moments is very significant. We can see that most of long distance are made during evening by taxi having between 2 and 4 passengers. As the distance increases, the number of passengers decreases.\n",
    "* The difference between the trip duration during day and by night is significant. Also between trip duration for evening and middle morning, and also between all others day moments. \n",
    "* As expected the trip duration increases with the distance traveled.\n",
    "* The difference between the trip distance with 1 and more passengers is significant. The difference between the trip duration with 2 passengers and 3 up to 4 passengers is not significant. But from 5 passengers the trip duration decreases significantly compared to with 2, 3, 4. Therefore the difference between taxi travel time with 5 and 6 passengers is not significant.\n"
   ]
  },
  {
   "cell_type": "markdown",
   "id": "da7f58b5",
   "metadata": {},
   "source": [
    "## Loading Packages"
   ]
  },
  {
   "cell_type": "code",
   "execution_count": 1,
   "id": "e6baaa1c",
   "metadata": {},
   "outputs": [],
   "source": [
    "import numpy as np\n",
    "import pandas as pd\n",
    "import seaborn as sb\n",
    "import matplotlib.pyplot as plt\n",
    "%matplotlib inline\n",
    "from sklearn.preprocessing import LabelEncoder\n",
    "from sklearn.preprocessing import StandardScaler\n",
    "from sklearn.model_selection import KFold, StratifiedKFold, train_test_split\n",
    "from sklearn.metrics import mean_squared_error,accuracy_score,r2_score,median_absolute_error\n",
    "import warnings\n",
    "warnings.simplefilter(action='ignore', category=FutureWarning)\n",
    "warnings.simplefilter(action='ignore', category=UserWarning)"
   ]
  },
  {
   "cell_type": "markdown",
   "id": "57b12a5d",
   "metadata": {},
   "source": [
    "## Loading Data"
   ]
  },
  {
   "cell_type": "code",
   "execution_count": 2,
   "id": "3eb5ecb2",
   "metadata": {},
   "outputs": [],
   "source": [
    "df = pd.read_csv('./trip_data.csv')"
   ]
  },
  {
   "cell_type": "code",
   "execution_count": 3,
   "id": "dffa2024",
   "metadata": {},
   "outputs": [
    {
     "data": {
      "text/html": [
       "<div>\n",
       "<style scoped>\n",
       "    .dataframe tbody tr th:only-of-type {\n",
       "        vertical-align: middle;\n",
       "    }\n",
       "\n",
       "    .dataframe tbody tr th {\n",
       "        vertical-align: top;\n",
       "    }\n",
       "\n",
       "    .dataframe thead th {\n",
       "        text-align: right;\n",
       "    }\n",
       "</style>\n",
       "<table border=\"1\" class=\"dataframe\">\n",
       "  <thead>\n",
       "    <tr style=\"text-align: right;\">\n",
       "      <th></th>\n",
       "      <th>passenger_count</th>\n",
       "      <th>trip_duration</th>\n",
       "      <th>day_pickup_datetime</th>\n",
       "      <th>month_pickup_datetime</th>\n",
       "      <th>hour_pickup_datetime</th>\n",
       "      <th>day_of_week_pickup_datetime</th>\n",
       "      <th>day_dropoff_datetime</th>\n",
       "      <th>month_dropoff_datetime</th>\n",
       "      <th>hour_dropoff_datetime</th>\n",
       "      <th>day_of_week_dropoff_datetime</th>\n",
       "      <th>Distance_pick_drop</th>\n",
       "      <th>day_moments</th>\n",
       "      <th>distance_slots</th>\n",
       "    </tr>\n",
       "  </thead>\n",
       "  <tbody>\n",
       "    <tr>\n",
       "      <th>0</th>\n",
       "      <td>1</td>\n",
       "      <td>400.0</td>\n",
       "      <td>29</td>\n",
       "      <td>2</td>\n",
       "      <td>16</td>\n",
       "      <td>0</td>\n",
       "      <td>29</td>\n",
       "      <td>2</td>\n",
       "      <td>16</td>\n",
       "      <td>0</td>\n",
       "      <td>1.199073</td>\n",
       "      <td>Afternoon</td>\n",
       "      <td>Shortest_distance</td>\n",
       "    </tr>\n",
       "    <tr>\n",
       "      <th>1</th>\n",
       "      <td>2</td>\n",
       "      <td>1100.0</td>\n",
       "      <td>11</td>\n",
       "      <td>3</td>\n",
       "      <td>23</td>\n",
       "      <td>4</td>\n",
       "      <td>11</td>\n",
       "      <td>3</td>\n",
       "      <td>23</td>\n",
       "      <td>4</td>\n",
       "      <td>4.129111</td>\n",
       "      <td>Evening</td>\n",
       "      <td>Long_distance</td>\n",
       "    </tr>\n",
       "    <tr>\n",
       "      <th>2</th>\n",
       "      <td>2</td>\n",
       "      <td>1635.0</td>\n",
       "      <td>21</td>\n",
       "      <td>2</td>\n",
       "      <td>17</td>\n",
       "      <td>6</td>\n",
       "      <td>21</td>\n",
       "      <td>2</td>\n",
       "      <td>18</td>\n",
       "      <td>6</td>\n",
       "      <td>7.250753</td>\n",
       "      <td>Afternoon</td>\n",
       "      <td>Long_distance</td>\n",
       "    </tr>\n",
       "    <tr>\n",
       "      <th>3</th>\n",
       "      <td>6</td>\n",
       "      <td>1141.0</td>\n",
       "      <td>5</td>\n",
       "      <td>1</td>\n",
       "      <td>9</td>\n",
       "      <td>1</td>\n",
       "      <td>5</td>\n",
       "      <td>1</td>\n",
       "      <td>10</td>\n",
       "      <td>1</td>\n",
       "      <td>2.361097</td>\n",
       "      <td>Early_morning</td>\n",
       "      <td>Shortest_distance</td>\n",
       "    </tr>\n",
       "    <tr>\n",
       "      <th>4</th>\n",
       "      <td>1</td>\n",
       "      <td>848.0</td>\n",
       "      <td>17</td>\n",
       "      <td>2</td>\n",
       "      <td>6</td>\n",
       "      <td>2</td>\n",
       "      <td>17</td>\n",
       "      <td>2</td>\n",
       "      <td>6</td>\n",
       "      <td>2</td>\n",
       "      <td>4.328534</td>\n",
       "      <td>Early_morning</td>\n",
       "      <td>Long_distance</td>\n",
       "    </tr>\n",
       "  </tbody>\n",
       "</table>\n",
       "</div>"
      ],
      "text/plain": [
       "   passenger_count  trip_duration  day_pickup_datetime  month_pickup_datetime  \\\n",
       "0                1          400.0                   29                      2   \n",
       "1                2         1100.0                   11                      3   \n",
       "2                2         1635.0                   21                      2   \n",
       "3                6         1141.0                    5                      1   \n",
       "4                1          848.0                   17                      2   \n",
       "\n",
       "   hour_pickup_datetime  day_of_week_pickup_datetime  day_dropoff_datetime  \\\n",
       "0                    16                            0                    29   \n",
       "1                    23                            4                    11   \n",
       "2                    17                            6                    21   \n",
       "3                     9                            1                     5   \n",
       "4                     6                            2                    17   \n",
       "\n",
       "   month_dropoff_datetime  hour_dropoff_datetime  \\\n",
       "0                       2                     16   \n",
       "1                       3                     23   \n",
       "2                       2                     18   \n",
       "3                       1                     10   \n",
       "4                       2                      6   \n",
       "\n",
       "   day_of_week_dropoff_datetime  Distance_pick_drop    day_moments  \\\n",
       "0                             0            1.199073      Afternoon   \n",
       "1                             4            4.129111        Evening   \n",
       "2                             6            7.250753      Afternoon   \n",
       "3                             1            2.361097  Early_morning   \n",
       "4                             2            4.328534  Early_morning   \n",
       "\n",
       "      distance_slots  \n",
       "0  Shortest_distance  \n",
       "1      Long_distance  \n",
       "2      Long_distance  \n",
       "3  Shortest_distance  \n",
       "4      Long_distance  "
      ]
     },
     "execution_count": 3,
     "metadata": {},
     "output_type": "execute_result"
    }
   ],
   "source": [
    "df.head()"
   ]
  },
  {
   "cell_type": "code",
   "execution_count": 4,
   "id": "4bf00b26",
   "metadata": {},
   "outputs": [
    {
     "data": {
      "text/plain": [
       "passenger_count                   int64\n",
       "trip_duration                   float64\n",
       "day_pickup_datetime               int64\n",
       "month_pickup_datetime             int64\n",
       "hour_pickup_datetime              int64\n",
       "day_of_week_pickup_datetime       int64\n",
       "day_dropoff_datetime              int64\n",
       "month_dropoff_datetime            int64\n",
       "hour_dropoff_datetime             int64\n",
       "day_of_week_dropoff_datetime      int64\n",
       "Distance_pick_drop              float64\n",
       "day_moments                      object\n",
       "distance_slots                   object\n",
       "dtype: object"
      ]
     },
     "execution_count": 4,
     "metadata": {},
     "output_type": "execute_result"
    }
   ],
   "source": [
    "df.dtypes"
   ]
  },
  {
   "cell_type": "code",
   "execution_count": 5,
   "id": "209554d9",
   "metadata": {},
   "outputs": [
    {
     "data": {
      "text/html": [
       "<div>\n",
       "<style scoped>\n",
       "    .dataframe tbody tr th:only-of-type {\n",
       "        vertical-align: middle;\n",
       "    }\n",
       "\n",
       "    .dataframe tbody tr th {\n",
       "        vertical-align: top;\n",
       "    }\n",
       "\n",
       "    .dataframe thead th {\n",
       "        text-align: right;\n",
       "    }\n",
       "</style>\n",
       "<table border=\"1\" class=\"dataframe\">\n",
       "  <thead>\n",
       "    <tr style=\"text-align: right;\">\n",
       "      <th></th>\n",
       "      <th>day_moments</th>\n",
       "      <th>distance_slots</th>\n",
       "    </tr>\n",
       "  </thead>\n",
       "  <tbody>\n",
       "    <tr>\n",
       "      <th>count</th>\n",
       "      <td>726075</td>\n",
       "      <td>726075</td>\n",
       "    </tr>\n",
       "    <tr>\n",
       "      <th>unique</th>\n",
       "      <td>5</td>\n",
       "      <td>2</td>\n",
       "    </tr>\n",
       "    <tr>\n",
       "      <th>top</th>\n",
       "      <td>Evening</td>\n",
       "      <td>Shortest_distance</td>\n",
       "    </tr>\n",
       "    <tr>\n",
       "      <th>freq</th>\n",
       "      <td>249177</td>\n",
       "      <td>477794</td>\n",
       "    </tr>\n",
       "  </tbody>\n",
       "</table>\n",
       "</div>"
      ],
      "text/plain": [
       "       day_moments     distance_slots\n",
       "count       726075             726075\n",
       "unique           5                  2\n",
       "top        Evening  Shortest_distance\n",
       "freq        249177             477794"
      ]
     },
     "execution_count": 5,
     "metadata": {},
     "output_type": "execute_result"
    }
   ],
   "source": [
    "df.describe(include='O')"
   ]
  },
  {
   "cell_type": "markdown",
   "id": "63a71cfd",
   "metadata": {},
   "source": [
    "### Preprocessing\n",
    "\n",
    "Now, before applying linear model such as logistic regression and others, we need to scale the data and keep all features as numeric strictly. \n"
   ]
  },
  {
   "cell_type": "markdown",
   "id": "3f197ab6",
   "metadata": {},
   "source": [
    "### Dummies with Multiple Categories"
   ]
  },
  {
   "cell_type": "code",
   "execution_count": 6,
   "id": "853fa5ae",
   "metadata": {
    "scrolled": true
   },
   "outputs": [
    {
     "data": {
      "text/html": [
       "<div>\n",
       "<style scoped>\n",
       "    .dataframe tbody tr th:only-of-type {\n",
       "        vertical-align: middle;\n",
       "    }\n",
       "\n",
       "    .dataframe tbody tr th {\n",
       "        vertical-align: top;\n",
       "    }\n",
       "\n",
       "    .dataframe thead th {\n",
       "        text-align: right;\n",
       "    }\n",
       "</style>\n",
       "<table border=\"1\" class=\"dataframe\">\n",
       "  <thead>\n",
       "    <tr style=\"text-align: right;\">\n",
       "      <th></th>\n",
       "      <th>passenger_count</th>\n",
       "      <th>trip_duration</th>\n",
       "      <th>day_pickup_datetime</th>\n",
       "      <th>month_pickup_datetime</th>\n",
       "      <th>hour_pickup_datetime</th>\n",
       "      <th>day_of_week_pickup_datetime</th>\n",
       "      <th>day_dropoff_datetime</th>\n",
       "      <th>month_dropoff_datetime</th>\n",
       "      <th>hour_dropoff_datetime</th>\n",
       "      <th>day_of_week_dropoff_datetime</th>\n",
       "      <th>...</th>\n",
       "      <th>day_of_week_dropoff_datetime_4</th>\n",
       "      <th>day_of_week_dropoff_datetime_5</th>\n",
       "      <th>day_of_week_dropoff_datetime_6</th>\n",
       "      <th>day_of_week_pickup_datetime_0</th>\n",
       "      <th>day_of_week_pickup_datetime_1</th>\n",
       "      <th>day_of_week_pickup_datetime_2</th>\n",
       "      <th>day_of_week_pickup_datetime_3</th>\n",
       "      <th>day_of_week_pickup_datetime_4</th>\n",
       "      <th>day_of_week_pickup_datetime_5</th>\n",
       "      <th>day_of_week_pickup_datetime_6</th>\n",
       "    </tr>\n",
       "  </thead>\n",
       "  <tbody>\n",
       "    <tr>\n",
       "      <th>0</th>\n",
       "      <td>1</td>\n",
       "      <td>400.0</td>\n",
       "      <td>29</td>\n",
       "      <td>2</td>\n",
       "      <td>16</td>\n",
       "      <td>0</td>\n",
       "      <td>29</td>\n",
       "      <td>2</td>\n",
       "      <td>16</td>\n",
       "      <td>0</td>\n",
       "      <td>...</td>\n",
       "      <td>0</td>\n",
       "      <td>0</td>\n",
       "      <td>0</td>\n",
       "      <td>1</td>\n",
       "      <td>0</td>\n",
       "      <td>0</td>\n",
       "      <td>0</td>\n",
       "      <td>0</td>\n",
       "      <td>0</td>\n",
       "      <td>0</td>\n",
       "    </tr>\n",
       "    <tr>\n",
       "      <th>1</th>\n",
       "      <td>2</td>\n",
       "      <td>1100.0</td>\n",
       "      <td>11</td>\n",
       "      <td>3</td>\n",
       "      <td>23</td>\n",
       "      <td>4</td>\n",
       "      <td>11</td>\n",
       "      <td>3</td>\n",
       "      <td>23</td>\n",
       "      <td>4</td>\n",
       "      <td>...</td>\n",
       "      <td>1</td>\n",
       "      <td>0</td>\n",
       "      <td>0</td>\n",
       "      <td>0</td>\n",
       "      <td>0</td>\n",
       "      <td>0</td>\n",
       "      <td>0</td>\n",
       "      <td>1</td>\n",
       "      <td>0</td>\n",
       "      <td>0</td>\n",
       "    </tr>\n",
       "    <tr>\n",
       "      <th>2</th>\n",
       "      <td>2</td>\n",
       "      <td>1635.0</td>\n",
       "      <td>21</td>\n",
       "      <td>2</td>\n",
       "      <td>17</td>\n",
       "      <td>6</td>\n",
       "      <td>21</td>\n",
       "      <td>2</td>\n",
       "      <td>18</td>\n",
       "      <td>6</td>\n",
       "      <td>...</td>\n",
       "      <td>0</td>\n",
       "      <td>0</td>\n",
       "      <td>1</td>\n",
       "      <td>0</td>\n",
       "      <td>0</td>\n",
       "      <td>0</td>\n",
       "      <td>0</td>\n",
       "      <td>0</td>\n",
       "      <td>0</td>\n",
       "      <td>1</td>\n",
       "    </tr>\n",
       "    <tr>\n",
       "      <th>3</th>\n",
       "      <td>6</td>\n",
       "      <td>1141.0</td>\n",
       "      <td>5</td>\n",
       "      <td>1</td>\n",
       "      <td>9</td>\n",
       "      <td>1</td>\n",
       "      <td>5</td>\n",
       "      <td>1</td>\n",
       "      <td>10</td>\n",
       "      <td>1</td>\n",
       "      <td>...</td>\n",
       "      <td>0</td>\n",
       "      <td>0</td>\n",
       "      <td>0</td>\n",
       "      <td>0</td>\n",
       "      <td>1</td>\n",
       "      <td>0</td>\n",
       "      <td>0</td>\n",
       "      <td>0</td>\n",
       "      <td>0</td>\n",
       "      <td>0</td>\n",
       "    </tr>\n",
       "    <tr>\n",
       "      <th>4</th>\n",
       "      <td>1</td>\n",
       "      <td>848.0</td>\n",
       "      <td>17</td>\n",
       "      <td>2</td>\n",
       "      <td>6</td>\n",
       "      <td>2</td>\n",
       "      <td>17</td>\n",
       "      <td>2</td>\n",
       "      <td>6</td>\n",
       "      <td>2</td>\n",
       "      <td>...</td>\n",
       "      <td>0</td>\n",
       "      <td>0</td>\n",
       "      <td>0</td>\n",
       "      <td>0</td>\n",
       "      <td>0</td>\n",
       "      <td>1</td>\n",
       "      <td>0</td>\n",
       "      <td>0</td>\n",
       "      <td>0</td>\n",
       "      <td>0</td>\n",
       "    </tr>\n",
       "  </tbody>\n",
       "</table>\n",
       "<p>5 rows × 41 columns</p>\n",
       "</div>"
      ],
      "text/plain": [
       "   passenger_count  trip_duration  day_pickup_datetime  month_pickup_datetime  \\\n",
       "0                1          400.0                   29                      2   \n",
       "1                2         1100.0                   11                      3   \n",
       "2                2         1635.0                   21                      2   \n",
       "3                6         1141.0                    5                      1   \n",
       "4                1          848.0                   17                      2   \n",
       "\n",
       "   hour_pickup_datetime  day_of_week_pickup_datetime  day_dropoff_datetime  \\\n",
       "0                    16                            0                    29   \n",
       "1                    23                            4                    11   \n",
       "2                    17                            6                    21   \n",
       "3                     9                            1                     5   \n",
       "4                     6                            2                    17   \n",
       "\n",
       "   month_dropoff_datetime  hour_dropoff_datetime  \\\n",
       "0                       2                     16   \n",
       "1                       3                     23   \n",
       "2                       2                     18   \n",
       "3                       1                     10   \n",
       "4                       2                      6   \n",
       "\n",
       "   day_of_week_dropoff_datetime  ...  day_of_week_dropoff_datetime_4  \\\n",
       "0                             0  ...                               0   \n",
       "1                             4  ...                               1   \n",
       "2                             6  ...                               0   \n",
       "3                             1  ...                               0   \n",
       "4                             2  ...                               0   \n",
       "\n",
       "  day_of_week_dropoff_datetime_5 day_of_week_dropoff_datetime_6  \\\n",
       "0                              0                              0   \n",
       "1                              0                              0   \n",
       "2                              0                              1   \n",
       "3                              0                              0   \n",
       "4                              0                              0   \n",
       "\n",
       "   day_of_week_pickup_datetime_0  day_of_week_pickup_datetime_1  \\\n",
       "0                              1                              0   \n",
       "1                              0                              0   \n",
       "2                              0                              0   \n",
       "3                              0                              1   \n",
       "4                              0                              0   \n",
       "\n",
       "   day_of_week_pickup_datetime_2  day_of_week_pickup_datetime_3  \\\n",
       "0                              0                              0   \n",
       "1                              0                              0   \n",
       "2                              0                              0   \n",
       "3                              0                              0   \n",
       "4                              1                              0   \n",
       "\n",
       "   day_of_week_pickup_datetime_4  day_of_week_pickup_datetime_5  \\\n",
       "0                              0                              0   \n",
       "1                              1                              0   \n",
       "2                              0                              0   \n",
       "3                              0                              0   \n",
       "4                              0                              0   \n",
       "\n",
       "   day_of_week_pickup_datetime_6  \n",
       "0                              0  \n",
       "1                              0  \n",
       "2                              1  \n",
       "3                              0  \n",
       "4                              0  \n",
       "\n",
       "[5 rows x 41 columns]"
      ]
     },
     "execution_count": 6,
     "metadata": {},
     "output_type": "execute_result"
    }
   ],
   "source": [
    "# Convert categorical variables to one hot encoded features\n",
    "cat_vars = ['passenger_count','day_moments','distance_slots', 'day_of_week_dropoff_datetime', 'day_of_week_pickup_datetime']\n",
    "for el in cat_vars:\n",
    "    df = pd.concat([df,pd.get_dummies(df[el],prefix = str(el),prefix_sep='_')],axis = 1)\n",
    "df.head()"
   ]
  },
  {
   "cell_type": "code",
   "execution_count": 7,
   "id": "c4d95c13",
   "metadata": {},
   "outputs": [
    {
     "data": {
      "text/plain": [
       "(array([ 50659., 146457., 144868., 111909.,  81814.,  56273.,  39099.,\n",
       "         26903.,  18511.,  49582.]),\n",
       " array([1.00000e+00, 2.10450e+02, 4.19900e+02, 6.29350e+02, 8.38800e+02,\n",
       "        1.04825e+03, 1.25770e+03, 1.46715e+03, 1.67660e+03, 1.88605e+03,\n",
       "        2.09550e+03]),\n",
       " <BarContainer object of 10 artists>)"
      ]
     },
     "execution_count": 7,
     "metadata": {},
     "output_type": "execute_result"
    },
    {
     "data": {
      "image/png": "[encoded data removed]",
      "text/plain": [
       "<Figure size 640x480 with 1 Axes>"
      ]
     },
     "metadata": {},
     "output_type": "display_data"
    }
   ],
   "source": [
    "# Before scale numerical features let's see one more time its distribution\n",
    "plt.hist(df.trip_duration)"
   ]
  },
  {
   "cell_type": "code",
   "execution_count": 8,
   "id": "1745ed96",
   "metadata": {},
   "outputs": [
    {
     "data": {
      "text/plain": [
       "(array([ 68558., 191385., 142337.,  88973.,  55760.,  37122.,  26657.,\n",
       "         19993.,  14716.,  80574.]),\n",
       " array([1.06156854e-03, 7.87455412e-01, 1.57384925e+00, 2.36024310e+00,\n",
       "        3.14663694e+00, 3.93303078e+00, 4.71942463e+00, 5.50581847e+00,\n",
       "        6.29221231e+00, 7.07860616e+00, 7.86500000e+00]),\n",
       " <BarContainer object of 10 artists>)"
      ]
     },
     "execution_count": 8,
     "metadata": {},
     "output_type": "execute_result"
    },
    {
     "data": {
      "image/png": "[encoded data removed]",
      "text/plain": [
       "<Figure size 640x480 with 1 Axes>"
      ]
     },
     "metadata": {},
     "output_type": "display_data"
    }
   ],
   "source": [
    "plt.hist(df.Distance_pick_drop)"
   ]
  },
  {
   "cell_type": "code",
   "execution_count": 9,
   "id": "e7566b7a",
   "metadata": {},
   "outputs": [
    {
     "name": "stdout",
     "output_type": "stream",
     "text": [
      "       trip_duration  Distance_pick_drop\n",
      "count  726075.000000       726075.000000\n",
      "mean      802.864444            2.916481\n",
      "std       528.874250            2.247042\n",
      "min         1.000000            0.001062\n",
      "25%       398.000000            1.242392\n",
      "50%       664.000000            2.105738\n",
      "75%      1077.000000            3.889779\n",
      "max      2095.500000            7.865000\n",
      "trip_duration         0.969453\n",
      "Distance_pick_drop    1.100163\n",
      "dtype: float64\n"
     ]
    }
   ],
   "source": [
    "print(df[['trip_duration','Distance_pick_drop']].describe())\n",
    "print(df[['trip_duration','Distance_pick_drop']].skew())"
   ]
  },
  {
   "cell_type": "markdown",
   "id": "39ff80a3",
   "metadata": {},
   "source": [
    "The two numerical distributions are similar and strongly skewed at right."
   ]
  },
  {
   "cell_type": "markdown",
   "id": "4de7ac54",
   "metadata": {},
   "source": [
    "df = pd.read_csv('./trip_data.csv')"
   ]
  },
  {
   "cell_type": "markdown",
   "id": "af35bfc5",
   "metadata": {},
   "source": [
    "### Scaling Numerical Features for Logistic Regression\n",
    "\n",
    "* Log Transformation\n",
    "* Standard Scaler\n",
    "\n",
    "Standard scaling is anyways a necessity when it comes to linear models and we have done that here after doing log transformation on all numerical features."
   ]
  },
  {
   "cell_type": "code",
   "execution_count": 10,
   "id": "db2e7a95",
   "metadata": {},
   "outputs": [],
   "source": [
    "num_cols = ['Distance_pick_drop']\n",
    "for i in num_cols:\n",
    "    df[i] = np.log(df[i]+10)\n",
    "\n",
    "std = StandardScaler()\n",
    "scaled = std.fit_transform(df[num_cols])\n",
    "scaled = pd.DataFrame(scaled,columns=num_cols)"
   ]
  },
  {
   "cell_type": "code",
   "execution_count": 11,
   "id": "ab4d85d7",
   "metadata": {
    "scrolled": true
   },
   "outputs": [
    {
     "data": {
      "text/plain": [
       "(array([ 33635., 145164., 148321., 108733.,  73403.,  50028.,  35770.,\n",
       "         26699.,  20084.,  84238.]),\n",
       " array([-1.49309175, -1.13522592, -0.77736009, -0.41949427, -0.06162844,\n",
       "         0.29623739,  0.65410321,  1.01196904,  1.36983486,  1.72770069,\n",
       "         2.08556652]),\n",
       " <BarContainer object of 10 artists>)"
      ]
     },
     "execution_count": 11,
     "metadata": {},
     "output_type": "execute_result"
    },
    {
     "data": {
      "image/png": "[encoded data removed]",
      "text/plain": [
       "<Figure size 640x480 with 1 Axes>"
      ]
     },
     "metadata": {},
     "output_type": "display_data"
    }
   ],
   "source": [
    "plt.hist(scaled.Distance_pick_drop)"
   ]
  },
  {
   "cell_type": "code",
   "execution_count": 12,
   "id": "110a5ca9",
   "metadata": {},
   "outputs": [],
   "source": [
    "df_df_og = df.copy()\n",
    "df = df.drop(columns = num_cols,axis = 1)\n",
    "df = df.merge(scaled,left_index=True,right_index=True,how = \"left\")"
   ]
  },
  {
   "cell_type": "code",
   "execution_count": 13,
   "id": "da6851b8",
   "metadata": {},
   "outputs": [],
   "source": [
    "y_all = df.trip_duration"
   ]
  },
  {
   "cell_type": "markdown",
   "id": "ad33f916",
   "metadata": {},
   "source": [
    "## Model Building and Evaluation Metrics\n",
    "Since this is a regression problem, we could use the following 2 metrics:\n",
    "\n",
    "1. Mean Squared Error\n",
    "2. Adjusted R²\n",
    "\n",
    "We want to predict with good precision the trip duration. If the estimate time for a trip is more than reality that will not a matter but the reverse could discredit the taxi services.So we want reduce at maximum FP( False positive). As we are facing a regression problem the more suitable metrics are MSE/MAE or R²/Adjusted R².\n",
    "\n",
    "\n"
   ]
  },
  {
   "cell_type": "markdown",
   "id": "b55ee158",
   "metadata": {},
   "source": [
    "### Conclusions from EDA\n",
    "* The distance_pick_drop is moderately correlated to trip duration by referring to Spearman comparison.\n",
    "* The difference between the trip duration during day and by night is significant. Also between trip duration for evening and middle morning, and also between all others day moments. \n",
    "* As expected the trip duration increases with the distance traveled.\n",
    "* All trips durations discrepancies through the week are very significant between them.\n",
    "* The difference between the trip distance with 1 and more passengers is significant. The difference between the trip duration with 2 passengers and 3 up to 4 passengers is not significant. But from 5 passengers the trip duration decreases significantly compared to with 2, 3, 4. Therefore the difference between taxi travel time with 5 and 6 passengers is not significant.That means that taxi which bring 5 customers in most of cases go to same point.\n",
    "\n",
    "Now, we will first split our dataset into test and train and using the above conclusions select columns and build a baseline linear regression model to check the MSE Score & the R² score.\n"
   ]
  },
  {
   "cell_type": "markdown",
   "id": "8fcb4d09",
   "metadata": {},
   "source": [
    "### Baseline Columns"
   ]
  },
  {
   "cell_type": "code",
   "execution_count": 14,
   "id": "c5d19ddf",
   "metadata": {
    "scrolled": false
   },
   "outputs": [
    {
     "data": {
      "text/plain": [
       "Index(['passenger_count', 'trip_duration', 'day_pickup_datetime',\n",
       "       'month_pickup_datetime', 'hour_pickup_datetime',\n",
       "       'day_of_week_pickup_datetime', 'day_dropoff_datetime',\n",
       "       'month_dropoff_datetime', 'hour_dropoff_datetime',\n",
       "       'day_of_week_dropoff_datetime', 'day_moments', 'distance_slots',\n",
       "       'passenger_count_1', 'passenger_count_2', 'passenger_count_3',\n",
       "       'passenger_count_4', 'passenger_count_5', 'passenger_count_6',\n",
       "       'passenger_count_7', 'day_moments_Afternoon',\n",
       "       'day_moments_Early_morning', 'day_moments_Evening',\n",
       "       'day_moments_Full_night', 'day_moments_Middle_morning',\n",
       "       'distance_slots_Long_distance', 'distance_slots_Shortest_distance',\n",
       "       'day_of_week_dropoff_datetime_0', 'day_of_week_dropoff_datetime_1',\n",
       "       'day_of_week_dropoff_datetime_2', 'day_of_week_dropoff_datetime_3',\n",
       "       'day_of_week_dropoff_datetime_4', 'day_of_week_dropoff_datetime_5',\n",
       "       'day_of_week_dropoff_datetime_6', 'day_of_week_pickup_datetime_0',\n",
       "       'day_of_week_pickup_datetime_1', 'day_of_week_pickup_datetime_2',\n",
       "       'day_of_week_pickup_datetime_3', 'day_of_week_pickup_datetime_4',\n",
       "       'day_of_week_pickup_datetime_5', 'day_of_week_pickup_datetime_6',\n",
       "       'Distance_pick_drop'],\n",
       "      dtype='object')"
      ]
     },
     "execution_count": 14,
     "metadata": {},
     "output_type": "execute_result"
    }
   ],
   "source": [
    "df.columns"
   ]
  },
  {
   "cell_type": "code",
   "execution_count": 15,
   "id": "dc79224a",
   "metadata": {},
   "outputs": [
    {
     "data": {
      "text/plain": [
       "passenger_count                       int64\n",
       "trip_duration                       float64\n",
       "day_pickup_datetime                   int64\n",
       "month_pickup_datetime                 int64\n",
       "hour_pickup_datetime                  int64\n",
       "day_of_week_pickup_datetime           int64\n",
       "day_dropoff_datetime                  int64\n",
       "month_dropoff_datetime                int64\n",
       "hour_dropoff_datetime                 int64\n",
       "day_of_week_dropoff_datetime          int64\n",
       "day_moments                          object\n",
       "distance_slots                       object\n",
       "passenger_count_1                     uint8\n",
       "passenger_count_2                     uint8\n",
       "passenger_count_3                     uint8\n",
       "passenger_count_4                     uint8\n",
       "passenger_count_5                     uint8\n",
       "passenger_count_6                     uint8\n",
       "passenger_count_7                     uint8\n",
       "day_moments_Afternoon                 uint8\n",
       "day_moments_Early_morning             uint8\n",
       "day_moments_Evening                   uint8\n",
       "day_moments_Full_night                uint8\n",
       "day_moments_Middle_morning            uint8\n",
       "distance_slots_Long_distance          uint8\n",
       "distance_slots_Shortest_distance      uint8\n",
       "day_of_week_dropoff_datetime_0        uint8\n",
       "day_of_week_dropoff_datetime_1        uint8\n",
       "day_of_week_dropoff_datetime_2        uint8\n",
       "day_of_week_dropoff_datetime_3        uint8\n",
       "day_of_week_dropoff_datetime_4        uint8\n",
       "day_of_week_dropoff_datetime_5        uint8\n",
       "day_of_week_dropoff_datetime_6        uint8\n",
       "day_of_week_pickup_datetime_0         uint8\n",
       "day_of_week_pickup_datetime_1         uint8\n",
       "day_of_week_pickup_datetime_2         uint8\n",
       "day_of_week_pickup_datetime_3         uint8\n",
       "day_of_week_pickup_datetime_4         uint8\n",
       "day_of_week_pickup_datetime_5         uint8\n",
       "day_of_week_pickup_datetime_6         uint8\n",
       "Distance_pick_drop                  float64\n",
       "dtype: object"
      ]
     },
     "execution_count": 15,
     "metadata": {},
     "output_type": "execute_result"
    }
   ],
   "source": [
    "df.dtypes"
   ]
  },
  {
   "cell_type": "code",
   "execution_count": 16,
   "id": "a2113899",
   "metadata": {},
   "outputs": [],
   "source": [
    "baseline_cols = ['day_pickup_datetime', 'month_pickup_datetime',\n",
    "       'hour_pickup_datetime', 'day_dropoff_datetime',\n",
    "       'month_dropoff_datetime', 'hour_dropoff_datetime','passenger_count_1', 'passenger_count_2',\n",
    "       'passenger_count_3', 'passenger_count_4', 'passenger_count_5',\n",
    "       'passenger_count_6', 'passenger_count_7', 'day_moments_Afternoon',\n",
    "       'day_moments_Early_morning', 'day_moments_Evening',\n",
    "       'day_moments_Full_night', 'day_moments_Middle_morning',\n",
    "       'distance_slots_Long_distance', 'distance_slots_Shortest_distance',\n",
    "       'Distance_pick_drop','day_of_week_dropoff_datetime_0', 'day_of_week_dropoff_datetime_1',\n",
    "       'day_of_week_dropoff_datetime_2', 'day_of_week_dropoff_datetime_3',\n",
    "       'day_of_week_dropoff_datetime_4', 'day_of_week_dropoff_datetime_5',\n",
    "       'day_of_week_dropoff_datetime_6', 'day_of_week_pickup_datetime_0',\n",
    "       'day_of_week_pickup_datetime_1', 'day_of_week_pickup_datetime_2',\n",
    "       'day_of_week_pickup_datetime_3', 'day_of_week_pickup_datetime_4',\n",
    "       'day_of_week_pickup_datetime_5', 'day_of_week_pickup_datetime_6']"
   ]
  },
  {
   "cell_type": "code",
   "execution_count": 17,
   "id": "d596ed84",
   "metadata": {},
   "outputs": [],
   "source": [
    "df_baseline = df[baseline_cols]"
   ]
  },
  {
   "cell_type": "markdown",
   "id": "33d2d38c",
   "metadata": {},
   "source": [
    "### Train Test Split to create a validation set"
   ]
  },
  {
   "cell_type": "code",
   "execution_count": 18,
   "id": "bd14bd53",
   "metadata": {},
   "outputs": [],
   "source": [
    "# Splitting the data into Train and Validation set\n",
    "xtrain, xtest, ytrain, ytest = train_test_split(df_baseline,y_all,test_size=1/3, random_state=64, stratify = y_all)"
   ]
  },
  {
   "cell_type": "code",
   "execution_count": 19,
   "id": "c46a08ae",
   "metadata": {},
   "outputs": [
    {
     "data": {
      "text/html": [
       "<style>#sk-container-id-1 {color: black;background-color: white;}#sk-container-id-1 pre{padding: 0;}#sk-container-id-1 div.sk-toggleable {background-color: white;}#sk-container-id-1 label.sk-toggleable__label {cursor: pointer;display: block;width: 100%;margin-bottom: 0;padding: 0.3em;box-sizing: border-box;text-align: center;}#sk-container-id-1 label.sk-toggleable__label-arrow:before {content: \"▸\";float: left;margin-right: 0.25em;color: #696969;}#sk-container-id-1 label.sk-toggleable__label-arrow:hover:before {color: black;}#sk-container-id-1 div.sk-estimator:hover label.sk-toggleable__label-arrow:before {color: black;}#sk-container-id-1 div.sk-toggleable__content {max-height: 0;max-width: 0;overflow: hidden;text-align: left;background-color: #f0f8ff;}#sk-container-id-1 div.sk-toggleable__content pre {margin: 0.2em;color: black;border-radius: 0.25em;background-color: #f0f8ff;}#sk-container-id-1 input.sk-toggleable__control:checked~div.sk-toggleable__content {max-height: 200px;max-width: 100%;overflow: auto;}#sk-container-id-1 input.sk-toggleable__control:checked~label.sk-toggleable__label-arrow:before {content: \"▾\";}#sk-container-id-1 div.sk-estimator input.sk-toggleable__control:checked~label.sk-toggleable__label {background-color: #d4ebff;}#sk-container-id-1 div.sk-label input.sk-toggleable__control:checked~label.sk-toggleable__label {background-color: #d4ebff;}#sk-container-id-1 input.sk-hidden--visually {border: 0;clip: rect(1px 1px 1px 1px);clip: rect(1px, 1px, 1px, 1px);height: 1px;margin: -1px;overflow: hidden;padding: 0;position: absolute;width: 1px;}#sk-container-id-1 div.sk-estimator {font-family: monospace;background-color: #f0f8ff;border: 1px dotted black;border-radius: 0.25em;box-sizing: border-box;margin-bottom: 0.5em;}#sk-container-id-1 div.sk-estimator:hover {background-color: #d4ebff;}#sk-container-id-1 div.sk-parallel-item::after {content: \"\";width: 100%;border-bottom: 1px solid gray;flex-grow: 1;}#sk-container-id-1 div.sk-label:hover label.sk-toggleable__label {background-color: #d4ebff;}#sk-container-id-1 div.sk-serial::before {content: \"\";position: absolute;border-left: 1px solid gray;box-sizing: border-box;top: 0;bottom: 0;left: 50%;z-index: 0;}#sk-container-id-1 div.sk-serial {display: flex;flex-direction: column;align-items: center;background-color: white;padding-right: 0.2em;padding-left: 0.2em;position: relative;}#sk-container-id-1 div.sk-item {position: relative;z-index: 1;}#sk-container-id-1 div.sk-parallel {display: flex;align-items: stretch;justify-content: center;background-color: white;position: relative;}#sk-container-id-1 div.sk-item::before, #sk-container-id-1 div.sk-parallel-item::before {content: \"\";position: absolute;border-left: 1px solid gray;box-sizing: border-box;top: 0;bottom: 0;left: 50%;z-index: -1;}#sk-container-id-1 div.sk-parallel-item {display: flex;flex-direction: column;z-index: 1;position: relative;background-color: white;}#sk-container-id-1 div.sk-parallel-item:first-child::after {align-self: flex-end;width: 50%;}#sk-container-id-1 div.sk-parallel-item:last-child::after {align-self: flex-start;width: 50%;}#sk-container-id-1 div.sk-parallel-item:only-child::after {width: 0;}#sk-container-id-1 div.sk-dashed-wrapped {border: 1px dashed gray;margin: 0 0.4em 0.5em 0.4em;box-sizing: border-box;padding-bottom: 0.4em;background-color: white;}#sk-container-id-1 div.sk-label label {font-family: monospace;font-weight: bold;display: inline-block;line-height: 1.2em;}#sk-container-id-1 div.sk-label-container {text-align: center;}#sk-container-id-1 div.sk-container {/* jupyter's `normalize.less` sets `[hidden] { display: none; }` but bootstrap.min.css set `[hidden] { display: none !important; }` so we also need the `!important` here to be able to override the default hidden behavior on the sphinx rendered scikit-learn.org. See: https://github.com/scikit-learn/scikit-learn/issues/21755 */display: inline-block !important;position: relative;}#sk-container-id-1 div.sk-text-repr-fallback {display: none;}</style><div id=\"sk-container-id-1\" class=\"sk-top-container\"><div class=\"sk-text-repr-fallback\"><pre>LinearRegression()</pre><b>In a Jupyter environment, please rerun this cell to show the HTML representation or trust the notebook. <br />On GitHub, the HTML representation is unable to render, please try loading this page with nbviewer.org.</b></div><div class=\"sk-container\" hidden><div class=\"sk-item\"><div class=\"sk-estimator sk-toggleable\"><input class=\"sk-toggleable__control sk-hidden--visually\" id=\"sk-estimator-id-1\" type=\"checkbox\" checked><label for=\"sk-estimator-id-1\" class=\"sk-toggleable__label sk-toggleable__label-arrow\">LinearRegression</label><div class=\"sk-toggleable__content\"><pre>LinearRegression()</pre></div></div></div></div></div>"
      ],
      "text/plain": [
       "LinearRegression()"
      ]
     },
     "execution_count": 19,
     "metadata": {},
     "output_type": "execute_result"
    }
   ],
   "source": [
    "from sklearn.linear_model import LinearRegression as LR\n",
    "from sklearn.metrics import mean_absolute_error as mae, r2_score, mean_squared_error as mse\n",
    "LinReg = LR()\n",
    "LinReg.fit(xtrain,ytrain)"
   ]
  },
  {
   "cell_type": "code",
   "execution_count": 20,
   "id": "2392add9",
   "metadata": {},
   "outputs": [
    {
     "name": "stdout",
     "output_type": "stream",
     "text": [
      "Training Mean Absolute Error:  223.78645489956486\n",
      "Testing Mean Absolute Error:  223.878331396225\n",
      "R2_Score for this baseline model: 0.6818962657503922\n",
      "MSE for model:  88965.59489067519\n"
     ]
    }
   ],
   "source": [
    "# Predicting on the train set\n",
    "train_predict = LinReg.predict(xtrain)\n",
    "k = mae(train_predict,ytrain)\n",
    "print('Training Mean Absolute Error: ',k)\n",
    "# Predicting on the test set\n",
    "test_predict = LinReg.predict(xtest)\n",
    "kt = mae(ytest,test_predict)\n",
    "print('Testing Mean Absolute Error: ',kt)\n",
    "print('R2_Score for this baseline model:',r2_score(ytest,test_predict))\n",
    "print('MSE for model: ', mse(ytest,test_predict))"
   ]
  },
  {
   "cell_type": "code",
   "execution_count": 21,
   "id": "98691245",
   "metadata": {
    "scrolled": true
   },
   "outputs": [
    {
     "data": {
      "text/plain": [
       "array([-1.04137742e+03, -3.17276758e+04, -5.94171441e+01,  1.04177667e+03,\n",
       "        3.17403982e+04,  4.78710051e+01, -1.56675577e+01,  3.98046079e+00,\n",
       "        1.37010004e+01,  1.62925465e+01, -9.94558925e+00, -8.36086073e+00,\n",
       "        3.31965566e-11,  1.52542170e+02, -5.72973077e+01,  8.19585512e+01,\n",
       "       -2.71532923e+02,  9.43295095e+01, -1.51218806e+01,  1.51218806e+01,\n",
       "        4.36057965e+02,  1.49703984e+02,  3.90241500e+01, -8.58897656e+01,\n",
       "       -1.57776658e+02, -1.22953971e+02,  2.73953877e+00,  1.75152721e+02,\n",
       "       -1.87453668e+02, -1.53449950e+01,  1.30090717e+02,  2.05565875e+02,\n",
       "        1.58025216e+02, -2.97387233e+01, -2.61144422e+02])"
      ]
     },
     "execution_count": 21,
     "metadata": {},
     "output_type": "execute_result"
    }
   ],
   "source": [
    "#Parameters of linear Regression\n",
    "LinReg.coef_"
   ]
  },
  {
   "cell_type": "code",
   "execution_count": 22,
   "id": "fdc6340d",
   "metadata": {},
   "outputs": [
    {
     "data": {
      "text/plain": [
       "Text(0.5, 1.0, 'Coefficients plot')"
      ]
     },
     "execution_count": 22,
     "metadata": {},
     "output_type": "execute_result"
    },
    {
     "data": {
      "image/png": "[encoded data removed]",
      "text/plain": [
       "<Figure size 960x720 with 1 Axes>"
      ]
     },
     "metadata": {},
     "output_type": "display_data"
    }
   ],
   "source": [
    "# Plotting the coefficients\n",
    "plt.figure(figsize = (8,6),dpi = 120, facecolor='w', edgecolor='b' )\n",
    "x = range(len(xtrain.columns))\n",
    "y = LinReg.coef_\n",
    "plt.bar(x,y)\n",
    "plt.xlabel('Variables')\n",
    "plt.ylabel('Coefficients')\n",
    "plt.title('Coefficients plot')"
   ]
  },
  {
   "cell_type": "code",
   "execution_count": 23,
   "id": "5ef00427",
   "metadata": {},
   "outputs": [
    {
     "data": {
      "text/html": [
       "<div>\n",
       "<style scoped>\n",
       "    .dataframe tbody tr th:only-of-type {\n",
       "        vertical-align: middle;\n",
       "    }\n",
       "\n",
       "    .dataframe tbody tr th {\n",
       "        vertical-align: top;\n",
       "    }\n",
       "\n",
       "    .dataframe thead th {\n",
       "        text-align: right;\n",
       "    }\n",
       "</style>\n",
       "<table border=\"1\" class=\"dataframe\">\n",
       "  <thead>\n",
       "    <tr style=\"text-align: right;\">\n",
       "      <th></th>\n",
       "      <th>fitted_values</th>\n",
       "      <th>predicted_values</th>\n",
       "      <th>residuals</th>\n",
       "    </tr>\n",
       "  </thead>\n",
       "  <tbody>\n",
       "    <tr>\n",
       "      <th>691198</th>\n",
       "      <td>734.0</td>\n",
       "      <td>365.024375</td>\n",
       "      <td>368.975625</td>\n",
       "    </tr>\n",
       "    <tr>\n",
       "      <th>117648</th>\n",
       "      <td>711.0</td>\n",
       "      <td>808.051662</td>\n",
       "      <td>-97.051662</td>\n",
       "    </tr>\n",
       "    <tr>\n",
       "      <th>288316</th>\n",
       "      <td>759.0</td>\n",
       "      <td>944.929021</td>\n",
       "      <td>-185.929021</td>\n",
       "    </tr>\n",
       "    <tr>\n",
       "      <th>179599</th>\n",
       "      <td>1067.0</td>\n",
       "      <td>1098.349121</td>\n",
       "      <td>-31.349121</td>\n",
       "    </tr>\n",
       "    <tr>\n",
       "      <th>244373</th>\n",
       "      <td>401.0</td>\n",
       "      <td>421.409364</td>\n",
       "      <td>-20.409364</td>\n",
       "    </tr>\n",
       "  </tbody>\n",
       "</table>\n",
       "</div>"
      ],
      "text/plain": [
       "        fitted_values  predicted_values   residuals\n",
       "691198          734.0        365.024375  368.975625\n",
       "117648          711.0        808.051662  -97.051662\n",
       "288316          759.0        944.929021 -185.929021\n",
       "179599         1067.0       1098.349121  -31.349121\n",
       "244373          401.0        421.409364  -20.409364"
      ]
     },
     "execution_count": 23,
     "metadata": {},
     "output_type": "execute_result"
    }
   ],
   "source": [
    "# Test set predicting\n",
    "test_predict = LinReg.predict(xtest)\n",
    "\n",
    "# Checking Assumptions of Linear Model\n",
    "residuals = pd.DataFrame({\n",
    "    'fitted_values' : ytest,\n",
    "    'predicted_values': test_predict\n",
    "})\n",
    "residuals['residuals'] = residuals['fitted_values'] - residuals['predicted_values']\n",
    "residuals.head()"
   ]
  },
  {
   "cell_type": "code",
   "execution_count": 24,
   "id": "81ede4a0",
   "metadata": {},
   "outputs": [
    {
     "data": {
      "text/plain": [
       "<matplotlib.legend.Legend at 0x23d8823c7c0>"
      ]
     },
     "execution_count": 24,
     "metadata": {},
     "output_type": "execute_result"
    },
    {
     "data": {
      "image/png": "[encoded data removed]",
      "text/plain": [
       "<Figure size 1200x720 with 1 Axes>"
      ]
     },
     "metadata": {},
     "output_type": "display_data"
    }
   ],
   "source": [
    "# Plotting residual curve (Is these constant variance or homoscedastic)\n",
    "\n",
    "plt.figure(figsize =(10,6), dpi =120, facecolor='w',edgecolor='b')\n",
    "f = range(0,30131)\n",
    "k = [0 for i in range (0,30131)]\n",
    "plt.scatter(f, residuals.residuals[:30131],label = 'residuals')\n",
    "plt.plot(f, k, color = 'red',label = 'regression line')\n",
    "plt.xlabel('fitted points')\n",
    "plt.ylabel('residuals')\n",
    "plt.title('Residuals plot')\n",
    "plt.ylim(-4000,4000)\n",
    "plt.legend()"
   ]
  },
  {
   "cell_type": "markdown",
   "id": "d822ccc8",
   "metadata": {},
   "source": [
    "There is homoscedasticity of residual variance."
   ]
  },
  {
   "cell_type": "code",
   "execution_count": 25,
   "id": "d7026d07",
   "metadata": {},
   "outputs": [
    {
     "data": {
      "image/png": "[encoded data removed]",
      "text/plain": [
       "<Figure size 640x480 with 1 Axes>"
      ]
     },
     "metadata": {},
     "output_type": "display_data"
    }
   ],
   "source": [
    "# Normality checking for residuals\n",
    "plt.hist(residuals.residuals, bins = 150)\n",
    "plt.xlabel('Error')\n",
    "plt.ylabel('Frequency')\n",
    "plt.title('Distribution of Errors')\n",
    "plt.show()"
   ]
  },
  {
   "cell_type": "markdown",
   "id": "2f8559bc",
   "metadata": {},
   "source": [
    "The errors follow a normal distribution but roughly skewed."
   ]
  },
  {
   "cell_type": "code",
   "execution_count": 26,
   "id": "8946ae53",
   "metadata": {
    "scrolled": true
   },
   "outputs": [
    {
     "data": {
      "image/png": "[encoded data removed]",
      "text/plain": [
       "<Figure size 600x600 with 1 Axes>"
      ]
     },
     "metadata": {},
     "output_type": "display_data"
    }
   ],
   "source": [
    "# QQ Plot (Is the data normally distributed?)\n",
    "from statsmodels.graphics.gofplots import qqplot\n",
    "\n",
    "# Plotting the QQ Plot\n",
    "fig , ax = plt.subplots(figsize = (5,5), dpi = 120)\n",
    "qqplot(residuals.residuals, line = 's', ax = ax)\n",
    "plt.ylabel('Residual Quantiles')\n",
    "plt.xlabel('Ideal Scaled Quantiles')\n",
    "plt.title('Checking Distribution of Residual Errors')\n",
    "plt.show()"
   ]
  },
  {
   "cell_type": "code",
   "execution_count": 27,
   "id": "92c164ed",
   "metadata": {},
   "outputs": [
    {
     "data": {
      "text/plain": [
       "ShapiroResult(statistic=0.9622096419334412, pvalue=0.0)"
      ]
     },
     "execution_count": 27,
     "metadata": {},
     "output_type": "execute_result"
    }
   ],
   "source": [
    "from scipy.stats import shapiro\n",
    "shapiro(residuals.residuals)"
   ]
  },
  {
   "cell_type": "markdown",
   "id": "75cff461",
   "metadata": {},
   "source": [
    "The distribution is not normal by refering on Shapiro wilk test and QQ plot, we have a lot of outliers on low and high values. Let's verify if there is multi colinearity between some variables.\n"
   ]
  },
  {
   "cell_type": "markdown",
   "id": "5db3146a",
   "metadata": {
    "colab_type": "text",
    "id": "y_ull_aGYPwi"
   },
   "source": [
    "### Variance Inflation Factor (VIF) (Checking for multi collinearity)"
   ]
  },
  {
   "cell_type": "code",
   "execution_count": 28,
   "id": "f857465a",
   "metadata": {
    "colab": {
     "base_uri": "https://localhost:8080/",
     "height": 850
    },
    "colab_type": "code",
    "executionInfo": {
     "elapsed": 6725,
     "status": "ok",
     "timestamp": 1559646194342,
     "user": {
      "displayName": "Sharoon Saxena",
      "photoUrl": "",
      "userId": "14774175216384036942"
     },
     "user_tz": -330
    },
    "id": "0dkJAXOfRSww",
    "outputId": "cabb509d-c840-4d05-c4e5-187e48d5f83b"
   },
   "outputs": [
    {
     "name": "stderr",
     "output_type": "stream",
     "text": [
      "C:\\Users\\Dell\\anaconda3\\lib\\site-packages\\statsmodels\\stats\\outliers_influence.py:195: RuntimeWarning: divide by zero encountered in double_scalars\n",
      "  vif = 1. / (1. - r_squared_i)\n"
     ]
    },
    {
     "data": {
      "text/plain": [
       "day_pickup_datetime                 3.186790e+04\n",
       "month_pickup_datetime               1.088698e+06\n",
       "hour_pickup_datetime                5.392462e+01\n",
       "day_dropoff_datetime                3.186721e+04\n",
       "month_dropoff_datetime              1.088883e+06\n",
       "hour_dropoff_datetime               3.928184e+01\n",
       "passenger_count_1                            inf\n",
       "passenger_count_2                            inf\n",
       "passenger_count_3                            inf\n",
       "passenger_count_4                            inf\n",
       "passenger_count_5                            inf\n",
       "passenger_count_6                            inf\n",
       "passenger_count_7                            inf\n",
       "day_moments_Afternoon                        inf\n",
       "day_moments_Early_morning                    inf\n",
       "day_moments_Evening                          inf\n",
       "day_moments_Full_night                       inf\n",
       "day_moments_Middle_morning                   inf\n",
       "distance_slots_Long_distance                 inf\n",
       "distance_slots_Shortest_distance             inf\n",
       "Distance_pick_drop                  3.764453e+00\n",
       "day_of_week_dropoff_datetime_0               inf\n",
       "day_of_week_dropoff_datetime_1               inf\n",
       "day_of_week_dropoff_datetime_2               inf\n",
       "day_of_week_dropoff_datetime_3               inf\n",
       "day_of_week_dropoff_datetime_4               inf\n",
       "day_of_week_dropoff_datetime_5               inf\n",
       "day_of_week_dropoff_datetime_6               inf\n",
       "day_of_week_pickup_datetime_0                inf\n",
       "day_of_week_pickup_datetime_1                inf\n",
       "day_of_week_pickup_datetime_2                inf\n",
       "day_of_week_pickup_datetime_3                inf\n",
       "day_of_week_pickup_datetime_4                inf\n",
       "day_of_week_pickup_datetime_5                inf\n",
       "day_of_week_pickup_datetime_6                inf\n",
       "dtype: float64"
      ]
     },
     "execution_count": 28,
     "metadata": {},
     "output_type": "execute_result"
    }
   ],
   "source": [
    "# Importing Variance_inflation_Factor funtion from the Statsmodels\n",
    "from statsmodels.stats.outliers_influence import variance_inflation_factor\n",
    "from statsmodels.tools.tools import add_constant\n",
    "\n",
    "# Calculating VIF for every column (only works for the not Catagorical)\n",
    "VIF = pd.Series([variance_inflation_factor(df_baseline.values, i) for i in range(df_baseline.shape[1])], index =df_baseline.columns)\n",
    "VIF"
   ]
  },
  {
   "cell_type": "markdown",
   "id": "3f59ead8",
   "metadata": {},
   "source": [
    "The moments of pickup and dropoff seems have multicolinearity. So these independent variables should be removed from linear model."
   ]
  },
  {
   "cell_type": "code",
   "execution_count": 29,
   "id": "9d1f44ca",
   "metadata": {},
   "outputs": [],
   "source": [
    "final_cols = ['month_pickup_datetime',\n",
    "       'day_dropoff_datetime','passenger_count_1', 'passenger_count_2',\n",
    "       'passenger_count_3', 'passenger_count_4', 'passenger_count_5',\n",
    "       'passenger_count_6', 'passenger_count_7', 'day_moments_Afternoon',\n",
    "       'day_moments_Early_morning', 'day_moments_Evening',\n",
    "       'day_moments_Full_night', 'day_moments_Middle_morning',\n",
    "       'distance_slots_Long_distance', 'distance_slots_Shortest_distance',\n",
    "       'Distance_pick_drop','day_of_week_dropoff_datetime_0', 'day_of_week_dropoff_datetime_1',\n",
    "       'day_of_week_dropoff_datetime_2', 'day_of_week_dropoff_datetime_3',\n",
    "       'day_of_week_dropoff_datetime_4', 'day_of_week_dropoff_datetime_5',\n",
    "       'day_of_week_dropoff_datetime_6', 'day_of_week_pickup_datetime_0',\n",
    "       'day_of_week_pickup_datetime_1', 'day_of_week_pickup_datetime_2',\n",
    "       'day_of_week_pickup_datetime_3', 'day_of_week_pickup_datetime_4',\n",
    "       'day_of_week_pickup_datetime_5', 'day_of_week_pickup_datetime_6']\n",
    "data = df[final_cols]\n",
    "#data = df[baseline_cols]"
   ]
  },
  {
   "cell_type": "code",
   "execution_count": 30,
   "id": "74ab48fd",
   "metadata": {},
   "outputs": [
    {
     "data": {
      "text/html": [
       "<style>#sk-container-id-2 {color: black;background-color: white;}#sk-container-id-2 pre{padding: 0;}#sk-container-id-2 div.sk-toggleable {background-color: white;}#sk-container-id-2 label.sk-toggleable__label {cursor: pointer;display: block;width: 100%;margin-bottom: 0;padding: 0.3em;box-sizing: border-box;text-align: center;}#sk-container-id-2 label.sk-toggleable__label-arrow:before {content: \"▸\";float: left;margin-right: 0.25em;color: #696969;}#sk-container-id-2 label.sk-toggleable__label-arrow:hover:before {color: black;}#sk-container-id-2 div.sk-estimator:hover label.sk-toggleable__label-arrow:before {color: black;}#sk-container-id-2 div.sk-toggleable__content {max-height: 0;max-width: 0;overflow: hidden;text-align: left;background-color: #f0f8ff;}#sk-container-id-2 div.sk-toggleable__content pre {margin: 0.2em;color: black;border-radius: 0.25em;background-color: #f0f8ff;}#sk-container-id-2 input.sk-toggleable__control:checked~div.sk-toggleable__content {max-height: 200px;max-width: 100%;overflow: auto;}#sk-container-id-2 input.sk-toggleable__control:checked~label.sk-toggleable__label-arrow:before {content: \"▾\";}#sk-container-id-2 div.sk-estimator input.sk-toggleable__control:checked~label.sk-toggleable__label {background-color: #d4ebff;}#sk-container-id-2 div.sk-label input.sk-toggleable__control:checked~label.sk-toggleable__label {background-color: #d4ebff;}#sk-container-id-2 input.sk-hidden--visually {border: 0;clip: rect(1px 1px 1px 1px);clip: rect(1px, 1px, 1px, 1px);height: 1px;margin: -1px;overflow: hidden;padding: 0;position: absolute;width: 1px;}#sk-container-id-2 div.sk-estimator {font-family: monospace;background-color: #f0f8ff;border: 1px dotted black;border-radius: 0.25em;box-sizing: border-box;margin-bottom: 0.5em;}#sk-container-id-2 div.sk-estimator:hover {background-color: #d4ebff;}#sk-container-id-2 div.sk-parallel-item::after {content: \"\";width: 100%;border-bottom: 1px solid gray;flex-grow: 1;}#sk-container-id-2 div.sk-label:hover label.sk-toggleable__label {background-color: #d4ebff;}#sk-container-id-2 div.sk-serial::before {content: \"\";position: absolute;border-left: 1px solid gray;box-sizing: border-box;top: 0;bottom: 0;left: 50%;z-index: 0;}#sk-container-id-2 div.sk-serial {display: flex;flex-direction: column;align-items: center;background-color: white;padding-right: 0.2em;padding-left: 0.2em;position: relative;}#sk-container-id-2 div.sk-item {position: relative;z-index: 1;}#sk-container-id-2 div.sk-parallel {display: flex;align-items: stretch;justify-content: center;background-color: white;position: relative;}#sk-container-id-2 div.sk-item::before, #sk-container-id-2 div.sk-parallel-item::before {content: \"\";position: absolute;border-left: 1px solid gray;box-sizing: border-box;top: 0;bottom: 0;left: 50%;z-index: -1;}#sk-container-id-2 div.sk-parallel-item {display: flex;flex-direction: column;z-index: 1;position: relative;background-color: white;}#sk-container-id-2 div.sk-parallel-item:first-child::after {align-self: flex-end;width: 50%;}#sk-container-id-2 div.sk-parallel-item:last-child::after {align-self: flex-start;width: 50%;}#sk-container-id-2 div.sk-parallel-item:only-child::after {width: 0;}#sk-container-id-2 div.sk-dashed-wrapped {border: 1px dashed gray;margin: 0 0.4em 0.5em 0.4em;box-sizing: border-box;padding-bottom: 0.4em;background-color: white;}#sk-container-id-2 div.sk-label label {font-family: monospace;font-weight: bold;display: inline-block;line-height: 1.2em;}#sk-container-id-2 div.sk-label-container {text-align: center;}#sk-container-id-2 div.sk-container {/* jupyter's `normalize.less` sets `[hidden] { display: none; }` but bootstrap.min.css set `[hidden] { display: none !important; }` so we also need the `!important` here to be able to override the default hidden behavior on the sphinx rendered scikit-learn.org. See: https://github.com/scikit-learn/scikit-learn/issues/21755 */display: inline-block !important;position: relative;}#sk-container-id-2 div.sk-text-repr-fallback {display: none;}</style><div id=\"sk-container-id-2\" class=\"sk-top-container\"><div class=\"sk-text-repr-fallback\"><pre>LinearRegression()</pre><b>In a Jupyter environment, please rerun this cell to show the HTML representation or trust the notebook. <br />On GitHub, the HTML representation is unable to render, please try loading this page with nbviewer.org.</b></div><div class=\"sk-container\" hidden><div class=\"sk-item\"><div class=\"sk-estimator sk-toggleable\"><input class=\"sk-toggleable__control sk-hidden--visually\" id=\"sk-estimator-id-2\" type=\"checkbox\" checked><label for=\"sk-estimator-id-2\" class=\"sk-toggleable__label sk-toggleable__label-arrow\">LinearRegression</label><div class=\"sk-toggleable__content\"><pre>LinearRegression()</pre></div></div></div></div></div>"
      ],
      "text/plain": [
       "LinearRegression()"
      ]
     },
     "execution_count": 30,
     "metadata": {},
     "output_type": "execute_result"
    }
   ],
   "source": [
    "# Let's normalize the data for model\n",
    "#data = df[final_cols]\n",
    "from sklearn.preprocessing import MinMaxScaler as min_max\n",
    "data = min_max().fit_transform(data)\n",
    "data = pd.DataFrame(data, columns = final_cols)\n",
    "#data = pd.DataFrame(data, columns = baseline_cols)\n",
    "y_all = min_max().fit_transform(np.array(df['trip_duration']).reshape(-1, 1))\n",
    "# Splitting the data into Train and Validation set\n",
    "xtrain, xtest, ytrain, ytest = train_test_split(data,y_all,test_size=1/4, random_state=86, stratify = y_all)\n",
    "LinReg.fit(xtrain,ytrain)"
   ]
  },
  {
   "cell_type": "code",
   "execution_count": 31,
   "id": "23661875",
   "metadata": {},
   "outputs": [
    {
     "data": {
      "text/html": [
       "<div>\n",
       "<style scoped>\n",
       "    .dataframe tbody tr th:only-of-type {\n",
       "        vertical-align: middle;\n",
       "    }\n",
       "\n",
       "    .dataframe tbody tr th {\n",
       "        vertical-align: top;\n",
       "    }\n",
       "\n",
       "    .dataframe thead th {\n",
       "        text-align: right;\n",
       "    }\n",
       "</style>\n",
       "<table border=\"1\" class=\"dataframe\">\n",
       "  <thead>\n",
       "    <tr style=\"text-align: right;\">\n",
       "      <th></th>\n",
       "      <th>month_pickup_datetime</th>\n",
       "      <th>day_dropoff_datetime</th>\n",
       "      <th>passenger_count_1</th>\n",
       "      <th>passenger_count_2</th>\n",
       "      <th>passenger_count_3</th>\n",
       "      <th>passenger_count_4</th>\n",
       "      <th>passenger_count_5</th>\n",
       "      <th>passenger_count_6</th>\n",
       "      <th>passenger_count_7</th>\n",
       "      <th>day_moments_Afternoon</th>\n",
       "      <th>...</th>\n",
       "      <th>day_of_week_dropoff_datetime_4</th>\n",
       "      <th>day_of_week_dropoff_datetime_5</th>\n",
       "      <th>day_of_week_dropoff_datetime_6</th>\n",
       "      <th>day_of_week_pickup_datetime_0</th>\n",
       "      <th>day_of_week_pickup_datetime_1</th>\n",
       "      <th>day_of_week_pickup_datetime_2</th>\n",
       "      <th>day_of_week_pickup_datetime_3</th>\n",
       "      <th>day_of_week_pickup_datetime_4</th>\n",
       "      <th>day_of_week_pickup_datetime_5</th>\n",
       "      <th>day_of_week_pickup_datetime_6</th>\n",
       "    </tr>\n",
       "  </thead>\n",
       "  <tbody>\n",
       "    <tr>\n",
       "      <th>0</th>\n",
       "      <td>0.2</td>\n",
       "      <td>0.933333</td>\n",
       "      <td>1.0</td>\n",
       "      <td>0.0</td>\n",
       "      <td>0.0</td>\n",
       "      <td>0.0</td>\n",
       "      <td>0.0</td>\n",
       "      <td>0.0</td>\n",
       "      <td>0.0</td>\n",
       "      <td>1.0</td>\n",
       "      <td>...</td>\n",
       "      <td>0.0</td>\n",
       "      <td>0.0</td>\n",
       "      <td>0.0</td>\n",
       "      <td>1.0</td>\n",
       "      <td>0.0</td>\n",
       "      <td>0.0</td>\n",
       "      <td>0.0</td>\n",
       "      <td>0.0</td>\n",
       "      <td>0.0</td>\n",
       "      <td>0.0</td>\n",
       "    </tr>\n",
       "    <tr>\n",
       "      <th>1</th>\n",
       "      <td>0.4</td>\n",
       "      <td>0.333333</td>\n",
       "      <td>0.0</td>\n",
       "      <td>1.0</td>\n",
       "      <td>0.0</td>\n",
       "      <td>0.0</td>\n",
       "      <td>0.0</td>\n",
       "      <td>0.0</td>\n",
       "      <td>0.0</td>\n",
       "      <td>0.0</td>\n",
       "      <td>...</td>\n",
       "      <td>1.0</td>\n",
       "      <td>0.0</td>\n",
       "      <td>0.0</td>\n",
       "      <td>0.0</td>\n",
       "      <td>0.0</td>\n",
       "      <td>0.0</td>\n",
       "      <td>0.0</td>\n",
       "      <td>1.0</td>\n",
       "      <td>0.0</td>\n",
       "      <td>0.0</td>\n",
       "    </tr>\n",
       "    <tr>\n",
       "      <th>2</th>\n",
       "      <td>0.2</td>\n",
       "      <td>0.666667</td>\n",
       "      <td>0.0</td>\n",
       "      <td>1.0</td>\n",
       "      <td>0.0</td>\n",
       "      <td>0.0</td>\n",
       "      <td>0.0</td>\n",
       "      <td>0.0</td>\n",
       "      <td>0.0</td>\n",
       "      <td>1.0</td>\n",
       "      <td>...</td>\n",
       "      <td>0.0</td>\n",
       "      <td>0.0</td>\n",
       "      <td>1.0</td>\n",
       "      <td>0.0</td>\n",
       "      <td>0.0</td>\n",
       "      <td>0.0</td>\n",
       "      <td>0.0</td>\n",
       "      <td>0.0</td>\n",
       "      <td>0.0</td>\n",
       "      <td>1.0</td>\n",
       "    </tr>\n",
       "    <tr>\n",
       "      <th>3</th>\n",
       "      <td>0.0</td>\n",
       "      <td>0.133333</td>\n",
       "      <td>0.0</td>\n",
       "      <td>0.0</td>\n",
       "      <td>0.0</td>\n",
       "      <td>0.0</td>\n",
       "      <td>0.0</td>\n",
       "      <td>1.0</td>\n",
       "      <td>0.0</td>\n",
       "      <td>0.0</td>\n",
       "      <td>...</td>\n",
       "      <td>0.0</td>\n",
       "      <td>0.0</td>\n",
       "      <td>0.0</td>\n",
       "      <td>0.0</td>\n",
       "      <td>1.0</td>\n",
       "      <td>0.0</td>\n",
       "      <td>0.0</td>\n",
       "      <td>0.0</td>\n",
       "      <td>0.0</td>\n",
       "      <td>0.0</td>\n",
       "    </tr>\n",
       "    <tr>\n",
       "      <th>4</th>\n",
       "      <td>0.2</td>\n",
       "      <td>0.533333</td>\n",
       "      <td>1.0</td>\n",
       "      <td>0.0</td>\n",
       "      <td>0.0</td>\n",
       "      <td>0.0</td>\n",
       "      <td>0.0</td>\n",
       "      <td>0.0</td>\n",
       "      <td>0.0</td>\n",
       "      <td>0.0</td>\n",
       "      <td>...</td>\n",
       "      <td>0.0</td>\n",
       "      <td>0.0</td>\n",
       "      <td>0.0</td>\n",
       "      <td>0.0</td>\n",
       "      <td>0.0</td>\n",
       "      <td>1.0</td>\n",
       "      <td>0.0</td>\n",
       "      <td>0.0</td>\n",
       "      <td>0.0</td>\n",
       "      <td>0.0</td>\n",
       "    </tr>\n",
       "  </tbody>\n",
       "</table>\n",
       "<p>5 rows × 31 columns</p>\n",
       "</div>"
      ],
      "text/plain": [
       "   month_pickup_datetime  day_dropoff_datetime  passenger_count_1  \\\n",
       "0                    0.2              0.933333                1.0   \n",
       "1                    0.4              0.333333                0.0   \n",
       "2                    0.2              0.666667                0.0   \n",
       "3                    0.0              0.133333                0.0   \n",
       "4                    0.2              0.533333                1.0   \n",
       "\n",
       "   passenger_count_2  passenger_count_3  passenger_count_4  passenger_count_5  \\\n",
       "0                0.0                0.0                0.0                0.0   \n",
       "1                1.0                0.0                0.0                0.0   \n",
       "2                1.0                0.0                0.0                0.0   \n",
       "3                0.0                0.0                0.0                0.0   \n",
       "4                0.0                0.0                0.0                0.0   \n",
       "\n",
       "   passenger_count_6  passenger_count_7  day_moments_Afternoon  ...  \\\n",
       "0                0.0                0.0                    1.0  ...   \n",
       "1                0.0                0.0                    0.0  ...   \n",
       "2                0.0                0.0                    1.0  ...   \n",
       "3                1.0                0.0                    0.0  ...   \n",
       "4                0.0                0.0                    0.0  ...   \n",
       "\n",
       "   day_of_week_dropoff_datetime_4  day_of_week_dropoff_datetime_5  \\\n",
       "0                             0.0                             0.0   \n",
       "1                             1.0                             0.0   \n",
       "2                             0.0                             0.0   \n",
       "3                             0.0                             0.0   \n",
       "4                             0.0                             0.0   \n",
       "\n",
       "   day_of_week_dropoff_datetime_6  day_of_week_pickup_datetime_0  \\\n",
       "0                             0.0                            1.0   \n",
       "1                             0.0                            0.0   \n",
       "2                             1.0                            0.0   \n",
       "3                             0.0                            0.0   \n",
       "4                             0.0                            0.0   \n",
       "\n",
       "   day_of_week_pickup_datetime_1  day_of_week_pickup_datetime_2  \\\n",
       "0                            0.0                            0.0   \n",
       "1                            0.0                            0.0   \n",
       "2                            0.0                            0.0   \n",
       "3                            1.0                            0.0   \n",
       "4                            0.0                            1.0   \n",
       "\n",
       "   day_of_week_pickup_datetime_3  day_of_week_pickup_datetime_4  \\\n",
       "0                            0.0                            0.0   \n",
       "1                            0.0                            1.0   \n",
       "2                            0.0                            0.0   \n",
       "3                            0.0                            0.0   \n",
       "4                            0.0                            0.0   \n",
       "\n",
       "   day_of_week_pickup_datetime_5  day_of_week_pickup_datetime_6  \n",
       "0                            0.0                            0.0  \n",
       "1                            0.0                            0.0  \n",
       "2                            0.0                            1.0  \n",
       "3                            0.0                            0.0  \n",
       "4                            0.0                            0.0  \n",
       "\n",
       "[5 rows x 31 columns]"
      ]
     },
     "execution_count": 31,
     "metadata": {},
     "output_type": "execute_result"
    }
   ],
   "source": [
    "data.head()"
   ]
  },
  {
   "cell_type": "code",
   "execution_count": 32,
   "id": "9e3109b1",
   "metadata": {},
   "outputs": [
    {
     "data": {
      "text/plain": [
       "(726075, 1)"
      ]
     },
     "execution_count": 32,
     "metadata": {},
     "output_type": "execute_result"
    }
   ],
   "source": [
    "y_all.shape"
   ]
  },
  {
   "cell_type": "code",
   "execution_count": 33,
   "id": "2d335b0c",
   "metadata": {
    "scrolled": false
   },
   "outputs": [
    {
     "name": "stdout",
     "output_type": "stream",
     "text": [
      "Training Mean Absolute Error:  0.10911792410827233\n",
      "Testing Mean Absolute Error:  0.10875795014281545\n",
      "R2_Score for model : 0.6680834560837798\n",
      "MSE for model:  0.021126574717727054\n"
     ]
    }
   ],
   "source": [
    "# Predicting on the train set\n",
    "train_predict = LinReg.predict(xtrain)\n",
    "k = mae(train_predict,ytrain)\n",
    "print('Training Mean Absolute Error: ',k)\n",
    "# Predicting on the test set\n",
    "test_predict = LinReg.predict(xtest)\n",
    "kt = mae(ytest,test_predict)\n",
    "print('Testing Mean Absolute Error: ',kt)\n",
    "print('R2_Score for model :',r2_score(ytest,test_predict))\n",
    "print('MSE for model: ', mse(ytest,test_predict))"
   ]
  },
  {
   "cell_type": "code",
   "execution_count": 34,
   "id": "b00d31d1",
   "metadata": {},
   "outputs": [
    {
     "data": {
      "text/plain": [
       "array([[ 3.08255574e-02,  4.83046055e-03, -2.91839596e+10,\n",
       "        -2.91839596e+10, -2.91839596e+10, -2.91839596e+10,\n",
       "        -2.91839596e+10, -2.91839596e+10, -2.91839596e+10,\n",
       "         2.45540037e+10,  2.45540037e+10,  2.45540037e+10,\n",
       "         2.45540037e+10,  2.45540037e+10, -1.60709532e+09,\n",
       "        -1.60709532e+09,  7.53405673e-01,  1.22707245e+10,\n",
       "         1.22707245e+10,  1.22707245e+10,  1.22707245e+10,\n",
       "         1.22707245e+10,  1.22707245e+10,  1.22707245e+10,\n",
       "         3.91599404e+07,  3.91599405e+07,  3.91599406e+07,\n",
       "         3.91599406e+07,  3.91599406e+07,  3.91599405e+07,\n",
       "         3.91599404e+07]])"
      ]
     },
     "execution_count": 34,
     "metadata": {},
     "output_type": "execute_result"
    }
   ],
   "source": [
    "LinReg.coef_"
   ]
  },
  {
   "cell_type": "code",
   "execution_count": 35,
   "id": "3bdf02e5",
   "metadata": {},
   "outputs": [
    {
     "data": {
      "text/plain": [
       "Text(0.5, 1.0, 'Normalized Coefficient plot')"
      ]
     },
     "execution_count": 35,
     "metadata": {},
     "output_type": "execute_result"
    },
    {
     "data": {
      "image/png": "[encoded data removed]",
      "text/plain": [
       "<Figure size 960x720 with 1 Axes>"
      ]
     },
     "metadata": {},
     "output_type": "display_data"
    }
   ],
   "source": [
    "plt.figure(figsize=(8, 6), dpi=120, facecolor='w', edgecolor='b')\n",
    "x = range(len(xtrain.columns))\n",
    "y = LinReg.coef_[0]\n",
    "plt.bar( x, y )\n",
    "plt.xlabel( \"Variables\")\n",
    "\n",
    "plt.ylabel('Coefficients')\n",
    "plt.title('Normalized Coefficient plot')"
   ]
  },
  {
   "cell_type": "code",
   "execution_count": 36,
   "id": "309ffb3d",
   "metadata": {},
   "outputs": [
    {
     "data": {
      "text/html": [
       "<div>\n",
       "<style scoped>\n",
       "    .dataframe tbody tr th:only-of-type {\n",
       "        vertical-align: middle;\n",
       "    }\n",
       "\n",
       "    .dataframe tbody tr th {\n",
       "        vertical-align: top;\n",
       "    }\n",
       "\n",
       "    .dataframe thead th {\n",
       "        text-align: right;\n",
       "    }\n",
       "</style>\n",
       "<table border=\"1\" class=\"dataframe\">\n",
       "  <thead>\n",
       "    <tr style=\"text-align: right;\">\n",
       "      <th></th>\n",
       "      <th>Variable</th>\n",
       "      <th>coefficient</th>\n",
       "    </tr>\n",
       "  </thead>\n",
       "  <tbody>\n",
       "    <tr>\n",
       "      <th>0</th>\n",
       "      <td>month_pickup_datetime</td>\n",
       "      <td>3.082556e-02</td>\n",
       "    </tr>\n",
       "    <tr>\n",
       "      <th>1</th>\n",
       "      <td>day_dropoff_datetime</td>\n",
       "      <td>4.830461e-03</td>\n",
       "    </tr>\n",
       "    <tr>\n",
       "      <th>2</th>\n",
       "      <td>passenger_count_1</td>\n",
       "      <td>-2.918396e+10</td>\n",
       "    </tr>\n",
       "    <tr>\n",
       "      <th>3</th>\n",
       "      <td>passenger_count_2</td>\n",
       "      <td>-2.918396e+10</td>\n",
       "    </tr>\n",
       "    <tr>\n",
       "      <th>4</th>\n",
       "      <td>passenger_count_3</td>\n",
       "      <td>-2.918396e+10</td>\n",
       "    </tr>\n",
       "    <tr>\n",
       "      <th>5</th>\n",
       "      <td>passenger_count_4</td>\n",
       "      <td>-2.918396e+10</td>\n",
       "    </tr>\n",
       "    <tr>\n",
       "      <th>6</th>\n",
       "      <td>passenger_count_5</td>\n",
       "      <td>-2.918396e+10</td>\n",
       "    </tr>\n",
       "    <tr>\n",
       "      <th>7</th>\n",
       "      <td>passenger_count_6</td>\n",
       "      <td>-2.918396e+10</td>\n",
       "    </tr>\n",
       "    <tr>\n",
       "      <th>8</th>\n",
       "      <td>passenger_count_7</td>\n",
       "      <td>-2.918396e+10</td>\n",
       "    </tr>\n",
       "    <tr>\n",
       "      <th>9</th>\n",
       "      <td>day_moments_Afternoon</td>\n",
       "      <td>2.455400e+10</td>\n",
       "    </tr>\n",
       "    <tr>\n",
       "      <th>10</th>\n",
       "      <td>day_moments_Early_morning</td>\n",
       "      <td>2.455400e+10</td>\n",
       "    </tr>\n",
       "    <tr>\n",
       "      <th>11</th>\n",
       "      <td>day_moments_Evening</td>\n",
       "      <td>2.455400e+10</td>\n",
       "    </tr>\n",
       "    <tr>\n",
       "      <th>12</th>\n",
       "      <td>day_moments_Full_night</td>\n",
       "      <td>2.455400e+10</td>\n",
       "    </tr>\n",
       "    <tr>\n",
       "      <th>13</th>\n",
       "      <td>day_moments_Middle_morning</td>\n",
       "      <td>2.455400e+10</td>\n",
       "    </tr>\n",
       "    <tr>\n",
       "      <th>14</th>\n",
       "      <td>distance_slots_Long_distance</td>\n",
       "      <td>-1.607095e+09</td>\n",
       "    </tr>\n",
       "    <tr>\n",
       "      <th>15</th>\n",
       "      <td>distance_slots_Shortest_distance</td>\n",
       "      <td>-1.607095e+09</td>\n",
       "    </tr>\n",
       "    <tr>\n",
       "      <th>16</th>\n",
       "      <td>Distance_pick_drop</td>\n",
       "      <td>7.534057e-01</td>\n",
       "    </tr>\n",
       "    <tr>\n",
       "      <th>17</th>\n",
       "      <td>day_of_week_dropoff_datetime_0</td>\n",
       "      <td>1.227072e+10</td>\n",
       "    </tr>\n",
       "    <tr>\n",
       "      <th>18</th>\n",
       "      <td>day_of_week_dropoff_datetime_1</td>\n",
       "      <td>1.227072e+10</td>\n",
       "    </tr>\n",
       "    <tr>\n",
       "      <th>19</th>\n",
       "      <td>day_of_week_dropoff_datetime_2</td>\n",
       "      <td>1.227072e+10</td>\n",
       "    </tr>\n",
       "    <tr>\n",
       "      <th>20</th>\n",
       "      <td>day_of_week_dropoff_datetime_3</td>\n",
       "      <td>1.227072e+10</td>\n",
       "    </tr>\n",
       "    <tr>\n",
       "      <th>21</th>\n",
       "      <td>day_of_week_dropoff_datetime_4</td>\n",
       "      <td>1.227072e+10</td>\n",
       "    </tr>\n",
       "    <tr>\n",
       "      <th>22</th>\n",
       "      <td>day_of_week_dropoff_datetime_5</td>\n",
       "      <td>1.227072e+10</td>\n",
       "    </tr>\n",
       "    <tr>\n",
       "      <th>23</th>\n",
       "      <td>day_of_week_dropoff_datetime_6</td>\n",
       "      <td>1.227072e+10</td>\n",
       "    </tr>\n",
       "    <tr>\n",
       "      <th>24</th>\n",
       "      <td>day_of_week_pickup_datetime_0</td>\n",
       "      <td>3.915994e+07</td>\n",
       "    </tr>\n",
       "    <tr>\n",
       "      <th>25</th>\n",
       "      <td>day_of_week_pickup_datetime_1</td>\n",
       "      <td>3.915994e+07</td>\n",
       "    </tr>\n",
       "    <tr>\n",
       "      <th>26</th>\n",
       "      <td>day_of_week_pickup_datetime_2</td>\n",
       "      <td>3.915994e+07</td>\n",
       "    </tr>\n",
       "    <tr>\n",
       "      <th>27</th>\n",
       "      <td>day_of_week_pickup_datetime_3</td>\n",
       "      <td>3.915994e+07</td>\n",
       "    </tr>\n",
       "    <tr>\n",
       "      <th>28</th>\n",
       "      <td>day_of_week_pickup_datetime_4</td>\n",
       "      <td>3.915994e+07</td>\n",
       "    </tr>\n",
       "    <tr>\n",
       "      <th>29</th>\n",
       "      <td>day_of_week_pickup_datetime_5</td>\n",
       "      <td>3.915994e+07</td>\n",
       "    </tr>\n",
       "    <tr>\n",
       "      <th>30</th>\n",
       "      <td>day_of_week_pickup_datetime_6</td>\n",
       "      <td>3.915994e+07</td>\n",
       "    </tr>\n",
       "  </tbody>\n",
       "</table>\n",
       "</div>"
      ],
      "text/plain": [
       "                            Variable   coefficient\n",
       "0              month_pickup_datetime  3.082556e-02\n",
       "1               day_dropoff_datetime  4.830461e-03\n",
       "2                  passenger_count_1 -2.918396e+10\n",
       "3                  passenger_count_2 -2.918396e+10\n",
       "4                  passenger_count_3 -2.918396e+10\n",
       "5                  passenger_count_4 -2.918396e+10\n",
       "6                  passenger_count_5 -2.918396e+10\n",
       "7                  passenger_count_6 -2.918396e+10\n",
       "8                  passenger_count_7 -2.918396e+10\n",
       "9              day_moments_Afternoon  2.455400e+10\n",
       "10         day_moments_Early_morning  2.455400e+10\n",
       "11               day_moments_Evening  2.455400e+10\n",
       "12            day_moments_Full_night  2.455400e+10\n",
       "13        day_moments_Middle_morning  2.455400e+10\n",
       "14      distance_slots_Long_distance -1.607095e+09\n",
       "15  distance_slots_Shortest_distance -1.607095e+09\n",
       "16                Distance_pick_drop  7.534057e-01\n",
       "17    day_of_week_dropoff_datetime_0  1.227072e+10\n",
       "18    day_of_week_dropoff_datetime_1  1.227072e+10\n",
       "19    day_of_week_dropoff_datetime_2  1.227072e+10\n",
       "20    day_of_week_dropoff_datetime_3  1.227072e+10\n",
       "21    day_of_week_dropoff_datetime_4  1.227072e+10\n",
       "22    day_of_week_dropoff_datetime_5  1.227072e+10\n",
       "23    day_of_week_dropoff_datetime_6  1.227072e+10\n",
       "24     day_of_week_pickup_datetime_0  3.915994e+07\n",
       "25     day_of_week_pickup_datetime_1  3.915994e+07\n",
       "26     day_of_week_pickup_datetime_2  3.915994e+07\n",
       "27     day_of_week_pickup_datetime_3  3.915994e+07\n",
       "28     day_of_week_pickup_datetime_4  3.915994e+07\n",
       "29     day_of_week_pickup_datetime_5  3.915994e+07\n",
       "30     day_of_week_pickup_datetime_6  3.915994e+07"
      ]
     },
     "execution_count": 36,
     "metadata": {},
     "output_type": "execute_result"
    }
   ],
   "source": [
    "Coefficients = pd.DataFrame({\n",
    "    'Variable'    : xtrain.columns,\n",
    "    'coefficient' : LinReg.coef_[0]\n",
    "})\n",
    "Coefficients"
   ]
  },
  {
   "cell_type": "code",
   "execution_count": 37,
   "id": "36ab2a73",
   "metadata": {
    "scrolled": true
   },
   "outputs": [
    {
     "name": "stderr",
     "output_type": "stream",
     "text": [
      "C:\\Users\\Dell\\anaconda3\\lib\\site-packages\\statsmodels\\stats\\outliers_influence.py:195: RuntimeWarning: divide by zero encountered in double_scalars\n",
      "  vif = 1. / (1. - r_squared_i)\n"
     ]
    },
    {
     "data": {
      "text/plain": [
       "month_pickup_datetime               1.001957\n",
       "day_dropoff_datetime                1.002163\n",
       "passenger_count_1                        inf\n",
       "passenger_count_2                        inf\n",
       "passenger_count_3                        inf\n",
       "passenger_count_4                        inf\n",
       "passenger_count_5                        inf\n",
       "passenger_count_6                        inf\n",
       "passenger_count_7                        inf\n",
       "day_moments_Afternoon                    inf\n",
       "day_moments_Early_morning                inf\n",
       "day_moments_Evening                      inf\n",
       "day_moments_Full_night                   inf\n",
       "day_moments_Middle_morning               inf\n",
       "distance_slots_Long_distance             inf\n",
       "distance_slots_Shortest_distance         inf\n",
       "Distance_pick_drop                  3.744895\n",
       "day_of_week_dropoff_datetime_0           inf\n",
       "day_of_week_dropoff_datetime_1           inf\n",
       "day_of_week_dropoff_datetime_2           inf\n",
       "day_of_week_dropoff_datetime_3           inf\n",
       "day_of_week_dropoff_datetime_4           inf\n",
       "day_of_week_dropoff_datetime_5           inf\n",
       "day_of_week_dropoff_datetime_6           inf\n",
       "day_of_week_pickup_datetime_0            inf\n",
       "day_of_week_pickup_datetime_1            inf\n",
       "day_of_week_pickup_datetime_2            inf\n",
       "day_of_week_pickup_datetime_3            inf\n",
       "day_of_week_pickup_datetime_4            inf\n",
       "day_of_week_pickup_datetime_5            inf\n",
       "day_of_week_pickup_datetime_6            inf\n",
       "dtype: float64"
      ]
     },
     "execution_count": 37,
     "metadata": {},
     "output_type": "execute_result"
    }
   ],
   "source": [
    "# Calculating VIF for every column (only works for the not Catagorical)\n",
    "VIF = pd.Series([variance_inflation_factor(data.values, i) for i in range(data.shape[1])], index =data.columns)\n",
    "VIF"
   ]
  },
  {
   "cell_type": "markdown",
   "id": "b050acfb",
   "metadata": {},
   "source": [
    "Compared to preview model, this new looks better especially on MAE and MSE metrics. Let's try with Ridge and Lasso if that could improve model performance."
   ]
  },
  {
   "cell_type": "code",
   "execution_count": 38,
   "id": "a7ee1ceb",
   "metadata": {},
   "outputs": [],
   "source": [
    "from sklearn.linear_model import ElasticNet\n",
    "from sklearn.model_selection import GridSearchCV\n",
    "from sklearn import tree\n",
    "from sklearn.tree import DecisionTreeRegressor"
   ]
  },
  {
   "cell_type": "code",
   "execution_count": 39,
   "id": "5ab14c9e",
   "metadata": {},
   "outputs": [],
   "source": [
    "def grid_test(model_name, model, parameters, X=data,Y=y_all):\n",
    "    model= GridSearchCV(\n",
    "        model,\n",
    "        parameters,\n",
    "        cv =5,\n",
    "        scoring ='r2')\n",
    "    model.fit(X,Y)\n",
    "        \n",
    "    print(model,':', model.best_score_,'\\n')\n",
    "    return model_name, model.best_score_,model.best_estimator_"
   ]
  },
  {
   "cell_type": "markdown",
   "id": "88d26883",
   "metadata": {},
   "source": [
    "Elastic_Net_regression_params ={\n",
    "    'alpha':[0],\n",
    "    'l1_ratio':[0]\n",
    "\n",
    "    \n",
    "}\n",
    "Decision_Tree_params ={\n",
    "    'random_state':[32,16,8],\n",
    "    'min_samples_leaf':[43,46,45],\n",
    "    'min_samples_split':[20,22,18]\n",
    "}\n",
    "Linear_reg_params = {}\n",
    "\n",
    "dtree = DecisionTreeRegressor()\n",
    "Ela_lin = ElasticNet()\n",
    "\n",
    "models=[('Elastic_linReg',Ela_lin,Elastic_Net_regression_params),('Decision Tree Regressor',dtree,Decision_Tree_params),('Normal Linear Regression',LinReg,Linear_reg_params)]\n",
    "acc_dic ={}\n",
    "model_dic ={}\n",
    "for model in models:\n",
    "    name, acc, best_model = grid_test(model[0],model[1],model[2])\n",
    "    acc_dic[name] =acc\n",
    "    model_dic[name] = best_model\n",
    "pd.DataFrame.from_dict(acc_dic,orient ='index', columns=['Mean_R2']).sort_values(by = 'Mean_R2', ascending =False)"
   ]
  },
  {
   "cell_type": "markdown",
   "id": "d2c2325c",
   "metadata": {},
   "source": [
    "- GridSearchCV(cv=5, estimator=ElasticNet(),\n",
    "             param_grid={'alpha': [0], 'l1_ratio': [0]}, scoring='r2') : 0.666270255886592 \n",
    "\n",
    "- GridSearchCV(cv=5, estimator=DecisionTreeRegressor(),\n",
    "             param_grid={'min_samples_leaf': [50, 55, 45],\n",
    "                         'min_samples_split': [20, 22, 18],\n",
    "                         'random_state': [32, 16, 8]},\n",
    "             scoring='r2') : 0.6857775201236068 \n",
    "\n",
    "- GridSearchCV(cv=5, estimator=LinearRegression(), param_grid={}, scoring='r2') : -9.213976343663616e+16 \n",
    "\n",
    "> Mean_R2\n",
    "- Decision Tree Regressor\t6.857775e-01\n",
    "- Elastic_linReg\t6.662703e-01\n",
    "- Normal Linear Regression\t-9.213976e+16\n",
    "\n",
    "> Model parameters\n",
    "- ElasticNet(alpha=0.0, l1_ratio=0.0)\n",
    "- DecisionTreeRegressor(min_samples_leaf=45, min_samples_split=20,\n",
    "                      random_state=32)"
   ]
  },
  {
   "cell_type": "markdown",
   "id": "d40d0b16",
   "metadata": {},
   "source": [
    "feedback = pd.DataFrame.from_dict(model_dic,orient ='index', columns=['Best Model'])\n",
    "feedback.loc['Elastic_linReg']"
   ]
  },
  {
   "cell_type": "markdown",
   "id": "a2741abc",
   "metadata": {},
   "source": [
    "feedback = pd.DataFrame.from_dict(model_dic,orient ='index', columns=['Best Model'])\n",
    "feedback.loc['Decision Tree Regressor'][0]"
   ]
  },
  {
   "cell_type": "code",
   "execution_count": 40,
   "id": "57f80dc7",
   "metadata": {},
   "outputs": [],
   "source": [
    "def grid_test_mse(model_name, model, parameters, X=data,Y=y_all):\n",
    "    model= GridSearchCV(\n",
    "        model,\n",
    "        parameters,\n",
    "        cv =5,\n",
    "        scoring ='neg_mean_squared_error')\n",
    "    model.fit(X,Y)\n",
    "        \n",
    "    print(model,':', model.best_score_,'\\n')\n",
    "    return model_name, model.best_score_,model.best_estimator_"
   ]
  },
  {
   "cell_type": "markdown",
   "id": "5a817898",
   "metadata": {},
   "source": [
    "acc_dic ={}\n",
    "model_dic ={}\n",
    "for model in models:\n",
    "    name, acc, best_model = grid_test_mse(model[0],model[1],model[2])\n",
    "    acc_dic[name] =acc\n",
    "    model_dic[name] = best_model\n",
    "pd.DataFrame.from_dict(acc_dic,orient ='index', columns=['Mean_MSE']).sort_values(by = 'Mean_MSE', ascending =False)"
   ]
  },
  {
   "cell_type": "markdown",
   "id": "51976541",
   "metadata": {},
   "source": [
    "- GridSearchCV(cv=5, estimator=ElasticNet(), \n",
    "             param_grid={'alpha': [0], 'l1_ratio': [0]},\n",
    "             scoring='neg_mean_squared_error') : -0.02127833100652144 \n",
    "\n",
    "- GridSearchCV(cv=5, estimator=DecisionTreeRegressor(),\n",
    "             param_grid={'min_samples_leaf': [50, 55, 45],\n",
    "                         'min_samples_split': [20, 22, 18],\n",
    "                         'random_state': [32, 16, 8]},\n",
    "             scoring='neg_mean_squared_error') : -0.020034521990099686 \n",
    "\n",
    "- GridSearchCV(cv=5, estimator=LinearRegression(), param_grid={},\n",
    "             scoring='neg_mean_squared_error') : -5874836190153266.0 \n",
    "\n",
    "> Mean_MSE\n",
    "- Decision Tree Regressor\t-2.003452e-02\n",
    "- Elastic_linReg\t-2.127833e-02\n",
    "- Normal Linear Regression\t-5.874836e+15\n",
    "\n",
    "> Best Models\n",
    "- ElasticNet(alpha=0, l1_ratio=0)\n",
    "- DecisionTreeRegressor(min_samples_leaf=55, min_samples_split=20, random_state=8)"
   ]
  },
  {
   "cell_type": "markdown",
   "id": "b12c4d1c",
   "metadata": {},
   "source": [
    "feedback = pd.DataFrame.from_dict(model_dic,orient ='index', columns=['Best Model'])\n",
    "feedback.loc['Elastic_linReg']"
   ]
  },
  {
   "cell_type": "markdown",
   "id": "a113b1e0",
   "metadata": {},
   "source": [
    "feedback = pd.DataFrame.from_dict(model_dic,orient ='index', columns=['Best Model'])\n",
    "feedback.loc['Decision Tree Regressor'][0]"
   ]
  },
  {
   "cell_type": "markdown",
   "id": "6dc9f295",
   "metadata": {},
   "source": [
    "The ElasticNEt model which combine the Ridge and lasso give good results as Decision tree regressor based on MAE and r2. Let's flter out the models parameters."
   ]
  },
  {
   "cell_type": "markdown",
   "id": "a867f973",
   "metadata": {},
   "source": [
    "So our best parametric model is ElasticNet. For now the decision tree regressor performed better."
   ]
  },
  {
   "cell_type": "code",
   "execution_count": 41,
   "id": "b93f928f",
   "metadata": {},
   "outputs": [
    {
     "name": "stdout",
     "output_type": "stream",
     "text": [
      "Training Mean Absolute Error:  0.10911731672385414\n",
      "Testing Mean Absolute Error:  0.10875733805452903\n",
      "R2_Score for model : 0.6680836614311688\n",
      "MSE for model:  0.02112656164731211\n"
     ]
    }
   ],
   "source": [
    "# Predicting on the train set\n",
    "\n",
    "Ela_Reg = ElasticNet(alpha=0, l1_ratio=0)\n",
    "Ela_Reg.fit(xtrain,ytrain)\n",
    "train_predict = Ela_Reg.predict(xtrain)\n",
    "k = mae(ytrain,train_predict)\n",
    "print('Training Mean Absolute Error: ',k)\n",
    "# Predicting on the test set\n",
    "test_predict = Ela_Reg.predict(xtest)\n",
    "kt = mae(ytest,test_predict)\n",
    "print('Testing Mean Absolute Error: ',kt)\n",
    "print('R2_Score for model :',r2_score(ytest,test_predict))\n",
    "print('MSE for model: ', mse(ytest,test_predict))"
   ]
  },
  {
   "cell_type": "code",
   "execution_count": 42,
   "id": "f08ff1cf",
   "metadata": {},
   "outputs": [
    {
     "data": {
      "text/plain": [
       "array([ 3.08092726e-02,  4.84360838e-03, -9.19631248e-03,  7.87827454e-04,\n",
       "        5.74190880e-03,  6.32535523e-03, -5.04994624e-03, -4.44295258e-03,\n",
       "       -1.39237677e-01,  6.12916676e-02,  6.53428550e-04, -5.04490825e-03,\n",
       "       -6.96274171e-02,  5.55316562e-02, -1.42374028e-02, -1.64283258e-16,\n",
       "        7.53415822e-01,  7.70571028e-02,  3.17481882e-02, -9.81537499e-03,\n",
       "       -5.71913568e-02, -5.35545160e-02, -6.36260227e-03,  7.36860673e-02,\n",
       "       -9.07070424e-02, -1.41961973e-02,  3.64373609e-02,  8.55713162e-02,\n",
       "        7.61336479e-02, -1.78341692e-03, -1.10400943e-01])"
      ]
     },
     "execution_count": 42,
     "metadata": {},
     "output_type": "execute_result"
    }
   ],
   "source": [
    "Ela_Reg.coef_"
   ]
  },
  {
   "cell_type": "code",
   "execution_count": 43,
   "id": "d91fd18c",
   "metadata": {
    "scrolled": true
   },
   "outputs": [
    {
     "name": "stdout",
     "output_type": "stream",
     "text": [
      "Training Mean Absolute Error:  0.09988189933353658\n",
      "Testing Mean Absolute Error:  0.10370484901233523\n",
      "R2_Score for model : 0.6872314103265807\n",
      "MSE for model:  0.019907802428677613\n"
     ]
    }
   ],
   "source": [
    "dtree = DecisionTreeRegressor(min_samples_leaf=55, min_samples_split=20, random_state=8)\n",
    "dtree.fit(xtrain,ytrain)\n",
    "train_predict = dtree.predict(xtrain)\n",
    "k = mae(train_predict,ytrain)\n",
    "print('Training Mean Absolute Error: ',k)\n",
    "# Predicting on the test set\n",
    "test_predict = dtree.predict(xtest)\n",
    "kt = mae(ytest,test_predict)\n",
    "print('Testing Mean Absolute Error: ',kt)\n",
    "print('R2_Score for model :',r2_score(ytest,test_predict))\n",
    "print('MSE for model: ', mse(ytest,test_predict))"
   ]
  },
  {
   "cell_type": "markdown",
   "id": "28c51936",
   "metadata": {},
   "source": [
    "## Ensemble models"
   ]
  },
  {
   "cell_type": "markdown",
   "id": "621c92e7",
   "metadata": {},
   "source": [
    "Let's try more alternatives to target better accuracies with Max voting, Averaging, Weighted averaging, rank averaging and boosting. I tried to use the **LazyPredictor** but that consumes a lot of memory based on our data size. So I will try on others models as :XGBRegressor,RandomForestRegressor,\n",
    "GradientBoostingRegressor, LinearSVR.\n",
    "To install Extra Gradient Boosting Model : **!pip install xgboost**\n",
    "More documentation on https://machinelearningmastery.com/xgboost-for-regression/"
   ]
  },
  {
   "cell_type": "code",
   "execution_count": 44,
   "id": "6a1c7fe4",
   "metadata": {},
   "outputs": [],
   "source": [
    "from sklearn.model_selection import RandomizedSearchCV\n",
    "from sklearn.ensemble import RandomForestRegressor,GradientBoostingRegressor\n",
    "from sklearn.svm import LinearSVR\n",
    "from xgboost import XGBRegressor"
   ]
  },
  {
   "cell_type": "code",
   "execution_count": 45,
   "id": "b8519490",
   "metadata": {},
   "outputs": [],
   "source": [
    "def random_search_test_mse(model_name, model,n_iterations, parameters, X=data,Y=y_all):\n",
    "    model= RandomizedSearchCV(\n",
    "        random_state= 86,\n",
    "        estimator= model,\n",
    "        param_distributions=parameters,\n",
    "        n_iter=n_iterations,\n",
    "        cv =5,\n",
    "        scoring ='neg_mean_squared_error')\n",
    "    model.fit(X,Y)\n",
    "        \n",
    "    print(model,':', model.best_score_,'\\n')\n",
    "    return model_name, model.best_score_,model.best_estimator_"
   ]
  },
  {
   "cell_type": "markdown",
   "id": "92f76295",
   "metadata": {},
   "source": [
    "xtrain, xtest, ytrain, ytest = train_test_split(data,y_all,test_size=1/4, random_state=86, stratify = y_all)\n",
    "xgb_params ={\n",
    "    'random_state':[86],\n",
    "    'colsample_bytree':[0.7],\n",
    "    'max_depth':[5],\n",
    "    'n_estimators':[150,200],\n",
    "    'eta':[0.3],\n",
    "    'objective':['reg:linear'],\n",
    "    'min_child_weight':[0.5,0.6],\n",
    "    'booster':['gbtree','gblinear']\n",
    "}\n",
    "random_forest_params ={\n",
    "    'n_estimators':[250,150,200],\n",
    "    'random_state':[86]\n",
    "}\n",
    "#'subsample':[0.7,0.6,0.9],\n",
    "gbm_params = {\n",
    "    'random_state':[86],\n",
    "    'max_depth':[4],\n",
    "    'n_estimators':[100,200],\n",
    "    'learning_rate':[0.1,0.01]\n",
    "}\n",
    "linearSVR_params = {'C':[1,3,5],\n",
    "                    'tol':[1e-5],\n",
    "             'random_state':[0,32,64,86]}\n",
    "\n",
    "xgb_reg = XGBRegressor()\n",
    "rf_reg = RandomForestRegressor()\n",
    "gb_reg = GradientBoostingRegressor()\n",
    "linSVR = LinearSVR()\n",
    "\n",
    "\n",
    "#models=[('xgb_reg',xgb_reg,xgb_params),('Random_Forest_Regressor',rf_reg,random_forest_params),('GBM_Reg',gb_reg,gbm_params),('LinearSVR',linSVR,linearSVR_params)]\n",
    "models =models=[('xgb_reg',xgb_reg,xgb_params)]\n",
    "acc_dic ={}\n",
    "model_dic ={}\n",
    "for model in models:\n",
    "    name, acc, best_model = grid_test(model[0],model[1],model[2])\n",
    "    acc_dic[name] =acc\n",
    "    model_dic[name] = best_model\n",
    "pd.DataFrame.from_dict(acc_dic,orient ='index', columns=['Mean_R2']).sort_values(by = 'Mean_R2', ascending =False)"
   ]
  },
  {
   "cell_type": "markdown",
   "id": "30e6c892",
   "metadata": {
    "scrolled": false
   },
   "source": [
    "xtrain, xtest, ytrain, ytest = train_test_split(data,y_all,test_size=1/4, random_state=86, stratify = y_all)\n",
    "xgb_params ={\n",
    "    'random_state':[i for i in range(30,126,1)],\n",
    "    'colsample_bytree':[i for i in np.arange(0.6,0.81,0.01)],\n",
    "    'max_depth':[i for i in range(1,7,1)],\n",
    "    'n_estimators':[i for i in range(100,251,1)],\n",
    "    'eta':[i for i in np.arange(0.1,0.3,0.01)],\n",
    "    'objective':['reg:squarederror'],\n",
    "    'min_child_weight':[i for i in np.arange(0.3,0.8,0.01)],\n",
    "    'booster':['gbtree']\n",
    "}\n",
    "random_forest_params ={\n",
    "    'n_estimators':[i for i in range(100,200,1)],\n",
    "    'random_state':[i for i in range(0,126,1)]\n",
    "}\n",
    "\n",
    "gbm_params = {\n",
    "    'random_state':[i for i in range(0,126,1)],\n",
    "    'max_depth':[i for i in range(1,5,1)],\n",
    "    'n_estimators':[i for i in range(100,250,1)],\n",
    "    'learning_rate':[i for i in np.arange(0.01,0.1,0.001)]\n",
    "}\n",
    "linearSVR_params = {'C':[i for i in np.arange(2,5,0.01)],\n",
    "                    'tol':[1e-5,1e-4,1e-6],\n",
    "             'random_state':[i for i in range(0,126,1)]}\n",
    "\n",
    "xgb_reg = XGBRegressor()\n",
    "#rf_reg = RandomForestRegressor()\n",
    "gb_reg = GradientBoostingRegressor()\n",
    "linSVR = LinearSVR()\n",
    "\n",
    "#The computation time is quite long due too number of models , here you can choose the number of iterations for random search cross validation\n",
    "#models=[('xgb_reg',xgb_reg,xgb_params),('Random_Forest_Regressor',rf_reg,random_forest_params),('GBM_Reg',gb_reg,gbm_params),('LinearSVR',linSVR,linearSVR_params)]\n",
    "models =models=[('xgb_reg',xgb_reg,xgb_params)]\n",
    "acc_dic ={}\n",
    "model_dic ={}\n",
    "for model in models:\n",
    "    name, acc, best_model = random_search_test_mse(model[0],model[1],2,model[2])\n",
    "    acc_dic[name] =acc\n",
    "    model_dic[name] = best_model\n",
    "pd.DataFrame.from_dict(acc_dic,orient ='index', columns=['Mean_MSE']).sort_values(by = 'Mean_MSE', ascending =False)\n"
   ]
  },
  {
   "cell_type": "markdown",
   "id": "a24e91cb",
   "metadata": {},
   "source": [
    "#### Models selected\n",
    "> ElasticNet(alpha=0, l1_ratio=0)\n",
    "\n",
    "> DecisionTreeRegressor(min_samples_leaf=55, min_samples_split=20, random_state=8)\n",
    "\n",
    "> XGBRegressor(colsample_bytree=0.7300000000000001, eta=0.2899999999999999, max_depth=6,\n",
    "            min_child_weight=0.7400000000000004, n_estimators=158,random_state= 106,)\n",
    "             \n",
    "\n",
    "> RandomForestRegressor(n_estimators=180, random_state=0)\n",
    "\n",
    ">GradientBoostingRegressor(learning_rate=0.09099999999999993, n_estimators=117,\n",
    "                          random_state=62)\n",
    "\n",
    ">LinearSVR(C=2.089999999999998, random_state=32, tol=1e-06)\n"
   ]
  },
  {
   "cell_type": "markdown",
   "id": "96f93af7",
   "metadata": {},
   "source": [
    "### Basic Ensembles\n",
    "Let's combine models between them and filter out the best combinaison."
   ]
  },
  {
   "cell_type": "code",
   "execution_count": 105,
   "id": "359d8868",
   "metadata": {},
   "outputs": [],
   "source": [
    "train_x,valid_x,train_y,valid_y = train_test_split(data,y_all,test_size=1/4, random_state=86, stratify = y_all)"
   ]
  },
  {
   "cell_type": "code",
   "execution_count": 47,
   "id": "e7ed24c1",
   "metadata": {},
   "outputs": [
    {
     "name": "stdout",
     "output_type": "stream",
     "text": [
      "R2_Score for model : 0.6680836614311688\n",
      "MSE for model:  0.02112656164731211\n"
     ]
    },
    {
     "data": {
      "text/plain": [
       "array([0.45922431, 0.40422009, 0.28567733, 0.41637444, 0.36090989,\n",
       "       0.74561934, 0.41070051, 0.1544898 , 0.15924881, 0.30379229])"
      ]
     },
     "execution_count": 47,
     "metadata": {},
     "output_type": "execute_result"
    }
   ],
   "source": [
    "model1 = ElasticNet(alpha=0, l1_ratio=0)\n",
    "model1.fit(train_x,train_y)\n",
    "pred1=model1.predict(valid_x)\n",
    "print('R2_Score for model :',r2_score(valid_y,pred1))\n",
    "print('MSE for model: ', mse(valid_y,pred1))\n",
    "pred1[:10]"
   ]
  },
  {
   "cell_type": "code",
   "execution_count": 50,
   "id": "acbf2c50",
   "metadata": {},
   "outputs": [
    {
     "name": "stdout",
     "output_type": "stream",
     "text": [
      "R2_Score for model : 0.6872314103265807\n",
      "MSE for model:  0.019907802428677613\n"
     ]
    },
    {
     "data": {
      "text/plain": [
       "array([0.4529951 , 0.40212645, 0.37941457, 0.37899493, 0.27567753,\n",
       "       0.66878673, 0.37169094, 0.15366189, 0.22479235, 0.31587307])"
      ]
     },
     "execution_count": 50,
     "metadata": {},
     "output_type": "execute_result"
    }
   ],
   "source": [
    "model2 = DecisionTreeRegressor(min_samples_leaf=55, min_samples_split=20, random_state=8)\n",
    "model2.fit(train_x,train_y)\n",
    "pred2=model2.predict(valid_x)\n",
    "print('R2_Score for model :',r2_score(valid_y,pred2))\n",
    "print('MSE for model: ', mse(valid_y,pred2))\n",
    "pred2[:10]"
   ]
  },
  {
   "cell_type": "code",
   "execution_count": 106,
   "id": "72e5d295",
   "metadata": {},
   "outputs": [
    {
     "name": "stdout",
     "output_type": "stream",
     "text": [
      "R2_Score for model : 0.7057838283710374\n",
      "MSE for model:  0.018726936174208376\n",
      "Model accuracy : 0.7057838283710374\n"
     ]
    },
    {
     "data": {
      "text/plain": [
       "array([0.44350436, 0.41251412, 0.3495662 , 0.40655002, 0.31272754,\n",
       "       0.64404976, 0.3989021 , 0.13387993, 0.20447758, 0.30473426],\n",
       "      dtype=float32)"
      ]
     },
     "execution_count": 106,
     "metadata": {},
     "output_type": "execute_result"
    }
   ],
   "source": [
    "model3 = XGBRegressor(colsample_bytree=0.7300000000000001, eta=0.2899999999999999, max_depth=6, min_child_weight=0.7400000000000004, n_estimators=158,random_state= 106,)\n",
    "model3.fit(train_x,train_y)\n",
    "pred3=model3.predict(valid_x)\n",
    "print('R2_Score for model :',r2_score(valid_y,pred3))\n",
    "print('MSE for model: ', mse(valid_y,pred3))\n",
    "print('Model accuracy :',model3.score(valid_x,valid_y))\n",
    "pred3[:10]"
   ]
  },
  {
   "cell_type": "code",
   "execution_count": 52,
   "id": "8dd3e0bf",
   "metadata": {},
   "outputs": [
    {
     "name": "stdout",
     "output_type": "stream",
     "text": [
      "R2_Score for model : 0.6595464370383083\n",
      "MSE for model:  0.021669958209862773\n"
     ]
    },
    {
     "data": {
      "text/plain": [
       "array([0.50904751, 0.38353094, 0.31552479, 0.49408636, 0.29137689,\n",
       "       0.661223  , 0.45683006, 0.13129625, 0.22777115, 0.35176255])"
      ]
     },
     "execution_count": 52,
     "metadata": {},
     "output_type": "execute_result"
    }
   ],
   "source": [
    "model4 = RandomForestRegressor(n_estimators=180, random_state=0)\n",
    "model4.fit(train_x,train_y)\n",
    "pred4=model4.predict(valid_x)\n",
    "print('R2_Score for model :',r2_score(valid_y,pred4))\n",
    "print('MSE for model: ', mse(valid_y,pred4))\n",
    "pred4[:10]"
   ]
  },
  {
   "cell_type": "code",
   "execution_count": 53,
   "id": "80fc320e",
   "metadata": {},
   "outputs": [
    {
     "name": "stdout",
     "output_type": "stream",
     "text": [
      "R2_Score for model : 0.6925523799311335\n",
      "MSE for model:  0.01956912132349681\n"
     ]
    },
    {
     "data": {
      "text/plain": [
       "array([0.47970422, 0.4123049 , 0.33359374, 0.43725182, 0.34281417,\n",
       "       0.69470664, 0.42197123, 0.13603484, 0.19220384, 0.29767876])"
      ]
     },
     "execution_count": 53,
     "metadata": {},
     "output_type": "execute_result"
    }
   ],
   "source": [
    "model5 = GradientBoostingRegressor(learning_rate=0.09099999999999993, n_estimators=117, random_state=62)\n",
    "model5.fit(train_x,train_y)\n",
    "pred5=model5.predict(valid_x)\n",
    "print('R2_Score for model :',r2_score(valid_y,pred5))\n",
    "print('MSE for model: ', mse(valid_y,pred5))\n",
    "pred5[:10]"
   ]
  },
  {
   "cell_type": "code",
   "execution_count": 54,
   "id": "1ea9d420",
   "metadata": {},
   "outputs": [
    {
     "name": "stdout",
     "output_type": "stream",
     "text": [
      "R2_Score for model : 0.6580141465999998\n",
      "MSE for model:  0.02176748889649933\n"
     ]
    },
    {
     "data": {
      "text/plain": [
       "array([0.4459922 , 0.37600128, 0.27844122, 0.38752833, 0.34338257,\n",
       "       0.7721574 , 0.3929619 , 0.11925572, 0.15106343, 0.25847305])"
      ]
     },
     "execution_count": 54,
     "metadata": {},
     "output_type": "execute_result"
    }
   ],
   "source": [
    "model6 = LinearSVR(C=2.089999999999998, random_state=32, tol=1e-06)\n",
    "model6.fit(train_x,train_y)\n",
    "pred6=model6.predict(valid_x)\n",
    "print('R2_Score for model :',r2_score(valid_y,pred6))\n",
    "print('MSE for model: ', mse(valid_y,pred6))\n",
    "pred6[:10]"
   ]
  },
  {
   "cell_type": "code",
   "execution_count": 55,
   "id": "401130ca",
   "metadata": {
    "scrolled": true
   },
   "outputs": [
    {
     "data": {
      "text/plain": [
       "0.69868579276658"
      ]
     },
     "execution_count": 55,
     "metadata": {},
     "output_type": "execute_result"
    }
   ],
   "source": [
    "final_pred = np.array([])\n",
    "for i in range(0,len(valid_x)):\n",
    "    final_pred = np.append(final_pred, np.mean([pred1[i], pred2[i], pred3[i]]))\n",
    "r2_score(valid_y, final_pred)"
   ]
  },
  {
   "cell_type": "markdown",
   "id": "250019e8",
   "metadata": {},
   "source": [
    "#### Averaging & Weighted Averaging"
   ]
  },
  {
   "cell_type": "code",
   "execution_count": 56,
   "id": "d8f2bce4",
   "metadata": {},
   "outputs": [],
   "source": [
    "from itertools import combinations\n",
    "pred_models = [pred1,pred2,pred3,pred4,pred5,pred6]\n",
    "var_2_predict = list(combinations([i for i in range(6)],2))\n",
    "var_3_predict = list(combinations([i for i in range(6)],3))\n",
    "var_4_predict = list(combinations([i for i in range(6)],4))\n",
    "var_5_predict = list(combinations([i for i in range(6)],5))\n",
    "var_6_predict = list(combinations([i for i in range(6)],6))\n",
    "var_pred = var_2_predict+var_3_predict+var_4_predict+var_5_predict+var_6_predict"
   ]
  },
  {
   "cell_type": "code",
   "execution_count": 57,
   "id": "388b576b",
   "metadata": {},
   "outputs": [],
   "source": [
    "#Let's make a frame with different combinations of models and pick better accuracies\n",
    "model_names = ['Elastic_NEt','DecisionTree_Reg','XGB_Reg','Random_Forest_Reg','Gradient_Boost_Reg','LinearSVR']\n",
    "predictions = [pred1,pred2,pred3,pred4,pred5,pred6]\n"
   ]
  },
  {
   "cell_type": "code",
   "execution_count": 59,
   "id": "773ea111",
   "metadata": {},
   "outputs": [
    {
     "name": "stdout",
     "output_type": "stream",
     "text": [
      "0.6887221865415079\n",
      "0.6966646824488765\n",
      "0.6837467525694725\n",
      "0.6844087594235556\n",
      "0.6656049407739306\n",
      "0.7019308897666175\n",
      "0.6851648003611139\n",
      "0.6955188585972789\n",
      "0.6861671039909003\n",
      "0.6949187925853904\n",
      "0.7027988696643667\n",
      "0.6942043140099292\n",
      "0.6902242751931889\n",
      "0.6816936031879517\n",
      "0.681867540895551\n",
      "0.69868579276658\n",
      "0.6906303832324798\n",
      "0.6918590851733872\n",
      "0.683183078540845\n",
      "0.6964341092860492\n",
      "0.6965632640459838\n",
      "0.6882237902809709\n",
      "0.690370741149362\n",
      "0.682059660117327\n",
      "0.6787638640455387\n",
      "0.6972773616796178\n",
      "0.701714094831589\n",
      "0.69757553841913\n",
      "0.6938112788122561\n",
      "0.689701115132775\n",
      "0.690712897453023\n",
      "0.6993205671590338\n",
      "0.6955469363470821\n",
      "0.6954591714863575\n",
      "0.6894476348374806\n",
      "0.6977063589223578\n",
      "0.6983046516030607\n",
      "0.6934343985418422\n",
      "0.6935196720806305\n",
      "0.688665389931712\n",
      "0.6873371477695707\n",
      "0.6974447446247567\n",
      "0.6927797622138234\n",
      "0.6908330247623851\n",
      "0.6871118898858364\n",
      "0.6994998645836066\n",
      "0.697197898183485\n",
      "0.697674173577567\n",
      "0.6929909988194936\n",
      "0.6969397498915345\n",
      "0.6982720926924315\n",
      "0.6951717525456591\n",
      "0.6942622521788118\n",
      "0.6910476472062494\n",
      "0.6941035505157562\n",
      "0.6979428634483189\n",
      "0.6958249451457115\n"
     ]
    }
   ],
   "source": [
    "R2_scores =[]\n",
    "mse_scores = []\n",
    "comb_name=[]\n",
    "for i, j in enumerate(var_pred):\n",
    "    final_pred = np.array([])\n",
    "    for k in range(0,len(valid_x)):\n",
    "        final_pred = np.append(final_pred, np.mean([predictions[var_pred[i][l]][k] for l in range(len(var_pred[i]))]))\n",
    "    comb_name.append('Combi_'+str(i))\n",
    "    print(r2_score(valid_y,final_pred))\n",
    "    R2_scores.append(r2_score(valid_y,final_pred))\n",
    "    mse_scores.append(mse(valid_y,final_pred))"
   ]
  },
  {
   "cell_type": "code",
   "execution_count": 60,
   "id": "7bc4de39",
   "metadata": {},
   "outputs": [],
   "source": [
    "Recap ={'model':comb_name,\n",
    "       'R2_score': R2_scores,\n",
    "       'MSE_score': mse_scores}\n",
    "resume_models =pd.DataFrame(data = Recap, columns=['model','R2_score','MSE_score'])"
   ]
  },
  {
   "cell_type": "code",
   "execution_count": 61,
   "id": "77019f90",
   "metadata": {
    "scrolled": true
   },
   "outputs": [
    {
     "data": {
      "text/html": [
       "<div>\n",
       "<style scoped>\n",
       "    .dataframe tbody tr th:only-of-type {\n",
       "        vertical-align: middle;\n",
       "    }\n",
       "\n",
       "    .dataframe tbody tr th {\n",
       "        vertical-align: top;\n",
       "    }\n",
       "\n",
       "    .dataframe thead th {\n",
       "        text-align: right;\n",
       "    }\n",
       "</style>\n",
       "<table border=\"1\" class=\"dataframe\">\n",
       "  <thead>\n",
       "    <tr style=\"text-align: right;\">\n",
       "      <th></th>\n",
       "      <th>model</th>\n",
       "      <th>R2_score</th>\n",
       "      <th>MSE_score</th>\n",
       "    </tr>\n",
       "  </thead>\n",
       "  <tbody>\n",
       "    <tr>\n",
       "      <th>10</th>\n",
       "      <td>Combi_10</td>\n",
       "      <td>0.702799</td>\n",
       "      <td>0.018917</td>\n",
       "    </tr>\n",
       "    <tr>\n",
       "      <th>5</th>\n",
       "      <td>Combi_5</td>\n",
       "      <td>0.701931</td>\n",
       "      <td>0.018972</td>\n",
       "    </tr>\n",
       "    <tr>\n",
       "      <th>26</th>\n",
       "      <td>Combi_26</td>\n",
       "      <td>0.701714</td>\n",
       "      <td>0.018986</td>\n",
       "    </tr>\n",
       "    <tr>\n",
       "      <th>45</th>\n",
       "      <td>Combi_45</td>\n",
       "      <td>0.699500</td>\n",
       "      <td>0.019127</td>\n",
       "    </tr>\n",
       "    <tr>\n",
       "      <th>31</th>\n",
       "      <td>Combi_31</td>\n",
       "      <td>0.699321</td>\n",
       "      <td>0.019138</td>\n",
       "    </tr>\n",
       "    <tr>\n",
       "      <th>15</th>\n",
       "      <td>Combi_15</td>\n",
       "      <td>0.698686</td>\n",
       "      <td>0.019179</td>\n",
       "    </tr>\n",
       "    <tr>\n",
       "      <th>36</th>\n",
       "      <td>Combi_36</td>\n",
       "      <td>0.698305</td>\n",
       "      <td>0.019203</td>\n",
       "    </tr>\n",
       "    <tr>\n",
       "      <th>50</th>\n",
       "      <td>Combi_50</td>\n",
       "      <td>0.698272</td>\n",
       "      <td>0.019205</td>\n",
       "    </tr>\n",
       "    <tr>\n",
       "      <th>55</th>\n",
       "      <td>Combi_55</td>\n",
       "      <td>0.697943</td>\n",
       "      <td>0.019226</td>\n",
       "    </tr>\n",
       "    <tr>\n",
       "      <th>35</th>\n",
       "      <td>Combi_35</td>\n",
       "      <td>0.697706</td>\n",
       "      <td>0.019241</td>\n",
       "    </tr>\n",
       "    <tr>\n",
       "      <th>47</th>\n",
       "      <td>Combi_47</td>\n",
       "      <td>0.697674</td>\n",
       "      <td>0.019243</td>\n",
       "    </tr>\n",
       "    <tr>\n",
       "      <th>27</th>\n",
       "      <td>Combi_27</td>\n",
       "      <td>0.697576</td>\n",
       "      <td>0.019249</td>\n",
       "    </tr>\n",
       "    <tr>\n",
       "      <th>41</th>\n",
       "      <td>Combi_41</td>\n",
       "      <td>0.697445</td>\n",
       "      <td>0.019258</td>\n",
       "    </tr>\n",
       "    <tr>\n",
       "      <th>25</th>\n",
       "      <td>Combi_25</td>\n",
       "      <td>0.697277</td>\n",
       "      <td>0.019268</td>\n",
       "    </tr>\n",
       "    <tr>\n",
       "      <th>46</th>\n",
       "      <td>Combi_46</td>\n",
       "      <td>0.697198</td>\n",
       "      <td>0.019273</td>\n",
       "    </tr>\n",
       "    <tr>\n",
       "      <th>49</th>\n",
       "      <td>Combi_49</td>\n",
       "      <td>0.696940</td>\n",
       "      <td>0.019290</td>\n",
       "    </tr>\n",
       "    <tr>\n",
       "      <th>1</th>\n",
       "      <td>Combi_1</td>\n",
       "      <td>0.696665</td>\n",
       "      <td>0.019307</td>\n",
       "    </tr>\n",
       "    <tr>\n",
       "      <th>20</th>\n",
       "      <td>Combi_20</td>\n",
       "      <td>0.696563</td>\n",
       "      <td>0.019314</td>\n",
       "    </tr>\n",
       "    <tr>\n",
       "      <th>19</th>\n",
       "      <td>Combi_19</td>\n",
       "      <td>0.696434</td>\n",
       "      <td>0.019322</td>\n",
       "    </tr>\n",
       "    <tr>\n",
       "      <th>56</th>\n",
       "      <td>Combi_56</td>\n",
       "      <td>0.695825</td>\n",
       "      <td>0.019361</td>\n",
       "    </tr>\n",
       "    <tr>\n",
       "      <th>32</th>\n",
       "      <td>Combi_32</td>\n",
       "      <td>0.695547</td>\n",
       "      <td>0.019379</td>\n",
       "    </tr>\n",
       "    <tr>\n",
       "      <th>7</th>\n",
       "      <td>Combi_7</td>\n",
       "      <td>0.695519</td>\n",
       "      <td>0.019380</td>\n",
       "    </tr>\n",
       "    <tr>\n",
       "      <th>33</th>\n",
       "      <td>Combi_33</td>\n",
       "      <td>0.695459</td>\n",
       "      <td>0.019384</td>\n",
       "    </tr>\n",
       "    <tr>\n",
       "      <th>51</th>\n",
       "      <td>Combi_51</td>\n",
       "      <td>0.695172</td>\n",
       "      <td>0.019402</td>\n",
       "    </tr>\n",
       "    <tr>\n",
       "      <th>9</th>\n",
       "      <td>Combi_9</td>\n",
       "      <td>0.694919</td>\n",
       "      <td>0.019418</td>\n",
       "    </tr>\n",
       "    <tr>\n",
       "      <th>52</th>\n",
       "      <td>Combi_52</td>\n",
       "      <td>0.694262</td>\n",
       "      <td>0.019460</td>\n",
       "    </tr>\n",
       "    <tr>\n",
       "      <th>11</th>\n",
       "      <td>Combi_11</td>\n",
       "      <td>0.694204</td>\n",
       "      <td>0.019464</td>\n",
       "    </tr>\n",
       "    <tr>\n",
       "      <th>54</th>\n",
       "      <td>Combi_54</td>\n",
       "      <td>0.694104</td>\n",
       "      <td>0.019470</td>\n",
       "    </tr>\n",
       "    <tr>\n",
       "      <th>28</th>\n",
       "      <td>Combi_28</td>\n",
       "      <td>0.693811</td>\n",
       "      <td>0.019489</td>\n",
       "    </tr>\n",
       "    <tr>\n",
       "      <th>38</th>\n",
       "      <td>Combi_38</td>\n",
       "      <td>0.693520</td>\n",
       "      <td>0.019508</td>\n",
       "    </tr>\n",
       "    <tr>\n",
       "      <th>37</th>\n",
       "      <td>Combi_37</td>\n",
       "      <td>0.693434</td>\n",
       "      <td>0.019513</td>\n",
       "    </tr>\n",
       "    <tr>\n",
       "      <th>48</th>\n",
       "      <td>Combi_48</td>\n",
       "      <td>0.692991</td>\n",
       "      <td>0.019541</td>\n",
       "    </tr>\n",
       "    <tr>\n",
       "      <th>42</th>\n",
       "      <td>Combi_42</td>\n",
       "      <td>0.692780</td>\n",
       "      <td>0.019555</td>\n",
       "    </tr>\n",
       "    <tr>\n",
       "      <th>17</th>\n",
       "      <td>Combi_17</td>\n",
       "      <td>0.691859</td>\n",
       "      <td>0.019613</td>\n",
       "    </tr>\n",
       "    <tr>\n",
       "      <th>53</th>\n",
       "      <td>Combi_53</td>\n",
       "      <td>0.691048</td>\n",
       "      <td>0.019665</td>\n",
       "    </tr>\n",
       "    <tr>\n",
       "      <th>43</th>\n",
       "      <td>Combi_43</td>\n",
       "      <td>0.690833</td>\n",
       "      <td>0.019679</td>\n",
       "    </tr>\n",
       "    <tr>\n",
       "      <th>30</th>\n",
       "      <td>Combi_30</td>\n",
       "      <td>0.690713</td>\n",
       "      <td>0.019686</td>\n",
       "    </tr>\n",
       "    <tr>\n",
       "      <th>16</th>\n",
       "      <td>Combi_16</td>\n",
       "      <td>0.690630</td>\n",
       "      <td>0.019691</td>\n",
       "    </tr>\n",
       "    <tr>\n",
       "      <th>22</th>\n",
       "      <td>Combi_22</td>\n",
       "      <td>0.690371</td>\n",
       "      <td>0.019708</td>\n",
       "    </tr>\n",
       "    <tr>\n",
       "      <th>12</th>\n",
       "      <td>Combi_12</td>\n",
       "      <td>0.690224</td>\n",
       "      <td>0.019717</td>\n",
       "    </tr>\n",
       "    <tr>\n",
       "      <th>29</th>\n",
       "      <td>Combi_29</td>\n",
       "      <td>0.689701</td>\n",
       "      <td>0.019751</td>\n",
       "    </tr>\n",
       "    <tr>\n",
       "      <th>34</th>\n",
       "      <td>Combi_34</td>\n",
       "      <td>0.689448</td>\n",
       "      <td>0.019767</td>\n",
       "    </tr>\n",
       "    <tr>\n",
       "      <th>0</th>\n",
       "      <td>Combi_0</td>\n",
       "      <td>0.688722</td>\n",
       "      <td>0.019813</td>\n",
       "    </tr>\n",
       "    <tr>\n",
       "      <th>39</th>\n",
       "      <td>Combi_39</td>\n",
       "      <td>0.688665</td>\n",
       "      <td>0.019817</td>\n",
       "    </tr>\n",
       "    <tr>\n",
       "      <th>21</th>\n",
       "      <td>Combi_21</td>\n",
       "      <td>0.688224</td>\n",
       "      <td>0.019845</td>\n",
       "    </tr>\n",
       "    <tr>\n",
       "      <th>40</th>\n",
       "      <td>Combi_40</td>\n",
       "      <td>0.687337</td>\n",
       "      <td>0.019901</td>\n",
       "    </tr>\n",
       "    <tr>\n",
       "      <th>44</th>\n",
       "      <td>Combi_44</td>\n",
       "      <td>0.687112</td>\n",
       "      <td>0.019915</td>\n",
       "    </tr>\n",
       "    <tr>\n",
       "      <th>8</th>\n",
       "      <td>Combi_8</td>\n",
       "      <td>0.686167</td>\n",
       "      <td>0.019976</td>\n",
       "    </tr>\n",
       "    <tr>\n",
       "      <th>6</th>\n",
       "      <td>Combi_6</td>\n",
       "      <td>0.685165</td>\n",
       "      <td>0.020039</td>\n",
       "    </tr>\n",
       "    <tr>\n",
       "      <th>3</th>\n",
       "      <td>Combi_3</td>\n",
       "      <td>0.684409</td>\n",
       "      <td>0.020087</td>\n",
       "    </tr>\n",
       "    <tr>\n",
       "      <th>2</th>\n",
       "      <td>Combi_2</td>\n",
       "      <td>0.683747</td>\n",
       "      <td>0.020130</td>\n",
       "    </tr>\n",
       "    <tr>\n",
       "      <th>18</th>\n",
       "      <td>Combi_18</td>\n",
       "      <td>0.683183</td>\n",
       "      <td>0.020165</td>\n",
       "    </tr>\n",
       "    <tr>\n",
       "      <th>23</th>\n",
       "      <td>Combi_23</td>\n",
       "      <td>0.682060</td>\n",
       "      <td>0.020237</td>\n",
       "    </tr>\n",
       "    <tr>\n",
       "      <th>14</th>\n",
       "      <td>Combi_14</td>\n",
       "      <td>0.681868</td>\n",
       "      <td>0.020249</td>\n",
       "    </tr>\n",
       "    <tr>\n",
       "      <th>13</th>\n",
       "      <td>Combi_13</td>\n",
       "      <td>0.681694</td>\n",
       "      <td>0.020260</td>\n",
       "    </tr>\n",
       "    <tr>\n",
       "      <th>24</th>\n",
       "      <td>Combi_24</td>\n",
       "      <td>0.678764</td>\n",
       "      <td>0.020447</td>\n",
       "    </tr>\n",
       "    <tr>\n",
       "      <th>4</th>\n",
       "      <td>Combi_4</td>\n",
       "      <td>0.665605</td>\n",
       "      <td>0.021284</td>\n",
       "    </tr>\n",
       "  </tbody>\n",
       "</table>\n",
       "</div>"
      ],
      "text/plain": [
       "       model  R2_score  MSE_score\n",
       "10  Combi_10  0.702799   0.018917\n",
       "5    Combi_5  0.701931   0.018972\n",
       "26  Combi_26  0.701714   0.018986\n",
       "45  Combi_45  0.699500   0.019127\n",
       "31  Combi_31  0.699321   0.019138\n",
       "15  Combi_15  0.698686   0.019179\n",
       "36  Combi_36  0.698305   0.019203\n",
       "50  Combi_50  0.698272   0.019205\n",
       "55  Combi_55  0.697943   0.019226\n",
       "35  Combi_35  0.697706   0.019241\n",
       "47  Combi_47  0.697674   0.019243\n",
       "27  Combi_27  0.697576   0.019249\n",
       "41  Combi_41  0.697445   0.019258\n",
       "25  Combi_25  0.697277   0.019268\n",
       "46  Combi_46  0.697198   0.019273\n",
       "49  Combi_49  0.696940   0.019290\n",
       "1    Combi_1  0.696665   0.019307\n",
       "20  Combi_20  0.696563   0.019314\n",
       "19  Combi_19  0.696434   0.019322\n",
       "56  Combi_56  0.695825   0.019361\n",
       "32  Combi_32  0.695547   0.019379\n",
       "7    Combi_7  0.695519   0.019380\n",
       "33  Combi_33  0.695459   0.019384\n",
       "51  Combi_51  0.695172   0.019402\n",
       "9    Combi_9  0.694919   0.019418\n",
       "52  Combi_52  0.694262   0.019460\n",
       "11  Combi_11  0.694204   0.019464\n",
       "54  Combi_54  0.694104   0.019470\n",
       "28  Combi_28  0.693811   0.019489\n",
       "38  Combi_38  0.693520   0.019508\n",
       "37  Combi_37  0.693434   0.019513\n",
       "48  Combi_48  0.692991   0.019541\n",
       "42  Combi_42  0.692780   0.019555\n",
       "17  Combi_17  0.691859   0.019613\n",
       "53  Combi_53  0.691048   0.019665\n",
       "43  Combi_43  0.690833   0.019679\n",
       "30  Combi_30  0.690713   0.019686\n",
       "16  Combi_16  0.690630   0.019691\n",
       "22  Combi_22  0.690371   0.019708\n",
       "12  Combi_12  0.690224   0.019717\n",
       "29  Combi_29  0.689701   0.019751\n",
       "34  Combi_34  0.689448   0.019767\n",
       "0    Combi_0  0.688722   0.019813\n",
       "39  Combi_39  0.688665   0.019817\n",
       "21  Combi_21  0.688224   0.019845\n",
       "40  Combi_40  0.687337   0.019901\n",
       "44  Combi_44  0.687112   0.019915\n",
       "8    Combi_8  0.686167   0.019976\n",
       "6    Combi_6  0.685165   0.020039\n",
       "3    Combi_3  0.684409   0.020087\n",
       "2    Combi_2  0.683747   0.020130\n",
       "18  Combi_18  0.683183   0.020165\n",
       "23  Combi_23  0.682060   0.020237\n",
       "14  Combi_14  0.681868   0.020249\n",
       "13  Combi_13  0.681694   0.020260\n",
       "24  Combi_24  0.678764   0.020447\n",
       "4    Combi_4  0.665605   0.021284"
      ]
     },
     "execution_count": 61,
     "metadata": {},
     "output_type": "execute_result"
    }
   ],
   "source": [
    "resume_models.sort_values(by ='MSE_score',ascending= True)"
   ]
  },
  {
   "cell_type": "code",
   "execution_count": 62,
   "id": "014607b1",
   "metadata": {
    "scrolled": false
   },
   "outputs": [
    {
     "data": {
      "text/html": [
       "<div>\n",
       "<style scoped>\n",
       "    .dataframe tbody tr th:only-of-type {\n",
       "        vertical-align: middle;\n",
       "    }\n",
       "\n",
       "    .dataframe tbody tr th {\n",
       "        vertical-align: top;\n",
       "    }\n",
       "\n",
       "    .dataframe thead th {\n",
       "        text-align: right;\n",
       "    }\n",
       "</style>\n",
       "<table border=\"1\" class=\"dataframe\">\n",
       "  <thead>\n",
       "    <tr style=\"text-align: right;\">\n",
       "      <th></th>\n",
       "      <th>model</th>\n",
       "      <th>R2_score</th>\n",
       "      <th>MSE_score</th>\n",
       "      <th>ensemble</th>\n",
       "    </tr>\n",
       "  </thead>\n",
       "  <tbody>\n",
       "    <tr>\n",
       "      <th>10</th>\n",
       "      <td>Combi_10</td>\n",
       "      <td>0.702799</td>\n",
       "      <td>0.018917</td>\n",
       "      <td>XGB_Reg &amp; Gradient_Boost_Reg</td>\n",
       "    </tr>\n",
       "    <tr>\n",
       "      <th>5</th>\n",
       "      <td>Combi_5</td>\n",
       "      <td>0.701931</td>\n",
       "      <td>0.018972</td>\n",
       "      <td>DecisionTree_Reg &amp; XGB_Reg</td>\n",
       "    </tr>\n",
       "    <tr>\n",
       "      <th>26</th>\n",
       "      <td>Combi_26</td>\n",
       "      <td>0.701714</td>\n",
       "      <td>0.018986</td>\n",
       "      <td>DecisionTree_Reg &amp; XGB_Reg &amp; Gradient_Boost_Reg</td>\n",
       "    </tr>\n",
       "    <tr>\n",
       "      <th>45</th>\n",
       "      <td>Combi_45</td>\n",
       "      <td>0.699500</td>\n",
       "      <td>0.019127</td>\n",
       "      <td>DecisionTree_Reg &amp; XGB_Reg &amp; Random_Forest_Reg...</td>\n",
       "    </tr>\n",
       "    <tr>\n",
       "      <th>31</th>\n",
       "      <td>Combi_31</td>\n",
       "      <td>0.699321</td>\n",
       "      <td>0.019138</td>\n",
       "      <td>XGB_Reg &amp; Random_Forest_Reg &amp; Gradient_Boost_Reg</td>\n",
       "    </tr>\n",
       "  </tbody>\n",
       "</table>\n",
       "</div>"
      ],
      "text/plain": [
       "       model  R2_score  MSE_score  \\\n",
       "10  Combi_10  0.702799   0.018917   \n",
       "5    Combi_5  0.701931   0.018972   \n",
       "26  Combi_26  0.701714   0.018986   \n",
       "45  Combi_45  0.699500   0.019127   \n",
       "31  Combi_31  0.699321   0.019138   \n",
       "\n",
       "                                             ensemble  \n",
       "10                       XGB_Reg & Gradient_Boost_Reg  \n",
       "5                          DecisionTree_Reg & XGB_Reg  \n",
       "26    DecisionTree_Reg & XGB_Reg & Gradient_Boost_Reg  \n",
       "45  DecisionTree_Reg & XGB_Reg & Random_Forest_Reg...  \n",
       "31   XGB_Reg & Random_Forest_Reg & Gradient_Boost_Reg  "
      ]
     },
     "execution_count": 62,
     "metadata": {},
     "output_type": "execute_result"
    }
   ],
   "source": [
    "name_2_models = list(combinations(model_names,2))\n",
    "name_3_models = list(combinations(model_names,3))\n",
    "name_4_models = list(combinations(model_names,4))\n",
    "name_5_models = list(combinations(model_names,5))\n",
    "name_6_models = list(combinations(model_names,6))\n",
    "name_models = name_2_models+name_3_models+name_4_models+name_5_models+name_6_models\n",
    "ensembles =[]\n",
    "for i,j in enumerate(name_models):\n",
    "    ensembles.append(' & '.join(name_models[i]))\n",
    "resume_models['ensemble']= ensembles\n",
    "resume_5_best_models = resume_models.sort_values(by ='MSE_score',ascending= True)[:5]\n",
    "resume_5_best_models"
   ]
  },
  {
   "cell_type": "markdown",
   "id": "1a21ac9a",
   "metadata": {},
   "source": [
    "We got big improvements on performance especially on R2 score. Also we got a good MSE score. The averaging looks to work well. Let's try now weighted averaging on 3 best models."
   ]
  },
  {
   "cell_type": "markdown",
   "id": "cf005a17",
   "metadata": {},
   "source": [
    "#### Weighted averaging"
   ]
  },
  {
   "cell_type": "code",
   "execution_count": 63,
   "id": "1e23f48d",
   "metadata": {},
   "outputs": [
    {
     "data": {
      "text/plain": [
       "{'Elastic_NEt': array([0.45922431, 0.40422009, 0.28567733, ..., 0.20552473, 0.73028538,\n",
       "        0.45421847]),\n",
       " 'DecisionTree_Reg': array([0.4529951 , 0.40212645, 0.37941457, ..., 0.15254882, 0.79391839,\n",
       "        0.56082475]),\n",
       " 'XGB_Reg': array([0.44350436, 0.41251412, 0.3495662 , ..., 0.16736102, 0.77755755,\n",
       "        0.52075136], dtype=float32),\n",
       " 'Random_Forest_Reg': array([0.50904751, 0.38353094, 0.31552479, ..., 0.14529853, 0.87815443,\n",
       "        0.56465876]),\n",
       " 'Gradient_Boost_Reg': array([0.47970422, 0.4123049 , 0.33359374, ..., 0.17070379, 0.74403108,\n",
       "        0.48414835]),\n",
       " 'LinearSVR': array([0.4459922 , 0.37600128, 0.27844122, ..., 0.16842007, 0.71764732,\n",
       "        0.43015238])}"
      ]
     },
     "execution_count": 63,
     "metadata": {},
     "output_type": "execute_result"
    }
   ],
   "source": [
    "#Let's make a frame with different combinations of models and pick better accuracies\n",
    "model_names = ['Elastic_NEt','DecisionTree_Reg','XGB_Reg','Random_Forest_Reg','Gradient_Boost_Reg','LinearSVR']\n",
    "predictions = [pred1,pred2,pred3,pred4,pred5,pred6]\n",
    "mods = {}\n",
    "for i,j in enumerate(model_names):\n",
    "    mods[j] = predictions[i]\n",
    "mods\n"
   ]
  },
  {
   "cell_type": "code",
   "execution_count": 64,
   "id": "f8c6445a",
   "metadata": {},
   "outputs": [
    {
     "name": "stdout",
     "output_type": "stream",
     "text": [
      "0.7037599793580995 0.018855754692516463\n"
     ]
    }
   ],
   "source": [
    "final_pred = np.array([])\n",
    "for i in range(0,len(valid_x)):\n",
    "    final_pred = np.append(final_pred, np.mean([mods['XGB_Reg'][i],mods['XGB_Reg'][i], mods['XGB_Reg'][i], mods['DecisionTree_Reg'][i],mods['Gradient_Boost_Reg'][i],mods['Gradient_Boost_Reg'][i]]))\n",
    "print(r2_score(valid_y, final_pred),mse(valid_y, final_pred))"
   ]
  },
  {
   "cell_type": "markdown",
   "id": "3fdebe8f",
   "metadata": {},
   "source": [
    "The XGB regressor give better results, but that's not bad at all. Let's see with advanced ensemble models."
   ]
  },
  {
   "cell_type": "markdown",
   "id": "e32244ca",
   "metadata": {},
   "source": [
    "#### Rank Averaging"
   ]
  },
  {
   "cell_type": "code",
   "execution_count": 65,
   "id": "1ff29169",
   "metadata": {},
   "outputs": [
    {
     "data": {
      "text/plain": [
       "(0.7057838283710374, 0.6872314103265807, 0.6925523799311335)"
      ]
     },
     "execution_count": 65,
     "metadata": {},
     "output_type": "execute_result"
    }
   ],
   "source": [
    "m1_score= r2_score(valid_y,mods['XGB_Reg'] )\n",
    "m2_score= r2_score(valid_y,mods['DecisionTree_Reg'])\n",
    "m3_score= r2_score(valid_y,mods['Gradient_Boost_Reg'])\n",
    "m1_score, m2_score, m3_score"
   ]
  },
  {
   "cell_type": "code",
   "execution_count": 66,
   "id": "90590937",
   "metadata": {},
   "outputs": [
    {
     "data": {
      "text/html": [
       "<div>\n",
       "<style scoped>\n",
       "    .dataframe tbody tr th:only-of-type {\n",
       "        vertical-align: middle;\n",
       "    }\n",
       "\n",
       "    .dataframe tbody tr th {\n",
       "        vertical-align: top;\n",
       "    }\n",
       "\n",
       "    .dataframe thead th {\n",
       "        text-align: right;\n",
       "    }\n",
       "</style>\n",
       "<table border=\"1\" class=\"dataframe\">\n",
       "  <thead>\n",
       "    <tr style=\"text-align: right;\">\n",
       "      <th></th>\n",
       "      <th>score</th>\n",
       "    </tr>\n",
       "  </thead>\n",
       "  <tbody>\n",
       "    <tr>\n",
       "      <th>1</th>\n",
       "      <td>0.705784</td>\n",
       "    </tr>\n",
       "    <tr>\n",
       "      <th>2</th>\n",
       "      <td>0.687231</td>\n",
       "    </tr>\n",
       "    <tr>\n",
       "      <th>3</th>\n",
       "      <td>0.692552</td>\n",
       "    </tr>\n",
       "  </tbody>\n",
       "</table>\n",
       "</div>"
      ],
      "text/plain": [
       "      score\n",
       "1  0.705784\n",
       "2  0.687231\n",
       "3  0.692552"
      ]
     },
     "execution_count": 66,
     "metadata": {},
     "output_type": "execute_result"
    }
   ],
   "source": [
    "index_ = [1,2,3]\n",
    "valid_mse = [m1_score,m2_score,m3_score]\n",
    "\n",
    "rank_eval = pd.DataFrame({\n",
    "    'score':valid_mse\n",
    "}, index = index_)\n",
    "rank_eval"
   ]
  },
  {
   "cell_type": "code",
   "execution_count": 67,
   "id": "36b0816a",
   "metadata": {},
   "outputs": [
    {
     "data": {
      "text/html": [
       "<div>\n",
       "<style scoped>\n",
       "    .dataframe tbody tr th:only-of-type {\n",
       "        vertical-align: middle;\n",
       "    }\n",
       "\n",
       "    .dataframe tbody tr th {\n",
       "        vertical-align: top;\n",
       "    }\n",
       "\n",
       "    .dataframe thead th {\n",
       "        text-align: right;\n",
       "    }\n",
       "</style>\n",
       "<table border=\"1\" class=\"dataframe\">\n",
       "  <thead>\n",
       "    <tr style=\"text-align: right;\">\n",
       "      <th></th>\n",
       "      <th>score</th>\n",
       "    </tr>\n",
       "  </thead>\n",
       "  <tbody>\n",
       "    <tr>\n",
       "      <th>2</th>\n",
       "      <td>0.687231</td>\n",
       "    </tr>\n",
       "    <tr>\n",
       "      <th>3</th>\n",
       "      <td>0.692552</td>\n",
       "    </tr>\n",
       "    <tr>\n",
       "      <th>1</th>\n",
       "      <td>0.705784</td>\n",
       "    </tr>\n",
       "  </tbody>\n",
       "</table>\n",
       "</div>"
      ],
      "text/plain": [
       "      score\n",
       "2  0.687231\n",
       "3  0.692552\n",
       "1  0.705784"
      ]
     },
     "execution_count": 67,
     "metadata": {},
     "output_type": "execute_result"
    }
   ],
   "source": [
    "sorted_rank = rank_eval.sort_values('score')\n",
    "sorted_rank"
   ]
  },
  {
   "cell_type": "code",
   "execution_count": 68,
   "id": "801906a1",
   "metadata": {},
   "outputs": [
    {
     "data": {
      "text/html": [
       "<div>\n",
       "<style scoped>\n",
       "    .dataframe tbody tr th:only-of-type {\n",
       "        vertical-align: middle;\n",
       "    }\n",
       "\n",
       "    .dataframe tbody tr th {\n",
       "        vertical-align: top;\n",
       "    }\n",
       "\n",
       "    .dataframe thead th {\n",
       "        text-align: right;\n",
       "    }\n",
       "</style>\n",
       "<table border=\"1\" class=\"dataframe\">\n",
       "  <thead>\n",
       "    <tr style=\"text-align: right;\">\n",
       "      <th></th>\n",
       "      <th>score</th>\n",
       "      <th>rank</th>\n",
       "      <th>weight</th>\n",
       "    </tr>\n",
       "  </thead>\n",
       "  <tbody>\n",
       "    <tr>\n",
       "      <th>2</th>\n",
       "      <td>0.687231</td>\n",
       "      <td>1</td>\n",
       "      <td>0.166667</td>\n",
       "    </tr>\n",
       "    <tr>\n",
       "      <th>3</th>\n",
       "      <td>0.692552</td>\n",
       "      <td>2</td>\n",
       "      <td>0.333333</td>\n",
       "    </tr>\n",
       "    <tr>\n",
       "      <th>1</th>\n",
       "      <td>0.705784</td>\n",
       "      <td>3</td>\n",
       "      <td>0.500000</td>\n",
       "    </tr>\n",
       "  </tbody>\n",
       "</table>\n",
       "</div>"
      ],
      "text/plain": [
       "      score  rank    weight\n",
       "2  0.687231     1  0.166667\n",
       "3  0.692552     2  0.333333\n",
       "1  0.705784     3  0.500000"
      ]
     },
     "execution_count": 68,
     "metadata": {},
     "output_type": "execute_result"
    }
   ],
   "source": [
    "sorted_rank['rank'] = [i for i in range(1,4)]\n",
    "sorted_rank['weight'] = sorted_rank['rank']/sorted_rank['rank'].sum()\n",
    "sorted_rank"
   ]
  },
  {
   "cell_type": "code",
   "execution_count": 69,
   "id": "8f59bb52",
   "metadata": {
    "scrolled": false
   },
   "outputs": [
    {
     "data": {
      "text/plain": [
       "array([0.46318609, 0.41067824, 0.3465547 , ..., 0.16656371, 0.76352112,\n",
       "       0.50912876])"
      ]
     },
     "execution_count": 69,
     "metadata": {},
     "output_type": "execute_result"
    }
   ],
   "source": [
    "wt_pred1 = mods['Gradient_Boost_Reg']*float(sorted_rank.loc[[1],['weight']].values)\n",
    "wt_pred2 = mods['DecisionTree_Reg']*float(sorted_rank.loc[[2],['weight']].values)\n",
    "wt_pred3 = mods['XGB_Reg']*float(sorted_rank.loc[[3],['weight']].values)\n",
    "ranked_prediction = wt_pred1 + wt_pred2 + wt_pred3\n",
    "ranked_prediction"
   ]
  },
  {
   "cell_type": "code",
   "execution_count": 70,
   "id": "7b304c2e",
   "metadata": {
    "scrolled": true
   },
   "outputs": [
    {
     "data": {
      "text/plain": [
       "(0.7015773706871262, 0.01899467830452695)"
      ]
     },
     "execution_count": 70,
     "metadata": {},
     "output_type": "execute_result"
    }
   ],
   "source": [
    "r2_score(valid_y, ranked_prediction),mse(valid_y, ranked_prediction)"
   ]
  },
  {
   "cell_type": "markdown",
   "id": "321b04eb",
   "metadata": {},
   "source": [
    "In this weighted averaging gived better results than rank averaging method. Let's go on advanced technics, Stacking , and blending."
   ]
  },
  {
   "cell_type": "markdown",
   "id": "55c797a8",
   "metadata": {},
   "source": [
    "#### Stacking"
   ]
  },
  {
   "cell_type": "markdown",
   "id": "78799462",
   "metadata": {},
   "source": [
    "<img src=\"stacking image 2.png\" alt=\"Drawing\" style=\"width: 350px;\"/>"
   ]
  },
  {
   "cell_type": "code",
   "execution_count": 71,
   "id": "60d24dec",
   "metadata": {},
   "outputs": [],
   "source": [
    "train_x, test_x, train_y, test_y = train_test_split(data,y_all,test_size=1/4, random_state=86, stratify = y_all)"
   ]
  },
  {
   "cell_type": "code",
   "execution_count": 72,
   "id": "69711a15",
   "metadata": {},
   "outputs": [],
   "source": [
    "def model_predictions(model, train_x, train_y, test_x):\n",
    "    \n",
    "    #train the model\n",
    "    model.fit(train_x,train_y)\n",
    "    \n",
    "    #storing predictions for train and test\n",
    "    pred_train=model.predict(train_x)\n",
    "    pred_test=model.predict(test_x)\n",
    "    return pred_train, pred_test"
   ]
  },
  {
   "cell_type": "code",
   "execution_count": 73,
   "id": "d468e315",
   "metadata": {},
   "outputs": [],
   "source": [
    "#Model 1 - XGB Regressor\n",
    "XGB_Reg=XGBRegressor(colsample_bytree=0.7300000000000001, eta=0.2899999999999999, max_depth=6, min_child_weight=0.7400000000000004, n_estimators=158,random_state= 106,)\n",
    "M1_train, M1_test = model_predictions(XGB_Reg, train_x, train_y, test_x)"
   ]
  },
  {
   "cell_type": "code",
   "execution_count": 74,
   "id": "9ad0b4da",
   "metadata": {},
   "outputs": [],
   "source": [
    "#Model 2 - Decision Tree Regressor\n",
    "DT_Reg=DecisionTreeRegressor(min_samples_leaf=55, min_samples_split=20, random_state=8)\n",
    "M2_train, M2_test = model_predictions(DT_Reg, train_x, train_y, test_x)"
   ]
  },
  {
   "cell_type": "code",
   "execution_count": 75,
   "id": "bdc6296c",
   "metadata": {},
   "outputs": [],
   "source": [
    "#Model 3 - Gradient Boosting Tree Regressor\n",
    "GBT_Reg=GradientBoostingRegressor(learning_rate=0.09099999999999993, n_estimators=117, random_state=62)\n",
    "M3_train, M3_test = model_predictions(GBT_Reg, train_x, train_y, test_x)"
   ]
  },
  {
   "cell_type": "code",
   "execution_count": 76,
   "id": "148ab2d1",
   "metadata": {},
   "outputs": [
    {
     "data": {
      "text/html": [
       "<div>\n",
       "<style scoped>\n",
       "    .dataframe tbody tr th:only-of-type {\n",
       "        vertical-align: middle;\n",
       "    }\n",
       "\n",
       "    .dataframe tbody tr th {\n",
       "        vertical-align: top;\n",
       "    }\n",
       "\n",
       "    .dataframe thead th {\n",
       "        text-align: right;\n",
       "    }\n",
       "</style>\n",
       "<table border=\"1\" class=\"dataframe\">\n",
       "  <thead>\n",
       "    <tr style=\"text-align: right;\">\n",
       "      <th></th>\n",
       "      <th>XGB_Reg</th>\n",
       "      <th>DT_Reg</th>\n",
       "      <th>GBT_Reg</th>\n",
       "    </tr>\n",
       "  </thead>\n",
       "  <tbody>\n",
       "    <tr>\n",
       "      <th>0</th>\n",
       "      <td>0.444491</td>\n",
       "      <td>0.479570</td>\n",
       "      <td>0.441462</td>\n",
       "    </tr>\n",
       "    <tr>\n",
       "      <th>1</th>\n",
       "      <td>0.234129</td>\n",
       "      <td>0.272792</td>\n",
       "      <td>0.223015</td>\n",
       "    </tr>\n",
       "    <tr>\n",
       "      <th>2</th>\n",
       "      <td>0.714121</td>\n",
       "      <td>0.772836</td>\n",
       "      <td>0.669983</td>\n",
       "    </tr>\n",
       "    <tr>\n",
       "      <th>3</th>\n",
       "      <td>0.394826</td>\n",
       "      <td>0.438000</td>\n",
       "      <td>0.402698</td>\n",
       "    </tr>\n",
       "    <tr>\n",
       "      <th>4</th>\n",
       "      <td>0.626301</td>\n",
       "      <td>0.637560</td>\n",
       "      <td>0.576871</td>\n",
       "    </tr>\n",
       "  </tbody>\n",
       "</table>\n",
       "</div>"
      ],
      "text/plain": [
       "    XGB_Reg    DT_Reg   GBT_Reg\n",
       "0  0.444491  0.479570  0.441462\n",
       "1  0.234129  0.272792  0.223015\n",
       "2  0.714121  0.772836  0.669983\n",
       "3  0.394826  0.438000  0.402698\n",
       "4  0.626301  0.637560  0.576871"
      ]
     },
     "execution_count": 76,
     "metadata": {},
     "output_type": "execute_result"
    }
   ],
   "source": [
    "#Creating a New train dataframe\n",
    "train_prediction = {\n",
    "              'XGB_Reg': M1_train,\n",
    "              'DT_Reg': M2_train,\n",
    "              'GBT_Reg': M3_train\n",
    "              }\n",
    "train_predictions = pd.DataFrame(train_prediction)\n",
    "train_predictions.head()"
   ]
  },
  {
   "cell_type": "code",
   "execution_count": 77,
   "id": "bb53f3ad",
   "metadata": {},
   "outputs": [
    {
     "data": {
      "text/html": [
       "<div>\n",
       "<style scoped>\n",
       "    .dataframe tbody tr th:only-of-type {\n",
       "        vertical-align: middle;\n",
       "    }\n",
       "\n",
       "    .dataframe tbody tr th {\n",
       "        vertical-align: top;\n",
       "    }\n",
       "\n",
       "    .dataframe thead th {\n",
       "        text-align: right;\n",
       "    }\n",
       "</style>\n",
       "<table border=\"1\" class=\"dataframe\">\n",
       "  <thead>\n",
       "    <tr style=\"text-align: right;\">\n",
       "      <th></th>\n",
       "      <th>XGB_Reg</th>\n",
       "      <th>DT_Reg</th>\n",
       "      <th>GBT_Reg</th>\n",
       "    </tr>\n",
       "  </thead>\n",
       "  <tbody>\n",
       "    <tr>\n",
       "      <th>0</th>\n",
       "      <td>0.443504</td>\n",
       "      <td>0.452995</td>\n",
       "      <td>0.479704</td>\n",
       "    </tr>\n",
       "    <tr>\n",
       "      <th>1</th>\n",
       "      <td>0.412514</td>\n",
       "      <td>0.402126</td>\n",
       "      <td>0.412305</td>\n",
       "    </tr>\n",
       "    <tr>\n",
       "      <th>2</th>\n",
       "      <td>0.349566</td>\n",
       "      <td>0.379415</td>\n",
       "      <td>0.333594</td>\n",
       "    </tr>\n",
       "    <tr>\n",
       "      <th>3</th>\n",
       "      <td>0.406550</td>\n",
       "      <td>0.378995</td>\n",
       "      <td>0.437252</td>\n",
       "    </tr>\n",
       "    <tr>\n",
       "      <th>4</th>\n",
       "      <td>0.312728</td>\n",
       "      <td>0.275678</td>\n",
       "      <td>0.342814</td>\n",
       "    </tr>\n",
       "  </tbody>\n",
       "</table>\n",
       "</div>"
      ],
      "text/plain": [
       "    XGB_Reg    DT_Reg   GBT_Reg\n",
       "0  0.443504  0.452995  0.479704\n",
       "1  0.412514  0.402126  0.412305\n",
       "2  0.349566  0.379415  0.333594\n",
       "3  0.406550  0.378995  0.437252\n",
       "4  0.312728  0.275678  0.342814"
      ]
     },
     "execution_count": 77,
     "metadata": {},
     "output_type": "execute_result"
    }
   ],
   "source": [
    "#Creating a New test dataframe\n",
    "test_prediction = {\n",
    "              'XGB_Reg': M1_test,\n",
    "              'DT_Reg': M2_test,\n",
    "              'GBT_Reg': M3_test\n",
    "              }\n",
    "test_predictions = pd.DataFrame(test_prediction)\n",
    "test_predictions.head()"
   ]
  },
  {
   "cell_type": "code",
   "execution_count": 78,
   "id": "2c5d6c20",
   "metadata": {},
   "outputs": [
    {
     "data": {
      "text/plain": [
       "0.6965542446564097"
      ]
     },
     "execution_count": 78,
     "metadata": {},
     "output_type": "execute_result"
    }
   ],
   "source": [
    "# Stacker Model\n",
    "model = XGBRegressor(colsample_bytree=0.7300000000000001, eta=0.2899999999999999, max_depth=6, min_child_weight=0.7400000000000004, n_estimators=158,random_state= 106,)\n",
    "model.fit(train_predictions, train_y)\n",
    "model.score(test_predictions,test_y)"
   ]
  },
  {
   "cell_type": "code",
   "execution_count": 79,
   "id": "62ab2f85",
   "metadata": {
    "scrolled": true
   },
   "outputs": [
    {
     "data": {
      "text/plain": [
       "0.6858171489797249"
      ]
     },
     "execution_count": 79,
     "metadata": {},
     "output_type": "execute_result"
    }
   ],
   "source": [
    "# Stacker Model\n",
    "model = DecisionTreeRegressor(min_samples_leaf=55, min_samples_split=20, random_state=8)\n",
    "model.fit(train_predictions, train_y)\n",
    "model.score(test_predictions,test_y)"
   ]
  },
  {
   "cell_type": "code",
   "execution_count": 80,
   "id": "9bcfd9a7",
   "metadata": {
    "scrolled": false
   },
   "outputs": [
    {
     "data": {
      "text/plain": [
       "0.7008989578506132"
      ]
     },
     "execution_count": 80,
     "metadata": {},
     "output_type": "execute_result"
    }
   ],
   "source": [
    "# Stacker Model\n",
    "model = GradientBoostingRegressor(learning_rate=0.09099999999999993, n_estimators=117, random_state=62)\n",
    "model.fit(train_predictions, train_y)\n",
    "model.score(test_predictions,test_y)"
   ]
  },
  {
   "cell_type": "markdown",
   "id": "4227af31",
   "metadata": {},
   "source": [
    "Let's see the results with other staking alternatives."
   ]
  },
  {
   "cell_type": "code",
   "execution_count": 81,
   "id": "64797635",
   "metadata": {},
   "outputs": [],
   "source": [
    "from sklearn.model_selection import KFold"
   ]
  },
  {
   "cell_type": "markdown",
   "id": "5949041f",
   "metadata": {},
   "source": [
    "<img src=\"stacking image 3.png\" alt=\"Drawing\" style=\"width: 300px;\"/>"
   ]
  },
  {
   "cell_type": "code",
   "execution_count": 82,
   "id": "cb59f3ff",
   "metadata": {},
   "outputs": [],
   "source": [
    "train_x, test_x, train_y, test_y = train_test_split(data,y_all,test_size=1/4, random_state=86, stratify = y_all)"
   ]
  },
  {
   "cell_type": "code",
   "execution_count": 83,
   "id": "b0b44660",
   "metadata": {},
   "outputs": [],
   "source": [
    "##Alternatve of GridSearchCV\n",
    "def kfold_predictions(model, n_splits, train_x, train_y, test_x):\n",
    "    train_pred = np.empty((0,0),float)\n",
    "    skfold = KFold(n_splits,shuffle=True)\n",
    "    \n",
    "    #for every permutation of Kfold\n",
    "    for i,j in skfold.split(train_x,train_y):\n",
    "        x_train, x_test = pd.DataFrame(train_x).iloc[i], pd.DataFrame(train_x).iloc[j]\n",
    "        y_train, y_test = pd.DataFrame(train_y).iloc[i], pd.DataFrame(train_y).iloc[j]\n",
    "        \n",
    "        #Train a model on training set\n",
    "        model.fit(X = x_train, y = y_train)\n",
    "        \n",
    "        #Predict on Chosen group\n",
    "        tmp = model.predict(x_test)\n",
    "        \n",
    "        #Storing train predictions\n",
    "        train_pred = np.append(train_pred,tmp)\n",
    "        \n",
    "    #Training on complete data and generating PRedictions on Test set\n",
    "    model.fit(train_x, train_y)\n",
    "    test_pred = model.predict(test_x)\n",
    "    \n",
    "    return train_pred, test_pred"
   ]
  },
  {
   "cell_type": "code",
   "execution_count": 84,
   "id": "76abe2a7",
   "metadata": {},
   "outputs": [],
   "source": [
    "M1_train, M1_test = kfold_predictions(XGB_Reg, 10, train_x, train_y, test_x) \n",
    "M2_train, M2_test = kfold_predictions(DT_Reg, 10, train_x, train_y, test_x)\n",
    "M3_train, M3_test= kfold_predictions(GBT_Reg, 10, train_x, train_y, test_x) "
   ]
  },
  {
   "cell_type": "code",
   "execution_count": 85,
   "id": "e6dc9c1d",
   "metadata": {},
   "outputs": [
    {
     "data": {
      "text/html": [
       "<div>\n",
       "<style scoped>\n",
       "    .dataframe tbody tr th:only-of-type {\n",
       "        vertical-align: middle;\n",
       "    }\n",
       "\n",
       "    .dataframe tbody tr th {\n",
       "        vertical-align: top;\n",
       "    }\n",
       "\n",
       "    .dataframe thead th {\n",
       "        text-align: right;\n",
       "    }\n",
       "</style>\n",
       "<table border=\"1\" class=\"dataframe\">\n",
       "  <thead>\n",
       "    <tr style=\"text-align: right;\">\n",
       "      <th></th>\n",
       "      <th>XGB_Reg</th>\n",
       "      <th>DT_Reg</th>\n",
       "      <th>GBT_Reg</th>\n",
       "    </tr>\n",
       "  </thead>\n",
       "  <tbody>\n",
       "    <tr>\n",
       "      <th>0</th>\n",
       "      <td>0.453333</td>\n",
       "      <td>0.253763</td>\n",
       "      <td>0.329039</td>\n",
       "    </tr>\n",
       "    <tr>\n",
       "      <th>1</th>\n",
       "      <td>0.600815</td>\n",
       "      <td>0.528915</td>\n",
       "      <td>0.226140</td>\n",
       "    </tr>\n",
       "    <tr>\n",
       "      <th>2</th>\n",
       "      <td>0.335663</td>\n",
       "      <td>0.184271</td>\n",
       "      <td>0.594383</td>\n",
       "    </tr>\n",
       "    <tr>\n",
       "      <th>3</th>\n",
       "      <td>0.244501</td>\n",
       "      <td>0.236833</td>\n",
       "      <td>0.488288</td>\n",
       "    </tr>\n",
       "    <tr>\n",
       "      <th>4</th>\n",
       "      <td>0.522276</td>\n",
       "      <td>0.668627</td>\n",
       "      <td>0.439944</td>\n",
       "    </tr>\n",
       "  </tbody>\n",
       "</table>\n",
       "</div>"
      ],
      "text/plain": [
       "    XGB_Reg    DT_Reg   GBT_Reg\n",
       "0  0.453333  0.253763  0.329039\n",
       "1  0.600815  0.528915  0.226140\n",
       "2  0.335663  0.184271  0.594383\n",
       "3  0.244501  0.236833  0.488288\n",
       "4  0.522276  0.668627  0.439944"
      ]
     },
     "execution_count": 85,
     "metadata": {},
     "output_type": "execute_result"
    }
   ],
   "source": [
    "#Creating a New train dataframe\n",
    "train_prediction = {\n",
    "              'XGB_Reg': M1_train,\n",
    "              'DT_Reg': M2_train,\n",
    "              'GBT_Reg': M3_train\n",
    "              }\n",
    "train_predictions = pd.DataFrame(train_prediction)\n",
    "train_predictions.head()"
   ]
  },
  {
   "cell_type": "code",
   "execution_count": 86,
   "id": "bba90140",
   "metadata": {},
   "outputs": [
    {
     "data": {
      "text/html": [
       "<div>\n",
       "<style scoped>\n",
       "    .dataframe tbody tr th:only-of-type {\n",
       "        vertical-align: middle;\n",
       "    }\n",
       "\n",
       "    .dataframe tbody tr th {\n",
       "        vertical-align: top;\n",
       "    }\n",
       "\n",
       "    .dataframe thead th {\n",
       "        text-align: right;\n",
       "    }\n",
       "</style>\n",
       "<table border=\"1\" class=\"dataframe\">\n",
       "  <thead>\n",
       "    <tr style=\"text-align: right;\">\n",
       "      <th></th>\n",
       "      <th>XGB_Reg</th>\n",
       "      <th>DT_Reg</th>\n",
       "      <th>GBT_Reg</th>\n",
       "    </tr>\n",
       "  </thead>\n",
       "  <tbody>\n",
       "    <tr>\n",
       "      <th>0</th>\n",
       "      <td>0.443504</td>\n",
       "      <td>0.452995</td>\n",
       "      <td>0.479704</td>\n",
       "    </tr>\n",
       "    <tr>\n",
       "      <th>1</th>\n",
       "      <td>0.412514</td>\n",
       "      <td>0.402126</td>\n",
       "      <td>0.412305</td>\n",
       "    </tr>\n",
       "    <tr>\n",
       "      <th>2</th>\n",
       "      <td>0.349566</td>\n",
       "      <td>0.379415</td>\n",
       "      <td>0.333594</td>\n",
       "    </tr>\n",
       "    <tr>\n",
       "      <th>3</th>\n",
       "      <td>0.406550</td>\n",
       "      <td>0.378995</td>\n",
       "      <td>0.437252</td>\n",
       "    </tr>\n",
       "    <tr>\n",
       "      <th>4</th>\n",
       "      <td>0.312728</td>\n",
       "      <td>0.275678</td>\n",
       "      <td>0.342814</td>\n",
       "    </tr>\n",
       "  </tbody>\n",
       "</table>\n",
       "</div>"
      ],
      "text/plain": [
       "    XGB_Reg    DT_Reg   GBT_Reg\n",
       "0  0.443504  0.452995  0.479704\n",
       "1  0.412514  0.402126  0.412305\n",
       "2  0.349566  0.379415  0.333594\n",
       "3  0.406550  0.378995  0.437252\n",
       "4  0.312728  0.275678  0.342814"
      ]
     },
     "execution_count": 86,
     "metadata": {},
     "output_type": "execute_result"
    }
   ],
   "source": [
    "#Creating a New test dataframe\n",
    "test_prediction = {\n",
    "              'XGB_Reg': M1_test,\n",
    "              'DT_Reg': M2_test,\n",
    "              'GBT_Reg': M3_test\n",
    "              }\n",
    "test_predictions = pd.DataFrame(test_prediction)\n",
    "test_predictions.head()"
   ]
  },
  {
   "cell_type": "code",
   "execution_count": 87,
   "id": "1ffcf229",
   "metadata": {},
   "outputs": [
    {
     "name": "stdout",
     "output_type": "stream",
     "text": [
      "-0.012503487108870948\n",
      "-0.012503487108870948 0.0644461114230089\n"
     ]
    }
   ],
   "source": [
    "# Final Model taking the previous predictions as training set : Let's try with XGB Regressor\n",
    "model= XGBRegressor(colsample_bytree=0.7300000000000001, eta=0.2899999999999999, max_depth=6, min_child_weight=0.7400000000000004, n_estimators=158,random_state= 106,)\n",
    "model.fit(train_predictions.values, train_y)\n",
    "final = model.predict(test_predictions.values)\n",
    "print(model.score(test_predictions,test_y))\n",
    "print(r2_score(test_y,final.reshape(-1,1)) ,mse(test_y,final.reshape(-1,1)))\n"
   ]
  },
  {
   "cell_type": "code",
   "execution_count": 88,
   "id": "73fbedee",
   "metadata": {},
   "outputs": [
    {
     "name": "stdout",
     "output_type": "stream",
     "text": [
      "-0.05920509270552299\n",
      "-0.05920509270552299 0.06741868081781598\n"
     ]
    }
   ],
   "source": [
    "model= DecisionTreeRegressor(min_samples_leaf=55, min_samples_split=20, random_state=8)\n",
    "model.fit(train_predictions, train_y)\n",
    "final = model.predict(test_predictions)\n",
    "print(model.score(test_predictions,test_y))\n",
    "print(r2_score(test_y,final.reshape(-1,1)) ,mse(test_y,final.reshape(-1,1)))\n"
   ]
  },
  {
   "cell_type": "code",
   "execution_count": 89,
   "id": "b05cba6e",
   "metadata": {},
   "outputs": [
    {
     "name": "stdout",
     "output_type": "stream",
     "text": [
      "-0.008272076609796342\n",
      "-0.008272076609796342 0.06417678103948746\n"
     ]
    }
   ],
   "source": [
    "model= GradientBoostingRegressor(learning_rate=0.09099999999999993, n_estimators=117, random_state=62)\n",
    "model.fit(train_predictions, train_y)\n",
    "final = model.predict(test_predictions)\n",
    "print(model.score(test_predictions,test_y))\n",
    "print(r2_score(test_y,final.reshape(-1,1)) ,mse(test_y,final.reshape(-1,1)))\n"
   ]
  },
  {
   "cell_type": "markdown",
   "id": "d26e926e",
   "metadata": {},
   "source": [
    "The stacking seems leads a lot of overfitting. The MSE score is better but the R² score is very bad."
   ]
  },
  {
   "cell_type": "markdown",
   "id": "a5118887",
   "metadata": {},
   "source": [
    "#### Blending"
   ]
  },
  {
   "cell_type": "code",
   "execution_count": 90,
   "id": "46dc301c",
   "metadata": {},
   "outputs": [],
   "source": [
    "train_x, test_x, train_y, test_y = train_test_split(data,y_all,test_size=1/4, random_state=86, stratify = y_all)"
   ]
  },
  {
   "cell_type": "markdown",
   "id": "11ba9040",
   "metadata": {},
   "source": [
    "<img src=\"stacking image 5.png\" alt=\"Drawing\" style=\"width:300px;\"/>\n"
   ]
  },
  {
   "cell_type": "code",
   "execution_count": 91,
   "id": "d24c6beb",
   "metadata": {},
   "outputs": [],
   "source": [
    "def blending(model, train_x, train_y, test_x,new_values=test_x):\n",
    "    #train validation split\n",
    "    x_train, x_valid, y_train, y_valid = train_test_split(train_x, train_y,test_size=1/4, random_state=62)\n",
    "    \n",
    "    #fit on training\n",
    "    model.fit(x_train, y_train)\n",
    "    \n",
    "    #predict on validation and test\n",
    "    valid_pred = model.predict(x_valid)\n",
    "    score=r2_score(y_valid,valid_pred)\n",
    "    print('Validation Score', score)\n",
    "    \n",
    "    test_pred=model.predict(test_x)\n",
    "\n",
    "    res_new_values = model.predict(new_values)\n",
    "    #return validation pred, test pred\n",
    "    return valid_pred, y_valid, test_pred,res_new_values"
   ]
  },
  {
   "cell_type": "code",
   "execution_count": 92,
   "id": "d0d07d66",
   "metadata": {},
   "outputs": [
    {
     "name": "stdout",
     "output_type": "stream",
     "text": [
      "Validation Score 0.7019329568677013\n"
     ]
    }
   ],
   "source": [
    "M1_valid, M1_target, M1_test,M1_res = blending(XGB_Reg, train_x, train_y, test_x,test_x)"
   ]
  },
  {
   "cell_type": "code",
   "execution_count": 93,
   "id": "8005f752",
   "metadata": {
    "scrolled": true
   },
   "outputs": [
    {
     "name": "stdout",
     "output_type": "stream",
     "text": [
      "Validation Score 0.6849645087072977\n"
     ]
    }
   ],
   "source": [
    "M2_valid, M2_target, M2_test,M2_res = blending(DT_Reg, train_x, train_y, test_x,test_x)"
   ]
  },
  {
   "cell_type": "code",
   "execution_count": 94,
   "id": "d48b5010",
   "metadata": {},
   "outputs": [
    {
     "name": "stdout",
     "output_type": "stream",
     "text": [
      "Validation Score 0.6903360138758667\n"
     ]
    }
   ],
   "source": [
    "M3_valid, M3_target, M3_test,M3_res = blending(GBT_Reg, train_x, train_y, test_x,test_x)"
   ]
  },
  {
   "cell_type": "code",
   "execution_count": 95,
   "id": "020fb18c",
   "metadata": {
    "scrolled": true
   },
   "outputs": [
    {
     "data": {
      "text/html": [
       "<div>\n",
       "<style scoped>\n",
       "    .dataframe tbody tr th:only-of-type {\n",
       "        vertical-align: middle;\n",
       "    }\n",
       "\n",
       "    .dataframe tbody tr th {\n",
       "        vertical-align: top;\n",
       "    }\n",
       "\n",
       "    .dataframe thead th {\n",
       "        text-align: right;\n",
       "    }\n",
       "</style>\n",
       "<table border=\"1\" class=\"dataframe\">\n",
       "  <thead>\n",
       "    <tr style=\"text-align: right;\">\n",
       "      <th></th>\n",
       "      <th>XGB_Reg</th>\n",
       "      <th>DT_Reg</th>\n",
       "      <th>GBT_Reg</th>\n",
       "    </tr>\n",
       "  </thead>\n",
       "  <tbody>\n",
       "    <tr>\n",
       "      <th>0</th>\n",
       "      <td>0.441477</td>\n",
       "      <td>0.485332</td>\n",
       "      <td>0.440502</td>\n",
       "    </tr>\n",
       "    <tr>\n",
       "      <th>1</th>\n",
       "      <td>0.357442</td>\n",
       "      <td>0.367384</td>\n",
       "      <td>0.373364</td>\n",
       "    </tr>\n",
       "    <tr>\n",
       "      <th>2</th>\n",
       "      <td>0.138567</td>\n",
       "      <td>0.198551</td>\n",
       "      <td>0.164449</td>\n",
       "    </tr>\n",
       "    <tr>\n",
       "      <th>3</th>\n",
       "      <td>0.318411</td>\n",
       "      <td>0.357561</td>\n",
       "      <td>0.307275</td>\n",
       "    </tr>\n",
       "    <tr>\n",
       "      <th>4</th>\n",
       "      <td>0.276895</td>\n",
       "      <td>0.295486</td>\n",
       "      <td>0.329409</td>\n",
       "    </tr>\n",
       "  </tbody>\n",
       "</table>\n",
       "</div>"
      ],
      "text/plain": [
       "    XGB_Reg    DT_Reg   GBT_Reg\n",
       "0  0.441477  0.485332  0.440502\n",
       "1  0.357442  0.367384  0.373364\n",
       "2  0.138567  0.198551  0.164449\n",
       "3  0.318411  0.357561  0.307275\n",
       "4  0.276895  0.295486  0.329409"
      ]
     },
     "execution_count": 95,
     "metadata": {},
     "output_type": "execute_result"
    }
   ],
   "source": [
    "valid_prediction = {\n",
    "              'XGB_Reg': M1_valid,\n",
    "              'DT_Reg': M2_valid,\n",
    "              'GBT_Reg': M3_valid\n",
    "              }\n",
    "new_train = pd.DataFrame(valid_prediction)\n",
    "new_train.head()"
   ]
  },
  {
   "cell_type": "code",
   "execution_count": 96,
   "id": "af853bec",
   "metadata": {
    "scrolled": false
   },
   "outputs": [
    {
     "data": {
      "text/html": [
       "<div>\n",
       "<style scoped>\n",
       "    .dataframe tbody tr th:only-of-type {\n",
       "        vertical-align: middle;\n",
       "    }\n",
       "\n",
       "    .dataframe tbody tr th {\n",
       "        vertical-align: top;\n",
       "    }\n",
       "\n",
       "    .dataframe thead th {\n",
       "        text-align: right;\n",
       "    }\n",
       "</style>\n",
       "<table border=\"1\" class=\"dataframe\">\n",
       "  <thead>\n",
       "    <tr style=\"text-align: right;\">\n",
       "      <th></th>\n",
       "      <th>XGB_Reg</th>\n",
       "      <th>DT_Reg</th>\n",
       "      <th>GBT_Reg</th>\n",
       "    </tr>\n",
       "  </thead>\n",
       "  <tbody>\n",
       "    <tr>\n",
       "      <th>0</th>\n",
       "      <td>0.447408</td>\n",
       "      <td>0.494212</td>\n",
       "      <td>0.469518</td>\n",
       "    </tr>\n",
       "    <tr>\n",
       "      <th>1</th>\n",
       "      <td>0.425626</td>\n",
       "      <td>0.402555</td>\n",
       "      <td>0.414064</td>\n",
       "    </tr>\n",
       "    <tr>\n",
       "      <th>2</th>\n",
       "      <td>0.348992</td>\n",
       "      <td>0.385678</td>\n",
       "      <td>0.336256</td>\n",
       "    </tr>\n",
       "    <tr>\n",
       "      <th>3</th>\n",
       "      <td>0.420657</td>\n",
       "      <td>0.393473</td>\n",
       "      <td>0.424860</td>\n",
       "    </tr>\n",
       "    <tr>\n",
       "      <th>4</th>\n",
       "      <td>0.303107</td>\n",
       "      <td>0.288306</td>\n",
       "      <td>0.346522</td>\n",
       "    </tr>\n",
       "  </tbody>\n",
       "</table>\n",
       "</div>"
      ],
      "text/plain": [
       "    XGB_Reg    DT_Reg   GBT_Reg\n",
       "0  0.447408  0.494212  0.469518\n",
       "1  0.425626  0.402555  0.414064\n",
       "2  0.348992  0.385678  0.336256\n",
       "3  0.420657  0.393473  0.424860\n",
       "4  0.303107  0.288306  0.346522"
      ]
     },
     "execution_count": 96,
     "metadata": {},
     "output_type": "execute_result"
    }
   ],
   "source": [
    "test_prediction = {\n",
    "              'XGB_Reg': M1_test,\n",
    "              'DT_Reg': M2_test,\n",
    "              'GBT_Reg': M3_test\n",
    "              }\n",
    "new_test = pd.DataFrame(test_prediction)\n",
    "new_test.head()"
   ]
  },
  {
   "cell_type": "code",
   "execution_count": 97,
   "id": "1506faac",
   "metadata": {},
   "outputs": [
    {
     "data": {
      "text/html": [
       "<div>\n",
       "<style scoped>\n",
       "    .dataframe tbody tr th:only-of-type {\n",
       "        vertical-align: middle;\n",
       "    }\n",
       "\n",
       "    .dataframe tbody tr th {\n",
       "        vertical-align: top;\n",
       "    }\n",
       "\n",
       "    .dataframe thead th {\n",
       "        text-align: right;\n",
       "    }\n",
       "</style>\n",
       "<table border=\"1\" class=\"dataframe\">\n",
       "  <thead>\n",
       "    <tr style=\"text-align: right;\">\n",
       "      <th></th>\n",
       "      <th>XGB_Reg</th>\n",
       "      <th>DT_Reg</th>\n",
       "      <th>GBT_Reg</th>\n",
       "    </tr>\n",
       "  </thead>\n",
       "  <tbody>\n",
       "    <tr>\n",
       "      <th>0</th>\n",
       "      <td>0.447408</td>\n",
       "      <td>0.494212</td>\n",
       "      <td>0.469518</td>\n",
       "    </tr>\n",
       "    <tr>\n",
       "      <th>1</th>\n",
       "      <td>0.425626</td>\n",
       "      <td>0.402555</td>\n",
       "      <td>0.414064</td>\n",
       "    </tr>\n",
       "    <tr>\n",
       "      <th>2</th>\n",
       "      <td>0.348992</td>\n",
       "      <td>0.385678</td>\n",
       "      <td>0.336256</td>\n",
       "    </tr>\n",
       "    <tr>\n",
       "      <th>3</th>\n",
       "      <td>0.420657</td>\n",
       "      <td>0.393473</td>\n",
       "      <td>0.424860</td>\n",
       "    </tr>\n",
       "    <tr>\n",
       "      <th>4</th>\n",
       "      <td>0.303107</td>\n",
       "      <td>0.288306</td>\n",
       "      <td>0.346522</td>\n",
       "    </tr>\n",
       "  </tbody>\n",
       "</table>\n",
       "</div>"
      ],
      "text/plain": [
       "    XGB_Reg    DT_Reg   GBT_Reg\n",
       "0  0.447408  0.494212  0.469518\n",
       "1  0.425626  0.402555  0.414064\n",
       "2  0.348992  0.385678  0.336256\n",
       "3  0.420657  0.393473  0.424860\n",
       "4  0.303107  0.288306  0.346522"
      ]
     },
     "execution_count": 97,
     "metadata": {},
     "output_type": "execute_result"
    }
   ],
   "source": [
    "try_test_prediction = {\n",
    "              'XGB_Reg': M1_res,\n",
    "              'DT_Reg': M2_res,\n",
    "              'GBT_Reg': M3_res\n",
    "              }\n",
    "new_test_res = pd.DataFrame(test_prediction)\n",
    "new_test_res.head()"
   ]
  },
  {
   "cell_type": "code",
   "execution_count": 98,
   "id": "d771480d",
   "metadata": {},
   "outputs": [
    {
     "data": {
      "text/plain": [
       "0.7010429080370457"
      ]
     },
     "execution_count": 98,
     "metadata": {},
     "output_type": "execute_result"
    }
   ],
   "source": [
    "# Final Model\n",
    "model1 = XGBRegressor(colsample_bytree=0.7300000000000001, eta=0.2899999999999999, max_depth=6, min_child_weight=0.7400000000000004, n_estimators=158,random_state= 106)\n",
    "model1.fit(new_train, M1_target)\n",
    "model1.score(new_test,test_y)"
   ]
  },
  {
   "cell_type": "code",
   "execution_count": 99,
   "id": "4d7ee57f",
   "metadata": {},
   "outputs": [
    {
     "data": {
      "text/plain": [
       "0.6902003826769985"
      ]
     },
     "execution_count": 99,
     "metadata": {},
     "output_type": "execute_result"
    }
   ],
   "source": [
    "# Final Model\n",
    "model2 = DecisionTreeRegressor(min_samples_leaf=55, min_samples_split=20, random_state=8)\n",
    "model2.fit(new_train, M2_target)\n",
    "model2.score(new_test,test_y)"
   ]
  },
  {
   "cell_type": "code",
   "execution_count": 100,
   "id": "46e7ef39",
   "metadata": {},
   "outputs": [
    {
     "data": {
      "text/plain": [
       "0.7056889617024598"
      ]
     },
     "execution_count": 100,
     "metadata": {},
     "output_type": "execute_result"
    }
   ],
   "source": [
    "# Final Model\n",
    "model3 = GradientBoostingRegressor(learning_rate=0.09099999999999993, n_estimators=117, random_state=62)\n",
    "model3.fit(new_train, M3_target)\n",
    "model3.score(new_test,test_y)"
   ]
  },
  {
   "cell_type": "code",
   "execution_count": 101,
   "id": "8a69d947",
   "metadata": {
    "scrolled": true
   },
   "outputs": [
    {
     "data": {
      "text/plain": [
       "(0.7010429080370457, 0.019028696991807596)"
      ]
     },
     "execution_count": 101,
     "metadata": {},
     "output_type": "execute_result"
    }
   ],
   "source": [
    "res = model1.predict(new_test_res)\n",
    "res = res.reshape(-1,1)\n",
    "r2_score(test_y,res), mse(res,test_y)"
   ]
  },
  {
   "cell_type": "code",
   "execution_count": 102,
   "id": "0593f41d",
   "metadata": {},
   "outputs": [
    {
     "data": {
      "text/plain": [
       "(0.5704826309604404, 0.019718826563070266)"
      ]
     },
     "execution_count": 102,
     "metadata": {},
     "output_type": "execute_result"
    }
   ],
   "source": [
    "res = model2.predict(new_test_res)\n",
    "res = res.reshape(-1,1)\n",
    "r2_score(res,test_y), mse(res,test_y)"
   ]
  },
  {
   "cell_type": "code",
   "execution_count": 103,
   "id": "a91d957c",
   "metadata": {},
   "outputs": [
    {
     "data": {
      "text/plain": [
       "(0.5814452610961405, 0.018732974462442764)"
      ]
     },
     "execution_count": 103,
     "metadata": {},
     "output_type": "execute_result"
    }
   ],
   "source": [
    "res = model3.predict(new_test_res)\n",
    "res = res.reshape(-1,1)\n",
    "r2_score(res,test_y), mse(res,test_y)"
   ]
  },
  {
   "cell_type": "markdown",
   "id": "c171be68",
   "metadata": {},
   "source": [
    "The better stacking model with blending is the Gradient Boosting Regressor."
   ]
  },
  {
   "cell_type": "markdown",
   "id": "c54e868d",
   "metadata": {},
   "source": [
    "# Summary of Models for this problem"
   ]
  },
  {
   "cell_type": "markdown",
   "id": "8f4abc30",
   "metadata": {},
   "source": [
    "The better model for our problem based on our computations is the XGB (Extra Gradient Boost) Regressor with a **R²** score of **0.7057838283710374** and a **mean squared error** of **0.018726936174208376**.\n",
    "Despite the multiple methods and technics applied to build ensemble from 6 of differents models selected, the performance did not increase. Maybe with others models and technics we could have better accuracy. However that can happen to have bettest accuracy with single models. \n"
   ]
  },
  {
   "cell_type": "code",
   "execution_count": null,
   "id": "ae92fa4f",
   "metadata": {},
   "outputs": [],
   "source": []
  }
 ],
 "metadata": {
  "kernelspec": {
   "display_name": "Python 3 (ipykernel)",
   "language": "python",
   "name": "python3"
  },
  "language_info": {
   "codemirror_mode": {
    "name": "ipython",
    "version": 3
   },
   "file_extension": ".py",
   "mimetype": "text/x-python",
   "name": "python",
   "nbconvert_exporter": "python",
   "pygments_lexer": "ipython3",
   "version": "3.10.9"
  }
 },
 "nbformat": 4,
 "nbformat_minor": 5
}
